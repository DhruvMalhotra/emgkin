{
 "cells": [
  {
   "cell_type": "code",
   "execution_count": 69,
   "metadata": {},
   "outputs": [],
   "source": [
    "import wfdb\n",
    "import numpy as np\n",
    "import pygame\n",
    "\n",
    "pygame.init()\n",
    "font = pygame.font.Font(None, 36)\n",
    "\n",
    "def get_color(value):\n",
    "    value = min(value, 1)\n",
    "    value = max(value, 0)\n",
    "    # Example color mapping function\n",
    "    return int(value * 255), 0, 255 - int(value * 255)\n",
    "\n",
    "def viz_emg(screen, emg_frame):\n",
    "    left = 50\n",
    "    top = 50\n",
    "    scale = 30\n",
    "    size = 1\n",
    "    \n",
    "    for i in range(4):\n",
    "        for j in range(8):\n",
    "            for k in range(8):\n",
    "                pygame.draw.rect(screen, get_color(emg_frame[i*64+j*k]),\n",
    "                                 (left+(i//2)*scale*10+scale*j,\n",
    "                                  top+(i%2)*scale*10+scale*k,\n",
    "                                  scale*size,\n",
    "                                  scale*size))"
   ]
  },
  {
   "cell_type": "code",
   "execution_count": 70,
   "metadata": {},
   "outputs": [
    {
     "name": "stdout",
     "output_type": "stream",
     "text": [
      "{'record_name': 'dynamic_preprocess_sample1', 'n_sig': 256, 'fs': 2048, 'counter_freq': None, 'base_counter': None, 'sig_len': 2048, 'base_time': None, 'base_date': None, 'comments': [], 'sig_name': ['ED-8-8', 'ED-8-7', 'ED-8-6', 'ED-8-5', 'ED-8-4', 'ED-8-3', 'ED-8-2', 'ED-8-1', 'ED-7-8', 'ED-7-7', 'ED-7-6', 'ED-7-5', 'ED-7-4', 'ED-7-3', 'ED-7-2', 'ED-7-1', 'ED-6-8', 'ED-6-7', 'ED-6-6', 'ED-6-5', 'ED-6-4', 'ED-6-3', 'ED-6-2', 'ED-6-1', 'ED-5-8', 'ED-5-7', 'ED-5-6', 'ED-5-5', 'ED-5-4', 'ED-5-3', 'ED-5-2', 'ED-5-1', 'ED-4-8', 'ED-4-7', 'ED-4-6', 'ED-4-5', 'ED-4-4', 'ED-4-3', 'ED-4-2', 'ED-4-1', 'ED-3-8', 'ED-3-7', 'ED-3-6', 'ED-3-5', 'ED-3-4', 'ED-3-3', 'ED-3-2', 'ED-3-1', 'ED-2-8', 'ED-2-7', 'ED-2-6', 'ED-2-5', 'ED-2-4', 'ED-2-3', 'ED-2-2', 'ED-2-1', 'ED-1-8', 'ED-1-7', 'ED-1-6', 'ED-1-5', 'ED-1-4', 'ED-1-3', 'ED-1-2', 'ED-1-1', 'EP-8-8', 'EP-8-7', 'EP-8-6', 'EP-8-5', 'EP-8-4', 'EP-8-3', 'EP-8-2', 'EP-8-1', 'EP-7-8', 'EP-7-7', 'EP-7-6', 'EP-7-5', 'EP-7-4', 'EP-7-3', 'EP-7-2', 'EP-7-1', 'EP-6-8', 'EP-6-7', 'EP-6-6', 'EP-6-5', 'EP-6-4', 'EP-6-3', 'EP-6-2', 'EP-6-1', 'EP-5-8', 'EP-5-7', 'EP-5-6', 'EP-5-5', 'EP-5-4', 'EP-5-3', 'EP-5-2', 'EP-5-1', 'EP-4-8', 'EP-4-7', 'EP-4-6', 'EP-4-5', 'EP-4-4', 'EP-4-3', 'EP-4-2', 'EP-4-1', 'EP-3-8', 'EP-3-7', 'EP-3-6', 'EP-3-5', 'EP-3-4', 'EP-3-3', 'EP-3-2', 'EP-3-1', 'EP-2-8', 'EP-2-7', 'EP-2-6', 'EP-2-5', 'EP-2-4', 'EP-2-3', 'EP-2-2', 'EP-2-1', 'EP-1-8', 'EP-1-7', 'EP-1-6', 'EP-1-5', 'EP-1-4', 'EP-1-3', 'EP-1-2', 'EP-1-1', 'FD-8-8', 'FD-8-7', 'FD-8-6', 'FD-8-5', 'FD-8-4', 'FD-8-3', 'FD-8-2', 'FD-8-1', 'FD-7-8', 'FD-7-7', 'FD-7-6', 'FD-7-5', 'FD-7-4', 'FD-7-3', 'FD-7-2', 'FD-7-1', 'FD-6-8', 'FD-6-7', 'FD-6-6', 'FD-6-5', 'FD-6-4', 'FD-6-3', 'FD-6-2', 'FD-6-1', 'FD-5-8', 'FD-5-7', 'FD-5-6', 'FD-5-5', 'FD-5-4', 'FD-5-3', 'FD-5-2', 'FD-5-1', 'FD-4-8', 'FD-4-7', 'FD-4-6', 'FD-4-5', 'FD-4-4', 'FD-4-3', 'FD-4-2', 'FD-4-1', 'FD-3-8', 'FD-3-7', 'FD-3-6', 'FD-3-5', 'FD-3-4', 'FD-3-3', 'FD-3-2', 'FD-3-1', 'FD-2-8', 'FD-2-7', 'FD-2-6', 'FD-2-5', 'FD-2-4', 'FD-2-3', 'FD-2-2', 'FD-2-1', 'FD-1-8', 'FD-1-7', 'FD-1-6', 'FD-1-5', 'FD-1-4', 'FD-1-3', 'FD-1-2', 'FD-1-1', 'FP-8-8', 'FP-8-7', 'FP-8-6', 'FP-8-5', 'FP-8-4', 'FP-8-3', 'FP-8-2', 'FP-8-1', 'FP-7-8', 'FP-7-7', 'FP-7-6', 'FP-7-5', 'FP-7-4', 'FP-7-3', 'FP-7-2', 'FP-7-1', 'FP-6-8', 'FP-6-7', 'FP-6-6', 'FP-6-5', 'FP-6-4', 'FP-6-3', 'FP-6-2', 'FP-6-1', 'FP-5-8', 'FP-5-7', 'FP-5-6', 'FP-5-5', 'FP-5-4', 'FP-5-3', 'FP-5-2', 'FP-5-1', 'FP-4-8', 'FP-4-7', 'FP-4-6', 'FP-4-5', 'FP-4-4', 'FP-4-3', 'FP-4-2', 'FP-4-1', 'FP-3-8', 'FP-3-7', 'FP-3-6', 'FP-3-5', 'FP-3-4', 'FP-3-3', 'FP-3-2', 'FP-3-1', 'FP-2-8', 'FP-2-7', 'FP-2-6', 'FP-2-5', 'FP-2-4', 'FP-2-3', 'FP-2-2', 'FP-2-1', 'FP-1-8', 'FP-1-7', 'FP-1-6', 'FP-1-5', 'FP-1-4', 'FP-1-3', 'FP-1-2', 'FP-1-1'], 'p_signal': array([[-0.0043123 , -0.00476126, -0.00412737, ..., -0.00854656,\n",
      "        -0.00685351, -0.01262754],\n",
      "       [-0.0003243 ,  0.00112355, -0.00181728, ..., -0.00613167,\n",
      "        -0.00628637, -0.01043886],\n",
      "       [-0.00154261,  0.0005894 , -0.00398364, ..., -0.00248235,\n",
      "        -0.00425697, -0.00476819],\n",
      "       ...,\n",
      "       [-0.05569174, -0.0579271 , -0.04964144, ..., -0.07800505,\n",
      "        -0.07315423, -0.06802672],\n",
      "       [-0.03774136, -0.03484836, -0.02544188, ..., -0.04108014,\n",
      "        -0.03710325, -0.03619138],\n",
      "       [ 0.04816275,  0.05920721,  0.0709662 , ...,  0.05258123,\n",
      "         0.05563438,  0.05299021]]), 'd_signal': None, 'e_p_signal': None, 'e_d_signal': None, 'file_name': ['dynamic_preprocess_sample1.dat', 'dynamic_preprocess_sample1.dat', 'dynamic_preprocess_sample1.dat', 'dynamic_preprocess_sample1.dat', 'dynamic_preprocess_sample1.dat', 'dynamic_preprocess_sample1.dat', 'dynamic_preprocess_sample1.dat', 'dynamic_preprocess_sample1.dat', 'dynamic_preprocess_sample1.dat', 'dynamic_preprocess_sample1.dat', 'dynamic_preprocess_sample1.dat', 'dynamic_preprocess_sample1.dat', 'dynamic_preprocess_sample1.dat', 'dynamic_preprocess_sample1.dat', 'dynamic_preprocess_sample1.dat', 'dynamic_preprocess_sample1.dat', 'dynamic_preprocess_sample1.dat', 'dynamic_preprocess_sample1.dat', 'dynamic_preprocess_sample1.dat', 'dynamic_preprocess_sample1.dat', 'dynamic_preprocess_sample1.dat', 'dynamic_preprocess_sample1.dat', 'dynamic_preprocess_sample1.dat', 'dynamic_preprocess_sample1.dat', 'dynamic_preprocess_sample1.dat', 'dynamic_preprocess_sample1.dat', 'dynamic_preprocess_sample1.dat', 'dynamic_preprocess_sample1.dat', 'dynamic_preprocess_sample1.dat', 'dynamic_preprocess_sample1.dat', 'dynamic_preprocess_sample1.dat', 'dynamic_preprocess_sample1.dat', 'dynamic_preprocess_sample1.dat', 'dynamic_preprocess_sample1.dat', 'dynamic_preprocess_sample1.dat', 'dynamic_preprocess_sample1.dat', 'dynamic_preprocess_sample1.dat', 'dynamic_preprocess_sample1.dat', 'dynamic_preprocess_sample1.dat', 'dynamic_preprocess_sample1.dat', 'dynamic_preprocess_sample1.dat', 'dynamic_preprocess_sample1.dat', 'dynamic_preprocess_sample1.dat', 'dynamic_preprocess_sample1.dat', 'dynamic_preprocess_sample1.dat', 'dynamic_preprocess_sample1.dat', 'dynamic_preprocess_sample1.dat', 'dynamic_preprocess_sample1.dat', 'dynamic_preprocess_sample1.dat', 'dynamic_preprocess_sample1.dat', 'dynamic_preprocess_sample1.dat', 'dynamic_preprocess_sample1.dat', 'dynamic_preprocess_sample1.dat', 'dynamic_preprocess_sample1.dat', 'dynamic_preprocess_sample1.dat', 'dynamic_preprocess_sample1.dat', 'dynamic_preprocess_sample1.dat', 'dynamic_preprocess_sample1.dat', 'dynamic_preprocess_sample1.dat', 'dynamic_preprocess_sample1.dat', 'dynamic_preprocess_sample1.dat', 'dynamic_preprocess_sample1.dat', 'dynamic_preprocess_sample1.dat', 'dynamic_preprocess_sample1.dat', 'dynamic_preprocess_sample1.dat', 'dynamic_preprocess_sample1.dat', 'dynamic_preprocess_sample1.dat', 'dynamic_preprocess_sample1.dat', 'dynamic_preprocess_sample1.dat', 'dynamic_preprocess_sample1.dat', 'dynamic_preprocess_sample1.dat', 'dynamic_preprocess_sample1.dat', 'dynamic_preprocess_sample1.dat', 'dynamic_preprocess_sample1.dat', 'dynamic_preprocess_sample1.dat', 'dynamic_preprocess_sample1.dat', 'dynamic_preprocess_sample1.dat', 'dynamic_preprocess_sample1.dat', 'dynamic_preprocess_sample1.dat', 'dynamic_preprocess_sample1.dat', 'dynamic_preprocess_sample1.dat', 'dynamic_preprocess_sample1.dat', 'dynamic_preprocess_sample1.dat', 'dynamic_preprocess_sample1.dat', 'dynamic_preprocess_sample1.dat', 'dynamic_preprocess_sample1.dat', 'dynamic_preprocess_sample1.dat', 'dynamic_preprocess_sample1.dat', 'dynamic_preprocess_sample1.dat', 'dynamic_preprocess_sample1.dat', 'dynamic_preprocess_sample1.dat', 'dynamic_preprocess_sample1.dat', 'dynamic_preprocess_sample1.dat', 'dynamic_preprocess_sample1.dat', 'dynamic_preprocess_sample1.dat', 'dynamic_preprocess_sample1.dat', 'dynamic_preprocess_sample1.dat', 'dynamic_preprocess_sample1.dat', 'dynamic_preprocess_sample1.dat', 'dynamic_preprocess_sample1.dat', 'dynamic_preprocess_sample1.dat', 'dynamic_preprocess_sample1.dat', 'dynamic_preprocess_sample1.dat', 'dynamic_preprocess_sample1.dat', 'dynamic_preprocess_sample1.dat', 'dynamic_preprocess_sample1.dat', 'dynamic_preprocess_sample1.dat', 'dynamic_preprocess_sample1.dat', 'dynamic_preprocess_sample1.dat', 'dynamic_preprocess_sample1.dat', 'dynamic_preprocess_sample1.dat', 'dynamic_preprocess_sample1.dat', 'dynamic_preprocess_sample1.dat', 'dynamic_preprocess_sample1.dat', 'dynamic_preprocess_sample1.dat', 'dynamic_preprocess_sample1.dat', 'dynamic_preprocess_sample1.dat', 'dynamic_preprocess_sample1.dat', 'dynamic_preprocess_sample1.dat', 'dynamic_preprocess_sample1.dat', 'dynamic_preprocess_sample1.dat', 'dynamic_preprocess_sample1.dat', 'dynamic_preprocess_sample1.dat', 'dynamic_preprocess_sample1.dat', 'dynamic_preprocess_sample1.dat', 'dynamic_preprocess_sample1.dat', 'dynamic_preprocess_sample1.dat', 'dynamic_preprocess_sample1.dat', 'dynamic_preprocess_sample1.dat', 'dynamic_preprocess_sample1.dat', 'dynamic_preprocess_sample1.dat', 'dynamic_preprocess_sample1.dat', 'dynamic_preprocess_sample1.dat', 'dynamic_preprocess_sample1.dat', 'dynamic_preprocess_sample1.dat', 'dynamic_preprocess_sample1.dat', 'dynamic_preprocess_sample1.dat', 'dynamic_preprocess_sample1.dat', 'dynamic_preprocess_sample1.dat', 'dynamic_preprocess_sample1.dat', 'dynamic_preprocess_sample1.dat', 'dynamic_preprocess_sample1.dat', 'dynamic_preprocess_sample1.dat', 'dynamic_preprocess_sample1.dat', 'dynamic_preprocess_sample1.dat', 'dynamic_preprocess_sample1.dat', 'dynamic_preprocess_sample1.dat', 'dynamic_preprocess_sample1.dat', 'dynamic_preprocess_sample1.dat', 'dynamic_preprocess_sample1.dat', 'dynamic_preprocess_sample1.dat', 'dynamic_preprocess_sample1.dat', 'dynamic_preprocess_sample1.dat', 'dynamic_preprocess_sample1.dat', 'dynamic_preprocess_sample1.dat', 'dynamic_preprocess_sample1.dat', 'dynamic_preprocess_sample1.dat', 'dynamic_preprocess_sample1.dat', 'dynamic_preprocess_sample1.dat', 'dynamic_preprocess_sample1.dat', 'dynamic_preprocess_sample1.dat', 'dynamic_preprocess_sample1.dat', 'dynamic_preprocess_sample1.dat', 'dynamic_preprocess_sample1.dat', 'dynamic_preprocess_sample1.dat', 'dynamic_preprocess_sample1.dat', 'dynamic_preprocess_sample1.dat', 'dynamic_preprocess_sample1.dat', 'dynamic_preprocess_sample1.dat', 'dynamic_preprocess_sample1.dat', 'dynamic_preprocess_sample1.dat', 'dynamic_preprocess_sample1.dat', 'dynamic_preprocess_sample1.dat', 'dynamic_preprocess_sample1.dat', 'dynamic_preprocess_sample1.dat', 'dynamic_preprocess_sample1.dat', 'dynamic_preprocess_sample1.dat', 'dynamic_preprocess_sample1.dat', 'dynamic_preprocess_sample1.dat', 'dynamic_preprocess_sample1.dat', 'dynamic_preprocess_sample1.dat', 'dynamic_preprocess_sample1.dat', 'dynamic_preprocess_sample1.dat', 'dynamic_preprocess_sample1.dat', 'dynamic_preprocess_sample1.dat', 'dynamic_preprocess_sample1.dat', 'dynamic_preprocess_sample1.dat', 'dynamic_preprocess_sample1.dat', 'dynamic_preprocess_sample1.dat', 'dynamic_preprocess_sample1.dat', 'dynamic_preprocess_sample1.dat', 'dynamic_preprocess_sample1.dat', 'dynamic_preprocess_sample1.dat', 'dynamic_preprocess_sample1.dat', 'dynamic_preprocess_sample1.dat', 'dynamic_preprocess_sample1.dat', 'dynamic_preprocess_sample1.dat', 'dynamic_preprocess_sample1.dat', 'dynamic_preprocess_sample1.dat', 'dynamic_preprocess_sample1.dat', 'dynamic_preprocess_sample1.dat', 'dynamic_preprocess_sample1.dat', 'dynamic_preprocess_sample1.dat', 'dynamic_preprocess_sample1.dat', 'dynamic_preprocess_sample1.dat', 'dynamic_preprocess_sample1.dat', 'dynamic_preprocess_sample1.dat', 'dynamic_preprocess_sample1.dat', 'dynamic_preprocess_sample1.dat', 'dynamic_preprocess_sample1.dat', 'dynamic_preprocess_sample1.dat', 'dynamic_preprocess_sample1.dat', 'dynamic_preprocess_sample1.dat', 'dynamic_preprocess_sample1.dat', 'dynamic_preprocess_sample1.dat', 'dynamic_preprocess_sample1.dat', 'dynamic_preprocess_sample1.dat', 'dynamic_preprocess_sample1.dat', 'dynamic_preprocess_sample1.dat', 'dynamic_preprocess_sample1.dat', 'dynamic_preprocess_sample1.dat', 'dynamic_preprocess_sample1.dat', 'dynamic_preprocess_sample1.dat', 'dynamic_preprocess_sample1.dat', 'dynamic_preprocess_sample1.dat', 'dynamic_preprocess_sample1.dat', 'dynamic_preprocess_sample1.dat', 'dynamic_preprocess_sample1.dat', 'dynamic_preprocess_sample1.dat', 'dynamic_preprocess_sample1.dat', 'dynamic_preprocess_sample1.dat', 'dynamic_preprocess_sample1.dat', 'dynamic_preprocess_sample1.dat', 'dynamic_preprocess_sample1.dat', 'dynamic_preprocess_sample1.dat', 'dynamic_preprocess_sample1.dat', 'dynamic_preprocess_sample1.dat', 'dynamic_preprocess_sample1.dat', 'dynamic_preprocess_sample1.dat', 'dynamic_preprocess_sample1.dat', 'dynamic_preprocess_sample1.dat', 'dynamic_preprocess_sample1.dat', 'dynamic_preprocess_sample1.dat', 'dynamic_preprocess_sample1.dat', 'dynamic_preprocess_sample1.dat', 'dynamic_preprocess_sample1.dat', 'dynamic_preprocess_sample1.dat', 'dynamic_preprocess_sample1.dat', 'dynamic_preprocess_sample1.dat', 'dynamic_preprocess_sample1.dat', 'dynamic_preprocess_sample1.dat', 'dynamic_preprocess_sample1.dat', 'dynamic_preprocess_sample1.dat', 'dynamic_preprocess_sample1.dat', 'dynamic_preprocess_sample1.dat', 'dynamic_preprocess_sample1.dat'], 'fmt': ['16', '16', '16', '16', '16', '16', '16', '16', '16', '16', '16', '16', '16', '16', '16', '16', '16', '16', '16', '16', '16', '16', '16', '16', '16', '16', '16', '16', '16', '16', '16', '16', '16', '16', '16', '16', '16', '16', '16', '16', '16', '16', '16', '16', '16', '16', '16', '16', '16', '16', '16', '16', '16', '16', '16', '16', '16', '16', '16', '16', '16', '16', '16', '16', '16', '16', '16', '16', '16', '16', '16', '16', '16', '16', '16', '16', '16', '16', '16', '16', '16', '16', '16', '16', '16', '16', '16', '16', '16', '16', '16', '16', '16', '16', '16', '16', '16', '16', '16', '16', '16', '16', '16', '16', '16', '16', '16', '16', '16', '16', '16', '16', '16', '16', '16', '16', '16', '16', '16', '16', '16', '16', '16', '16', '16', '16', '16', '16', '16', '16', '16', '16', '16', '16', '16', '16', '16', '16', '16', '16', '16', '16', '16', '16', '16', '16', '16', '16', '16', '16', '16', '16', '16', '16', '16', '16', '16', '16', '16', '16', '16', '16', '16', '16', '16', '16', '16', '16', '16', '16', '16', '16', '16', '16', '16', '16', '16', '16', '16', '16', '16', '16', '16', '16', '16', '16', '16', '16', '16', '16', '16', '16', '16', '16', '16', '16', '16', '16', '16', '16', '16', '16', '16', '16', '16', '16', '16', '16', '16', '16', '16', '16', '16', '16', '16', '16', '16', '16', '16', '16', '16', '16', '16', '16', '16', '16', '16', '16', '16', '16', '16', '16', '16', '16', '16', '16', '16', '16', '16', '16', '16', '16', '16', '16', '16', '16', '16', '16', '16', '16', '16', '16', '16', '16', '16', '16'], 'samps_per_frame': [1, 1, 1, 1, 1, 1, 1, 1, 1, 1, 1, 1, 1, 1, 1, 1, 1, 1, 1, 1, 1, 1, 1, 1, 1, 1, 1, 1, 1, 1, 1, 1, 1, 1, 1, 1, 1, 1, 1, 1, 1, 1, 1, 1, 1, 1, 1, 1, 1, 1, 1, 1, 1, 1, 1, 1, 1, 1, 1, 1, 1, 1, 1, 1, 1, 1, 1, 1, 1, 1, 1, 1, 1, 1, 1, 1, 1, 1, 1, 1, 1, 1, 1, 1, 1, 1, 1, 1, 1, 1, 1, 1, 1, 1, 1, 1, 1, 1, 1, 1, 1, 1, 1, 1, 1, 1, 1, 1, 1, 1, 1, 1, 1, 1, 1, 1, 1, 1, 1, 1, 1, 1, 1, 1, 1, 1, 1, 1, 1, 1, 1, 1, 1, 1, 1, 1, 1, 1, 1, 1, 1, 1, 1, 1, 1, 1, 1, 1, 1, 1, 1, 1, 1, 1, 1, 1, 1, 1, 1, 1, 1, 1, 1, 1, 1, 1, 1, 1, 1, 1, 1, 1, 1, 1, 1, 1, 1, 1, 1, 1, 1, 1, 1, 1, 1, 1, 1, 1, 1, 1, 1, 1, 1, 1, 1, 1, 1, 1, 1, 1, 1, 1, 1, 1, 1, 1, 1, 1, 1, 1, 1, 1, 1, 1, 1, 1, 1, 1, 1, 1, 1, 1, 1, 1, 1, 1, 1, 1, 1, 1, 1, 1, 1, 1, 1, 1, 1, 1, 1, 1, 1, 1, 1, 1, 1, 1, 1, 1, 1, 1, 1, 1, 1, 1, 1, 1], 'skew': [None, None, None, None, None, None, None, None, None, None, None, None, None, None, None, None, None, None, None, None, None, None, None, None, None, None, None, None, None, None, None, None, None, None, None, None, None, None, None, None, None, None, None, None, None, None, None, None, None, None, None, None, None, None, None, None, None, None, None, None, None, None, None, None, None, None, None, None, None, None, None, None, None, None, None, None, None, None, None, None, None, None, None, None, None, None, None, None, None, None, None, None, None, None, None, None, None, None, None, None, None, None, None, None, None, None, None, None, None, None, None, None, None, None, None, None, None, None, None, None, None, None, None, None, None, None, None, None, None, None, None, None, None, None, None, None, None, None, None, None, None, None, None, None, None, None, None, None, None, None, None, None, None, None, None, None, None, None, None, None, None, None, None, None, None, None, None, None, None, None, None, None, None, None, None, None, None, None, None, None, None, None, None, None, None, None, None, None, None, None, None, None, None, None, None, None, None, None, None, None, None, None, None, None, None, None, None, None, None, None, None, None, None, None, None, None, None, None, None, None, None, None, None, None, None, None, None, None, None, None, None, None, None, None, None, None, None, None, None, None, None, None, None, None, None, None, None, None, None, None, None, None, None, None, None, None], 'byte_offset': [None, None, None, None, None, None, None, None, None, None, None, None, None, None, None, None, None, None, None, None, None, None, None, None, None, None, None, None, None, None, None, None, None, None, None, None, None, None, None, None, None, None, None, None, None, None, None, None, None, None, None, None, None, None, None, None, None, None, None, None, None, None, None, None, None, None, None, None, None, None, None, None, None, None, None, None, None, None, None, None, None, None, None, None, None, None, None, None, None, None, None, None, None, None, None, None, None, None, None, None, None, None, None, None, None, None, None, None, None, None, None, None, None, None, None, None, None, None, None, None, None, None, None, None, None, None, None, None, None, None, None, None, None, None, None, None, None, None, None, None, None, None, None, None, None, None, None, None, None, None, None, None, None, None, None, None, None, None, None, None, None, None, None, None, None, None, None, None, None, None, None, None, None, None, None, None, None, None, None, None, None, None, None, None, None, None, None, None, None, None, None, None, None, None, None, None, None, None, None, None, None, None, None, None, None, None, None, None, None, None, None, None, None, None, None, None, None, None, None, None, None, None, None, None, None, None, None, None, None, None, None, None, None, None, None, None, None, None, None, None, None, None, None, None, None, None, None, None, None, None, None, None, None, None, None, None], 'adc_gain': [114092.3302, 108584.7509, 97398.4731, 84576.6447, 81570.2567, 81107.0685, 84814.4972, 91028.2027, 118437.0051, 114218.7141, 110468.2304, 91036.5684, 73458.895, 71996.2847, 75273.2697, 81976.4147, 124597.8952, 122940.8305, 115601.7002, 86010.9029, 65720.5129, 62102.941, 62830.9615, 70479.4207, 126631.1619, 126269.1478, 115142.5886, 86088.6504, 61874.2781, 56846.9257, 55635.8595, 57453.6063, 13337.3457, 129197.1171, 117559.5583, 93052.8919, 65056.7953, 55567.6521, 51939.2973, 52520.9497, 13632.8588, 131433.5129, 122636.2596, 84966.4345, 62575.8043, 52691.6401, 49734.3317, 50791.5072, 131001.5565, 131083.4535, 126102.9912, 94546.3512, 66477.4544, 50041.1529, 47635.7689, 49046.2166, 131611.0156, 128876.8659, 127174.726, 109779.0509, 77615.3015, 58998.6235, 49103.8148, 47925.4361, 143590.3345, 144704.549, 149087.1016, 152381.2774, 158915.1655, 155444.3323, 150632.7563, 147449.1214, 141976.5315, 142245.9907, 147061.5036, 153843.7137, 157561.3188, 142881.4361, 142132.6894, 144278.2514, 133940.7315, 130021.9056, 135003.5743, 136796.168, 137447.3653, 138439.5868, 141482.2222, 141118.6642, 121830.4876, 116398.1943, 116220.9296, 126611.2187, 130263.8158, 131353.1929, 134021.4721, 136520.7404, 114939.5833, 109041.7447, 108577.0484, 96030.9182, 108997.0552, 122691.6746, 128936.6243, 132047.0695, 108651.4659, 107711.1491, 100965.2417, 86888.153, 92201.9939, 112091.7323, 118794.4708, 125274.5042, 110809.681, 9197.7733, 91956.3389, 83062.6152, 88796.7748, 96952.5054, 102752.6133, 111987.6729, 109307.3149, 104353.7422, 104396.5163, 81006.2482, 84740.6319, 87526.5016, 92768.5918, 96877.1449, 137346.255, 141413.9137, 146341.4498, 146740.0346, 145834.2135, 146736.1841, 2268483.3717, 145667.919, 134743.4415, 139837.4026, 142537.6867, 144429.628, 146579.9594, 147934.6669, 149034.7824, 143368.1223, 134068.0568, 140199.0888, 144015.6845, 144687.3977, 146318.9929, 148270.1278, 147633.0624, 139568.0062, 136196.5051, 142439.0571, 149394.2134, 145121.3916, 144427.2739, 143722.2745, 143923.733, 134128.1752, 145945.3804, 152912.0607, 156853.2157, 145487.3644, 142304.54, 142791.8894, 143293.3367, 134997.4144, 164897.6559, 176325.3163, 169539.669, 154107.2403, 144549.3926, 145957.7265, 144275.7111, 129743.0522, 215806.9321, 211228.575, 191664.3946, 165098.7621, 150299.4288, 150979.8329, 145676.6052, 129010.2106, 237024.9502, 236102.2675, 210688.2674, 174509.5654, 157511.3593, 156390.6751, 158842.8586, 139855.2707, 149817.5351, 150895.8316, 148157.7925, 145677.168, 145967.4527, 132399.4461, 124412.5701, 127235.5786, 148535.9705, 149577.0108, 148311.8407, 146193.558, 142287.5626, 130953.0237, 122817.5644, 128431.1843, 146775.3728, 148547.3824, 147913.3808, 146342.5848, 139717.2795, 132207.6598, 126652.4808, 129689.9976, 149325.7279, 152887.7838, 148846.5526, 145877.9937, 144276.2572, 140433.3812, 137614.4415, 130922.3473, 151159.3687, 150490.7135, 146669.3674, 147763.9333, 143708.1129, 141722.8469, 140209.4089, 135552.4414, 154885.0905, 152494.0724, 149953.4654, 147746.213, 146488.9706, 143368.6272, 141359.7237, 136513.2218, 152300.0981, 150165.0339, 151552.4056, 147984.8546, 147759.3206, 145849.2604, 143380.4296, 142297.7093, 149411.5731, 148323.5984, 148684.61, 149344.6546, 149351.4253, 148246.8101, 146348.3467, 140724.1136], 'baseline': [-6133, -4704, -2617, -3601, -5152, -4974, -4358, -3377, -6132, -4892, -4697, -5279, -5795, -4276, -4429, -4560, -3879, -4424, -5211, -6735, -4812, -3507, -3418, -4427, -4287, -3663, -4258, -4857, -3623, -2285, -2654, -3011, -13888, -3016, -2516, -2043, -1250, -1345, -1699, -2024, -1501, -2124, -500, 1613, -1236, -2744, -1832, -209, -373, 29, 1537, 875, -1964, -3547, -5034, -2727, 1311, 1544, 2267, 409, -1747, -3922, -3898, -1013, 206, 987, 1853, 2442, 2302, 615, -730, -546, -941, 25, 674, 2623, 2461, 1338, -699, -1265, -1891, -2360, -2372, -94, -730, -2474, -2236, -2307, -3766, -6081, -7369, -6720, -5036, -5079, -4047, -2889, -6149, -8841, -9878, -7164, -7304, -7302, -5646, -3909, -8558, -9442, -10350, -7931, -7236, -8770, -6743, -4748, -7926, 12653, -8121, -7440, -7792, -7410, -5939, -4228, -6846, -8323, -7984, -5115, -5994, -6135, -5077, -3889, -2650, -2054, -1257, -1227, -1213, -1357, -1380, -2404, -2162, -1521, -1138, -124, -104, -716, -946, -1119, -1749, -1045, -654, 152, 132, -667, -388, 974, -952, -398, 55, 947, 1135, -449, -1200, -312, 237, 284, 159, 2265, 2399, 414, -1944, -801, 1486, 558, 501, 2873, 2574, 1647, -993, 568, 2980, 52, 892, 2020, 2690, 1385, -100, 2525, 3421, 1006, -1287, 126, 504, 145, -642, 1776, -1431, -1049, -859, -379, -306, 1440, 2754, 2190, -2248, -1822, -1312, -789, -318, 2003, 3164, 1733, -2337, -1956, -1575, -1091, -376, 1440, 1895, 1196, -2810, -2361, -1672, -1159, -1303, -1402, -1128, -108, -2615, -2239, -1868, -1450, -1352, -2143, -2631, -1894, -2430, -2010, -2117, -1796, -1944, -2267, -3107, -3011, -2205, -1799, -1753, -1874, -2050, -2827, -3233, -3700, -1530, -1216, -1217, -1623, -1930, -2949, -3281, -3086], 'units': ['V', 'V', 'V', 'V', 'V', 'V', 'V', 'V', 'V', 'V', 'V', 'V', 'V', 'V', 'V', 'V', 'V', 'V', 'V', 'V', 'V', 'V', 'V', 'V', 'V', 'V', 'V', 'V', 'V', 'V', 'V', 'V', 'V', 'V', 'V', 'V', 'V', 'V', 'V', 'V', 'V', 'V', 'V', 'V', 'V', 'V', 'V', 'V', 'V', 'V', 'V', 'V', 'V', 'V', 'V', 'V', 'V', 'V', 'V', 'V', 'V', 'V', 'V', 'V', 'V', 'V', 'V', 'V', 'V', 'V', 'V', 'V', 'V', 'V', 'V', 'V', 'V', 'V', 'V', 'V', 'V', 'V', 'V', 'V', 'V', 'V', 'V', 'V', 'V', 'V', 'V', 'V', 'V', 'V', 'V', 'V', 'V', 'V', 'V', 'V', 'V', 'V', 'V', 'V', 'V', 'V', 'V', 'V', 'V', 'V', 'V', 'V', 'V', 'V', 'V', 'V', 'V', 'V', 'V', 'V', 'V', 'V', 'V', 'V', 'V', 'V', 'V', 'V', 'V', 'V', 'V', 'V', 'V', 'V', 'V', 'V', 'V', 'V', 'V', 'V', 'V', 'V', 'V', 'V', 'V', 'V', 'V', 'V', 'V', 'V', 'V', 'V', 'V', 'V', 'V', 'V', 'V', 'V', 'V', 'V', 'V', 'V', 'V', 'V', 'V', 'V', 'V', 'V', 'V', 'V', 'V', 'V', 'V', 'V', 'V', 'V', 'V', 'V', 'V', 'V', 'V', 'V', 'V', 'V', 'V', 'V', 'V', 'V', 'V', 'V', 'V', 'V', 'V', 'V', 'V', 'V', 'V', 'V', 'V', 'V', 'V', 'V', 'V', 'V', 'V', 'V', 'V', 'V', 'V', 'V', 'V', 'V', 'V', 'V', 'V', 'V', 'V', 'V', 'V', 'V', 'V', 'V', 'V', 'V', 'V', 'V', 'V', 'V', 'V', 'V', 'V', 'V', 'V', 'V', 'V', 'V', 'V', 'V', 'V', 'V', 'V', 'V', 'V', 'V', 'V', 'V', 'V', 'V', 'V', 'V', 'V', 'V', 'V', 'V', 'V', 'V'], 'adc_res': [0, 0, 0, 0, 0, 0, 0, 0, 0, 0, 0, 0, 0, 0, 0, 0, 0, 0, 0, 0, 0, 0, 0, 0, 0, 0, 0, 0, 0, 0, 0, 0, 0, 0, 0, 0, 0, 0, 0, 0, 0, 0, 0, 0, 0, 0, 0, 0, 0, 0, 0, 0, 0, 0, 0, 0, 0, 0, 0, 0, 0, 0, 0, 0, 0, 0, 0, 0, 0, 0, 0, 0, 0, 0, 0, 0, 0, 0, 0, 0, 0, 0, 0, 0, 0, 0, 0, 0, 0, 0, 0, 0, 0, 0, 0, 0, 0, 0, 0, 0, 0, 0, 0, 0, 0, 0, 0, 0, 0, 0, 0, 0, 0, 0, 0, 0, 0, 0, 0, 0, 0, 0, 0, 0, 0, 0, 0, 0, 0, 0, 0, 0, 0, 0, 0, 0, 0, 0, 0, 0, 0, 0, 0, 0, 0, 0, 0, 0, 0, 0, 0, 0, 0, 0, 0, 0, 0, 0, 0, 0, 0, 0, 0, 0, 0, 0, 0, 0, 0, 0, 0, 0, 0, 0, 0, 0, 0, 0, 0, 0, 0, 0, 0, 0, 0, 0, 0, 0, 0, 0, 0, 0, 0, 0, 0, 0, 0, 0, 0, 0, 0, 0, 0, 0, 0, 0, 0, 0, 0, 0, 0, 0, 0, 0, 0, 0, 0, 0, 0, 0, 0, 0, 0, 0, 0, 0, 0, 0, 0, 0, 0, 0, 0, 0, 0, 0, 0, 0, 0, 0, 0, 0, 0, 0, 0, 0, 0, 0, 0, 0, 0, 0, 0, 0, 0, 0], 'adc_zero': [0, 0, 0, 0, 0, 0, 0, 0, 0, 0, 0, 0, 0, 0, 0, 0, 0, 0, 0, 0, 0, 0, 0, 0, 0, 0, 0, 0, 0, 0, 0, 0, 0, 0, 0, 0, 0, 0, 0, 0, 0, 0, 0, 0, 0, 0, 0, 0, 0, 0, 0, 0, 0, 0, 0, 0, 0, 0, 0, 0, 0, 0, 0, 0, 0, 0, 0, 0, 0, 0, 0, 0, 0, 0, 0, 0, 0, 0, 0, 0, 0, 0, 0, 0, 0, 0, 0, 0, 0, 0, 0, 0, 0, 0, 0, 0, 0, 0, 0, 0, 0, 0, 0, 0, 0, 0, 0, 0, 0, 0, 0, 0, 0, 0, 0, 0, 0, 0, 0, 0, 0, 0, 0, 0, 0, 0, 0, 0, 0, 0, 0, 0, 0, 0, 0, 0, 0, 0, 0, 0, 0, 0, 0, 0, 0, 0, 0, 0, 0, 0, 0, 0, 0, 0, 0, 0, 0, 0, 0, 0, 0, 0, 0, 0, 0, 0, 0, 0, 0, 0, 0, 0, 0, 0, 0, 0, 0, 0, 0, 0, 0, 0, 0, 0, 0, 0, 0, 0, 0, 0, 0, 0, 0, 0, 0, 0, 0, 0, 0, 0, 0, 0, 0, 0, 0, 0, 0, 0, 0, 0, 0, 0, 0, 0, 0, 0, 0, 0, 0, 0, 0, 0, 0, 0, 0, 0, 0, 0, 0, 0, 0, 0, 0, 0, 0, 0, 0, 0, 0, 0, 0, 0, 0, 0, 0, 0, 0, 0, 0, 0, 0, 0, 0, 0, 0, 0], 'init_value': [-6625, -5221, -3019, -4167, -5848, -5781, -5369, -4862, -7100, -5888, -5414, -5999, -6425, -5201, -5685, -5705, -4913, -5755, -6519, -7549, -5419, -4346, -4657, -5907, -5752, -4958, -5638, -6025, -4608, -3497, -4113, -4560, -13717, -4268, -4334, -3616, -2678, -2988, -3666, -4040, -1699, -3657, -2057, 44, -3245, -5213, -4658, -2982, -1941, -1810, -773, -1605, -4354, -6314, -8381, -5800, 45, -343, 105, -2055, -4298, -6724, -6827, -3213, 410, 1100, 1867, 2658, 2622, 595, -288, -168, -832, 327, 1062, 2727, 2973, 1016, -1025, -1041, -1665, -2111, -2228, -449, -761, -2632, -2508, -2123, -3733, -5803, -7316, -6466, -5027, -5640, -4203, -2245, -5944, -8771, -9752, -7330, -7569, -7472, -5790, -3503, -8481, -9523, -10568, -8066, -7153, -9016, -6831, -5280, -7784, 12882, -7881, -7776, -7975, -7700, -5745, -4510, -6776, -8010, -7804, -4932, -6318, -6372, -5547, -4264, -3021, -1988, -772, -435, -357, -474, -11064, -1425, -2765, -1659, -1087, 674, 679, -402, 207, -473, -1949, -1280, -246, 541, 858, 311, 96, 1765, -1328, -127, 1001, 1451, 1820, 410, -707, 18, 131, 319, 479, 2744, 2814, 753, -1613, -150, 1876, 693, 1097, 3140, 2989, 1847, -791, 397, 4769, 1064, 1539, 2786, 3017, 1380, 605, 2662, 6265, 2039, -393, 724, 916, 81, -575, 1106, -1012, -141, -1508, -916, -986, 882, 2004, 1296, -1879, -2336, -1915, -1999, -1283, 1384, 2574, 1220, -1946, -2379, -2507, -2036, -1080, 387, 925, 332, -3152, -3302, -2890, -1948, -2411, -2743, -1911, -1194, -4115, -3512, -3252, -2476, -2190, -3467, -3314, -2665, -3906, -3549, -3199, -3077, -3067, -3406, -4274, -4259, -3475, -3026, -3523, -3321, -3177, -4218, -4538, -5031, -3510, -3050, -2328, -3013, -3165, -4216, -4284, -4863], 'checksum': [-72, -16453, 6393, -26607, 5745, -31377, -14720, 17703, 1700, -14709, -7553, -26, 2884, 28536, -22518, 26383, 25993, 26721, -14707, 31135, -13170, -22343, 20063, -18429, -19998, 8911, -23827, 11088, 853, -7819, 12465, 222, 14655, 25206, 7536, 1309, 5488, 12702, 8467, -12523, -10228, 18764, 1814, 29746, -23155, -28755, 6732, -24979, 566, -20947, -11078, 29643, -414, -24443, 10525, 10471, -32087, -1193, -21509, -9493, -15706, 2388, -19000, -6821, -17068, 2790, -7133, 13906, 3308, 13852, 20853, 3412, -6865, 3790, 11784, -4509, -16029, 5339, 24788, -23789, 23466, -20988, 17934, -32031, 31731, -6008, 20017, 1602, -9587, -30999, 25202, -32676, 1872, -25985, -12867, 6120, -32370, -31895, 6091, -530, 25283, 19439, 519, 12531, 28994, -13260, -29833, 9909, -13007, -30681, -12015, 10081, 7395, -6669, 31732, -26236, -29319, 22573, 17543, -16589, -9004, -17010, 30204, 29260, -11181, 24535, 22532, 30360, 3268, -24709, 27757, 12256, -26616, -883, 12174, -30997, 14938, 14271, 3515, -24350, 14364, 9207, -10239, 32012, -1344, 524, 12958, 20862, -23513, -22732, 23132, -159, -14104, 9972, 25090, 15214, 2831, -31683, 767, -4549, -12933, 21204, 29533, 22576, -25723, -27256, -15141, -21620, -12098, -19039, 9218, 24085, 3166, 5649, -19622, -22509, 10869, -12520, 27762, -20111, -14475, 2636, -18568, -11809, -2, -23898, 28251, -17787, -24536, 32676, -12865, -20990, -5043, 9564, 9674, 26478, -16457, 26992, -29556, -14755, -21383, 1939, 8655, -31103, 26908, 3623, 22660, -31620, 1050, 563, 621, 6290, -27786, 27227, -16572, -18528, 21369, 13771, 2565, 947, -29459, 31434, 2750, 7106, 23032, 14457, -9662, -9830, -1247, 18564, 725, 14756, 7082, 24640, 6010, 6954, 31299, 27624, 21092, 28465, 16661, 3705, 19942, -22484, 13407, 8909, 23300, -1343, -22042, 29407, 18940, 27429, -5300, 13795, -10056, 4488], 'block_size': [0, 0, 0, 0, 0, 0, 0, 0, 0, 0, 0, 0, 0, 0, 0, 0, 0, 0, 0, 0, 0, 0, 0, 0, 0, 0, 0, 0, 0, 0, 0, 0, 0, 0, 0, 0, 0, 0, 0, 0, 0, 0, 0, 0, 0, 0, 0, 0, 0, 0, 0, 0, 0, 0, 0, 0, 0, 0, 0, 0, 0, 0, 0, 0, 0, 0, 0, 0, 0, 0, 0, 0, 0, 0, 0, 0, 0, 0, 0, 0, 0, 0, 0, 0, 0, 0, 0, 0, 0, 0, 0, 0, 0, 0, 0, 0, 0, 0, 0, 0, 0, 0, 0, 0, 0, 0, 0, 0, 0, 0, 0, 0, 0, 0, 0, 0, 0, 0, 0, 0, 0, 0, 0, 0, 0, 0, 0, 0, 0, 0, 0, 0, 0, 0, 0, 0, 0, 0, 0, 0, 0, 0, 0, 0, 0, 0, 0, 0, 0, 0, 0, 0, 0, 0, 0, 0, 0, 0, 0, 0, 0, 0, 0, 0, 0, 0, 0, 0, 0, 0, 0, 0, 0, 0, 0, 0, 0, 0, 0, 0, 0, 0, 0, 0, 0, 0, 0, 0, 0, 0, 0, 0, 0, 0, 0, 0, 0, 0, 0, 0, 0, 0, 0, 0, 0, 0, 0, 0, 0, 0, 0, 0, 0, 0, 0, 0, 0, 0, 0, 0, 0, 0, 0, 0, 0, 0, 0, 0, 0, 0, 0, 0, 0, 0, 0, 0, 0, 0, 0, 0, 0, 0, 0, 0, 0, 0, 0, 0, 0, 0, 0, 0, 0, 0, 0, 0]}\n"
     ]
    }
   ],
   "source": [
    "# Read a WFDB record\n",
    "record = wfdb.rdrecord('data/dynamic_preprocess_sample1')\n",
    "\n",
    "# Display basic information about the record\n",
    "print(record.__dict__)"
   ]
  },
  {
   "cell_type": "code",
   "execution_count": 71,
   "metadata": {},
   "outputs": [
    {
     "name": "stdout",
     "output_type": "stream",
     "text": [
      "emg.shape:(256, 2048)\n"
     ]
    }
   ],
   "source": [
    "emg_raw = np.array(record.__dict__['p_signal'].T)\n",
    "num_frames = emg_raw.shape[-1]\n",
    "\n",
    "print(\"emg.shape:\"+str(emg_raw.shape))"
   ]
  },
  {
   "cell_type": "code",
   "execution_count": 72,
   "metadata": {},
   "outputs": [
    {
     "data": {
      "text/plain": [
       "(array([[-4.93815172]]), array([[3.49807233]]))"
      ]
     },
     "execution_count": 72,
     "metadata": {},
     "output_type": "execute_result"
    }
   ],
   "source": [
    "(np.min(emg_raw, keepdims=True), np.max(emg_raw, keepdims=True))"
   ]
  },
  {
   "cell_type": "code",
   "execution_count": 73,
   "metadata": {},
   "outputs": [],
   "source": [
    "emg_hdsmg = emg_raw\n",
    "#emg_hdsmg = emg_hdsmg - np.mean(emg_hdsmg[:, 0:10], axis=1, keepdims=True)\n",
    "\n",
    "emg_hdsmg_min = np.min(emg_hdsmg, axis=1, keepdims=True)\n",
    "emg_hdsmg_max = np.max(emg_hdsmg, axis=1, keepdims=True)\n",
    "emg_hdsmg_range = emg_hdsmg_max - emg_hdsmg_min\n",
    "emg_hdsmg = (emg_hdsmg - emg_hdsmg_min) / emg_hdsmg_range"
   ]
  },
  {
   "cell_type": "code",
   "execution_count": 74,
   "metadata": {},
   "outputs": [
    {
     "data": {
      "text/plain": [
       "(array([[0.]]), array([[1.]]))"
      ]
     },
     "execution_count": 74,
     "metadata": {},
     "output_type": "execute_result"
    }
   ],
   "source": [
    "(np.min(emg_hdsmg, keepdims=True), np.max(emg_hdsmg, keepdims=True))"
   ]
  },
  {
   "cell_type": "code",
   "execution_count": 75,
   "metadata": {},
   "outputs": [],
   "source": [
    "fps = 300\n",
    "class EmgKinVisualizer:\n",
    "    def __init__(self, width=800, height=600):\n",
    "        self.speed = 1\n",
    "        self.width = width\n",
    "        self.height = height\n",
    "        self.current_frame = 0\n",
    "        self.running = False\n",
    "\n",
    "        self.screen = pygame.display.set_mode(\n",
    "            (width, height + 50))  # Extra height for timeline\n",
    "        pygame.display.set_caption(\"EMG and Kinematics Visualizer\")\n",
    "\n",
    "        self.timeline_rect = pygame.Rect(50, height + 10, width - 100, 30)\n",
    "        self.slider_rect = pygame.Rect(50, height + 10, 10, 30)\n",
    "        self.exit_button_rect = pygame.Rect(700, 10, 60, 30)\n",
    "\n",
    "    def run(self):\n",
    "        clock = pygame.time.Clock()\n",
    "\n",
    "        while True:\n",
    "            for event in pygame.event.get():\n",
    "                if event.type == pygame.QUIT:\n",
    "                    pygame.quit()\n",
    "                    return\n",
    "                elif event.type == pygame.KEYDOWN:\n",
    "                    self.handle_key_event(event.key)\n",
    "                elif event.type == pygame.MOUSEBUTTONDOWN:\n",
    "                    if event.button == 1:  # Left mouse button\n",
    "                        if self.timeline_rect.collidepoint(event.pos):\n",
    "                            self.update_frame_from_mouse(event.pos[0])\n",
    "                        if self.exit_button_rect.collidepoint(event.pos):\n",
    "                            pygame.quit()\n",
    "                            return\n",
    "                elif event.type == pygame.MOUSEMOTION:\n",
    "                    if event.buttons[0]:  # Left mouse button held down\n",
    "                        if self.timeline_rect.collidepoint(event.pos):\n",
    "                            self.update_frame_from_mouse(event.pos[0])\n",
    "\n",
    "            if self.running:\n",
    "                self.current_frame += self.speed\n",
    "                if self.current_frame >= num_frames:\n",
    "                    self.current_frame = 0\n",
    "                elif self.current_frame < 0:\n",
    "                    self.current_frame = num_frames - 1\n",
    "\n",
    "            self.draw()\n",
    "            pygame.display.flip()\n",
    "            clock.tick(fps/3)\n",
    "\n",
    "    def draw(self):\n",
    "        self.screen.fill((0, 0, 0))\n",
    "        \n",
    "        # Draw emg data\n",
    "        viz_emg(self.screen, emg_hdsmg[:, self.current_frame])\n",
    "\n",
    "        # Draw timeline\n",
    "        pygame.draw.rect(self.screen, (100, 100, 100), self.timeline_rect)\n",
    "        slider_x = int(self.timeline_rect.left +\n",
    "                       (self.current_frame / num_frames) * self.timeline_rect.width)\n",
    "        self.slider_rect.left = slider_x\n",
    "        pygame.draw.rect(self.screen, (200, 200, 200), self.slider_rect)\n",
    "\n",
    "        # Draw current frame number\n",
    "        text = font.render(\n",
    "            f\"Frame: {self.current_frame}/{num_frames-1}\", True, (200, 200, 200))\n",
    "        self.screen.blit(text, (10, self.height - 30))\n",
    "\n",
    "        # Draw exit button\n",
    "        pygame.draw.rect(self.screen, (200, 50, 50), self.exit_button_rect)\n",
    "        exit_text = font.render(\"Exit\", True, (255, 255, 255))\n",
    "        self.screen.blit(exit_text, (self.exit_button_rect.x + 10, self.exit_button_rect.y + 5))\n",
    "\n",
    "    def handle_key_event(self, key):\n",
    "        if key == pygame.K_SPACE:\n",
    "            self.running = not self.running\n",
    "        elif key == pygame.K_RIGHT:\n",
    "            self.speed = 1\n",
    "            self.running = True\n",
    "        elif key == pygame.K_LEFT:\n",
    "            self.speed = -1\n",
    "            self.running = True\n",
    "        elif key == pygame.K_UP:\n",
    "            self.speed = min(self.speed * 2, 16)\n",
    "        elif key == pygame.K_DOWN:\n",
    "            self.speed = max(self.speed // 2, 1)\n",
    "\n",
    "    def update_frame_from_mouse(self, mouse_x):\n",
    "        timeline_x = mouse_x - self.timeline_rect.left\n",
    "        frame_ratio = timeline_x / self.timeline_rect.width\n",
    "        self.current_frame = int(frame_ratio * num_frames)\n",
    "        self.current_frame = max(0, min(self.current_frame, num_frames - 1))\n",
    "        self.running = False\n",
    "\n",
    "\n",
    "if __name__ == \"__main__\":\n",
    "    visualizer = EmgKinVisualizer()\n",
    "    visualizer.run()"
   ]
  }
 ],
 "metadata": {
  "kernelspec": {
   "display_name": "emgkin",
   "language": "python",
   "name": "python3"
  },
  "language_info": {
   "codemirror_mode": {
    "name": "ipython",
    "version": 3
   },
   "file_extension": ".py",
   "mimetype": "text/x-python",
   "name": "python",
   "nbconvert_exporter": "python",
   "pygments_lexer": "ipython3",
   "version": "3.12.5"
  }
 },
 "nbformat": 4,
 "nbformat_minor": 2
}
