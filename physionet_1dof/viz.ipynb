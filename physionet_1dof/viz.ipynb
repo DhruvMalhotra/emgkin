{
 "cells": [
  {
   "cell_type": "code",
   "execution_count": 10,
   "metadata": {},
   "outputs": [],
   "source": [
    "import wfdb\n",
    "import numpy as np\n",
    "import pygame\n",
    "\n",
    "pygame.init()\n",
    "font = pygame.font.Font(None, 36)\n",
    "\n",
    "def upsample_fractional(signal, factor):\n",
    "    \"\"\"\n",
    "    Upsample a 2D signal by a given factor using linear interpolation.\n",
    "    Each row is assumed to be a separate channel or variable, and columns represent time.\n",
    "\n",
    "    :param signal: Input 2D signal as a numpy array (channels x time)\n",
    "    :param factor: Upsampling factor (can be integer or float)\n",
    "    :return: Upsampled 2D signal\n",
    "    \"\"\"\n",
    "    # Get the original dimensions\n",
    "    num_channels, original_time = signal.shape\n",
    "\n",
    "    # Calculate the new time dimension\n",
    "    new_time = int(original_time * factor)\n",
    "\n",
    "    # Create old and new time axes\n",
    "    old_time_indices = np.arange(original_time)\n",
    "    new_time_indices = np.linspace(0, original_time - 1, new_time)\n",
    "\n",
    "    # Initialize the output array\n",
    "    upsampled_signal = np.zeros((num_channels, new_time))\n",
    "\n",
    "    # Interpolate each channel\n",
    "    for channel in range(num_channels):\n",
    "        upsampled_signal[channel, :] = np.interp(\n",
    "            new_time_indices, old_time_indices, signal[channel, :])\n",
    "\n",
    "    return upsampled_signal\n",
    "\n",
    "def get_color(value):\n",
    "    value = min(value, 1)\n",
    "    value = max(value, 0)\n",
    "    # Example color mapping function\n",
    "    return int(value * 255), 0, 255 - int(value * 255)\n",
    "\n",
    "def viz_emg(screen, emg_frame):\n",
    "    left = 50\n",
    "    top = 50\n",
    "    scale = 20\n",
    "    size = 1\n",
    "    \n",
    "    for i in range(4):\n",
    "        for j in range(8):\n",
    "            for k in range(8):\n",
    "                pygame.draw.rect(screen, get_color(emg_frame[i*64+j*k]),\n",
    "                                 (left+(i//2)*scale*10+scale*j,\n",
    "                                  top+(i%2)*scale*10+scale*k,\n",
    "                                  scale*size,\n",
    "                                  scale*size))\n",
    "                \n",
    "def viz_force(screen, force_frame):\n",
    "    left = 500\n",
    "    top = 100\n",
    "    scale = 20\n",
    "    size = 1\n",
    "\n",
    "    def viz_force_extensor_helper(screen, x, y, data):\n",
    "        pygame.draw.rect(screen, get_color(data), (left+scale*x, top+scale*y, scale*size, scale*size))\n",
    "\n",
    "    viz_force_extensor_helper(screen, 1, 5, force_frame[0])\n",
    "    viz_force_extensor_helper(screen, 2, 1, force_frame[1])\n",
    "    viz_force_extensor_helper(screen, 3, 1, force_frame[2])\n",
    "    viz_force_extensor_helper(screen, 4, 1, force_frame[3])\n",
    "    viz_force_extensor_helper(screen, 5, 1, force_frame[4])\n",
    "    \n",
    "\n",
    "    "
   ]
  },
  {
   "cell_type": "code",
   "execution_count": 11,
   "metadata": {},
   "outputs": [
    {
     "name": "stdout",
     "output_type": "stream",
     "text": [
      "{'record_name': '1dof_force_finger1_sample1', 'n_sig': 5, 'fs': 100, 'counter_freq': None, 'base_counter': None, 'sig_len': 2500, 'base_time': None, 'base_date': None, 'comments': [], 'sig_name': ['thumb', 'index', 'middle', 'ring', 'little'], 'p_signal': array([[ 5.21222877e-03,  1.16098056e-03,  5.27167577e-05,\n",
      "         3.88658940e-03,  1.46873287e-03],\n",
      "       [ 4.56331675e-03,  2.15142705e-03,  5.27167577e-05,\n",
      "         2.89668874e-03,  2.78894879e-03],\n",
      "       [ 3.56901608e-03,  1.16098056e-03,  3.82454909e-04,\n",
      "         3.88658940e-03,  4.09918531e-03],\n",
      "       ...,\n",
      "       [ 2.69193823e-02, -2.08687460e-02, -7.50748650e-03,\n",
      "        -3.01341060e-03, -3.13118351e-03],\n",
      "       [ 3.08651860e-02, -2.02087695e-02, -7.17774834e-03,\n",
      "        -3.67350993e-03, -8.39091433e-03],\n",
      "       [ 1.96871532e-02, -1.85689447e-02, -7.17774834e-03,\n",
      "        -3.01341060e-03, -1.20110884e-02]]), 'd_signal': None, 'e_p_signal': None, 'e_d_signal': None, 'file_name': ['1dof_force_finger1_sample1.dat', '1dof_force_finger1_sample1.dat', '1dof_force_finger1_sample1.dat', '1dof_force_finger1_sample1.dat', '1dof_force_finger1_sample1.dat'], 'fmt': ['16', '16', '16', '16', '16'], 'samps_per_frame': [1, 1, 1, 1, 1], 'skew': [None, None, None, None, None], 'byte_offset': [None, None, None, None, None], 'adc_gain': [95544.54, 1037915.7428, 1934868.6153, 2013333.3333, 1703509.228], 'baseline': [6570, -3935, 4029, -12788, -552], 'units': ['V', 'V', 'V', 'V', 'V'], 'adc_res': [0, 0, 0, 0, 0], 'adc_zero': [0, 0, 0, 0, 0], 'init_value': [7068, -2730, 4131, -4963, 1950], 'checksum': [6716, -8075, 29343, -18199, -12382], 'block_size': [0, 0, 0, 0, 0]}\n",
      "{'record_name': '1dof_preprocess_finger1_sample1', 'n_sig': 256, 'fs': 2048, 'counter_freq': None, 'base_counter': None, 'sig_len': 51200, 'base_time': None, 'base_date': None, 'comments': [], 'sig_name': ['ED-8-8', 'ED-8-7', 'ED-8-6', 'ED-8-5', 'ED-8-4', 'ED-8-3', 'ED-8-2', 'ED-8-1', 'ED-7-8', 'ED-7-7', 'ED-7-6', 'ED-7-5', 'ED-7-4', 'ED-7-3', 'ED-7-2', 'ED-7-1', 'ED-6-8', 'ED-6-7', 'ED-6-6', 'ED-6-5', 'ED-6-4', 'ED-6-3', 'ED-6-2', 'ED-6-1', 'ED-5-8', 'ED-5-7', 'ED-5-6', 'ED-5-5', 'ED-5-4', 'ED-5-3', 'ED-5-2', 'ED-5-1', 'ED-4-8', 'ED-4-7', 'ED-4-6', 'ED-4-5', 'ED-4-4', 'ED-4-3', 'ED-4-2', 'ED-4-1', 'ED-3-8', 'ED-3-7', 'ED-3-6', 'ED-3-5', 'ED-3-4', 'ED-3-3', 'ED-3-2', 'ED-3-1', 'ED-2-8', 'ED-2-7', 'ED-2-6', 'ED-2-5', 'ED-2-4', 'ED-2-3', 'ED-2-2', 'ED-2-1', 'ED-1-8', 'ED-1-7', 'ED-1-6', 'ED-1-5', 'ED-1-4', 'ED-1-3', 'ED-1-2', 'ED-1-1', 'EP-8-8', 'EP-8-7', 'EP-8-6', 'EP-8-5', 'EP-8-4', 'EP-8-3', 'EP-8-2', 'EP-8-1', 'EP-7-8', 'EP-7-7', 'EP-7-6', 'EP-7-5', 'EP-7-4', 'EP-7-3', 'EP-7-2', 'EP-7-1', 'EP-6-8', 'EP-6-7', 'EP-6-6', 'EP-6-5', 'EP-6-4', 'EP-6-3', 'EP-6-2', 'EP-6-1', 'EP-5-8', 'EP-5-7', 'EP-5-6', 'EP-5-5', 'EP-5-4', 'EP-5-3', 'EP-5-2', 'EP-5-1', 'EP-4-8', 'EP-4-7', 'EP-4-6', 'EP-4-5', 'EP-4-4', 'EP-4-3', 'EP-4-2', 'EP-4-1', 'EP-3-8', 'EP-3-7', 'EP-3-6', 'EP-3-5', 'EP-3-4', 'EP-3-3', 'EP-3-2', 'EP-3-1', 'EP-2-8', 'EP-2-7', 'EP-2-6', 'EP-2-5', 'EP-2-4', 'EP-2-3', 'EP-2-2', 'EP-2-1', 'EP-1-8', 'EP-1-7', 'EP-1-6', 'EP-1-5', 'EP-1-4', 'EP-1-3', 'EP-1-2', 'EP-1-1', 'FD-8-8', 'FD-8-7', 'FD-8-6', 'FD-8-5', 'FD-8-4', 'FD-8-3', 'FD-8-2', 'FD-8-1', 'FD-7-8', 'FD-7-7', 'FD-7-6', 'FD-7-5', 'FD-7-4', 'FD-7-3', 'FD-7-2', 'FD-7-1', 'FD-6-8', 'FD-6-7', 'FD-6-6', 'FD-6-5', 'FD-6-4', 'FD-6-3', 'FD-6-2', 'FD-6-1', 'FD-5-8', 'FD-5-7', 'FD-5-6', 'FD-5-5', 'FD-5-4', 'FD-5-3', 'FD-5-2', 'FD-5-1', 'FD-4-8', 'FD-4-7', 'FD-4-6', 'FD-4-5', 'FD-4-4', 'FD-4-3', 'FD-4-2', 'FD-4-1', 'FD-3-8', 'FD-3-7', 'FD-3-6', 'FD-3-5', 'FD-3-4', 'FD-3-3', 'FD-3-2', 'FD-3-1', 'FD-2-8', 'FD-2-7', 'FD-2-6', 'FD-2-5', 'FD-2-4', 'FD-2-3', 'FD-2-2', 'FD-2-1', 'FD-1-8', 'FD-1-7', 'FD-1-6', 'FD-1-5', 'FD-1-4', 'FD-1-3', 'FD-1-2', 'FD-1-1', 'FP-8-8', 'FP-8-7', 'FP-8-6', 'FP-8-5', 'FP-8-4', 'FP-8-3', 'FP-8-2', 'FP-8-1', 'FP-7-8', 'FP-7-7', 'FP-7-6', 'FP-7-5', 'FP-7-4', 'FP-7-3', 'FP-7-2', 'FP-7-1', 'FP-6-8', 'FP-6-7', 'FP-6-6', 'FP-6-5', 'FP-6-4', 'FP-6-3', 'FP-6-2', 'FP-6-1', 'FP-5-8', 'FP-5-7', 'FP-5-6', 'FP-5-5', 'FP-5-4', 'FP-5-3', 'FP-5-2', 'FP-5-1', 'FP-4-8', 'FP-4-7', 'FP-4-6', 'FP-4-5', 'FP-4-4', 'FP-4-3', 'FP-4-2', 'FP-4-1', 'FP-3-8', 'FP-3-7', 'FP-3-6', 'FP-3-5', 'FP-3-4', 'FP-3-3', 'FP-3-2', 'FP-3-1', 'FP-2-8', 'FP-2-7', 'FP-2-6', 'FP-2-5', 'FP-2-4', 'FP-2-3', 'FP-2-2', 'FP-2-1', 'FP-1-8', 'FP-1-7', 'FP-1-6', 'FP-1-5', 'FP-1-4', 'FP-1-3', 'FP-1-2', 'FP-1-1'], 'p_signal': array([[ 0.01508076,  0.01543759,  0.00757242, ...,  0.00228721,\n",
      "         0.01075519,  0.0061739 ],\n",
      "       [ 0.01479963,  0.01263171,  0.00299911, ...,  0.00245102,\n",
      "         0.01087679,  0.00360498],\n",
      "       [ 0.01001033,  0.00767644, -0.0002307 , ..., -0.00078263,\n",
      "         0.00450514, -0.00403515],\n",
      "       ...,\n",
      "       [ 0.02240026,  0.01864581,  0.02507856, ...,  0.02724632,\n",
      "         0.02842314,  0.03068776],\n",
      "       [ 0.01416708,  0.01058819,  0.01762827, ...,  0.02131292,\n",
      "         0.02179006,  0.02452597],\n",
      "       [ 0.00701828,  0.00073059,  0.00347409, ...,  0.01360799,\n",
      "         0.01471923,  0.01674649]]), 'd_signal': None, 'e_p_signal': None, 'e_d_signal': None, 'file_name': ['1dof_preprocess_finger1_sample1.dat', '1dof_preprocess_finger1_sample1.dat', '1dof_preprocess_finger1_sample1.dat', '1dof_preprocess_finger1_sample1.dat', '1dof_preprocess_finger1_sample1.dat', '1dof_preprocess_finger1_sample1.dat', '1dof_preprocess_finger1_sample1.dat', '1dof_preprocess_finger1_sample1.dat', '1dof_preprocess_finger1_sample1.dat', '1dof_preprocess_finger1_sample1.dat', '1dof_preprocess_finger1_sample1.dat', '1dof_preprocess_finger1_sample1.dat', '1dof_preprocess_finger1_sample1.dat', '1dof_preprocess_finger1_sample1.dat', '1dof_preprocess_finger1_sample1.dat', '1dof_preprocess_finger1_sample1.dat', '1dof_preprocess_finger1_sample1.dat', '1dof_preprocess_finger1_sample1.dat', '1dof_preprocess_finger1_sample1.dat', '1dof_preprocess_finger1_sample1.dat', '1dof_preprocess_finger1_sample1.dat', '1dof_preprocess_finger1_sample1.dat', '1dof_preprocess_finger1_sample1.dat', '1dof_preprocess_finger1_sample1.dat', '1dof_preprocess_finger1_sample1.dat', '1dof_preprocess_finger1_sample1.dat', '1dof_preprocess_finger1_sample1.dat', '1dof_preprocess_finger1_sample1.dat', '1dof_preprocess_finger1_sample1.dat', '1dof_preprocess_finger1_sample1.dat', '1dof_preprocess_finger1_sample1.dat', '1dof_preprocess_finger1_sample1.dat', '1dof_preprocess_finger1_sample1.dat', '1dof_preprocess_finger1_sample1.dat', '1dof_preprocess_finger1_sample1.dat', '1dof_preprocess_finger1_sample1.dat', '1dof_preprocess_finger1_sample1.dat', '1dof_preprocess_finger1_sample1.dat', '1dof_preprocess_finger1_sample1.dat', '1dof_preprocess_finger1_sample1.dat', '1dof_preprocess_finger1_sample1.dat', '1dof_preprocess_finger1_sample1.dat', '1dof_preprocess_finger1_sample1.dat', '1dof_preprocess_finger1_sample1.dat', '1dof_preprocess_finger1_sample1.dat', '1dof_preprocess_finger1_sample1.dat', '1dof_preprocess_finger1_sample1.dat', '1dof_preprocess_finger1_sample1.dat', '1dof_preprocess_finger1_sample1.dat', '1dof_preprocess_finger1_sample1.dat', '1dof_preprocess_finger1_sample1.dat', '1dof_preprocess_finger1_sample1.dat', '1dof_preprocess_finger1_sample1.dat', '1dof_preprocess_finger1_sample1.dat', '1dof_preprocess_finger1_sample1.dat', '1dof_preprocess_finger1_sample1.dat', '1dof_preprocess_finger1_sample1.dat', '1dof_preprocess_finger1_sample1.dat', '1dof_preprocess_finger1_sample1.dat', '1dof_preprocess_finger1_sample1.dat', '1dof_preprocess_finger1_sample1.dat', '1dof_preprocess_finger1_sample1.dat', '1dof_preprocess_finger1_sample1.dat', '1dof_preprocess_finger1_sample1.dat', '1dof_preprocess_finger1_sample1.dat', '1dof_preprocess_finger1_sample1.dat', '1dof_preprocess_finger1_sample1.dat', '1dof_preprocess_finger1_sample1.dat', '1dof_preprocess_finger1_sample1.dat', '1dof_preprocess_finger1_sample1.dat', '1dof_preprocess_finger1_sample1.dat', '1dof_preprocess_finger1_sample1.dat', '1dof_preprocess_finger1_sample1.dat', '1dof_preprocess_finger1_sample1.dat', '1dof_preprocess_finger1_sample1.dat', '1dof_preprocess_finger1_sample1.dat', '1dof_preprocess_finger1_sample1.dat', '1dof_preprocess_finger1_sample1.dat', '1dof_preprocess_finger1_sample1.dat', '1dof_preprocess_finger1_sample1.dat', '1dof_preprocess_finger1_sample1.dat', '1dof_preprocess_finger1_sample1.dat', '1dof_preprocess_finger1_sample1.dat', '1dof_preprocess_finger1_sample1.dat', '1dof_preprocess_finger1_sample1.dat', '1dof_preprocess_finger1_sample1.dat', '1dof_preprocess_finger1_sample1.dat', '1dof_preprocess_finger1_sample1.dat', '1dof_preprocess_finger1_sample1.dat', '1dof_preprocess_finger1_sample1.dat', '1dof_preprocess_finger1_sample1.dat', '1dof_preprocess_finger1_sample1.dat', '1dof_preprocess_finger1_sample1.dat', '1dof_preprocess_finger1_sample1.dat', '1dof_preprocess_finger1_sample1.dat', '1dof_preprocess_finger1_sample1.dat', '1dof_preprocess_finger1_sample1.dat', '1dof_preprocess_finger1_sample1.dat', '1dof_preprocess_finger1_sample1.dat', '1dof_preprocess_finger1_sample1.dat', '1dof_preprocess_finger1_sample1.dat', '1dof_preprocess_finger1_sample1.dat', '1dof_preprocess_finger1_sample1.dat', '1dof_preprocess_finger1_sample1.dat', '1dof_preprocess_finger1_sample1.dat', '1dof_preprocess_finger1_sample1.dat', '1dof_preprocess_finger1_sample1.dat', '1dof_preprocess_finger1_sample1.dat', '1dof_preprocess_finger1_sample1.dat', '1dof_preprocess_finger1_sample1.dat', '1dof_preprocess_finger1_sample1.dat', '1dof_preprocess_finger1_sample1.dat', '1dof_preprocess_finger1_sample1.dat', '1dof_preprocess_finger1_sample1.dat', '1dof_preprocess_finger1_sample1.dat', '1dof_preprocess_finger1_sample1.dat', '1dof_preprocess_finger1_sample1.dat', '1dof_preprocess_finger1_sample1.dat', '1dof_preprocess_finger1_sample1.dat', '1dof_preprocess_finger1_sample1.dat', '1dof_preprocess_finger1_sample1.dat', '1dof_preprocess_finger1_sample1.dat', '1dof_preprocess_finger1_sample1.dat', '1dof_preprocess_finger1_sample1.dat', '1dof_preprocess_finger1_sample1.dat', '1dof_preprocess_finger1_sample1.dat', '1dof_preprocess_finger1_sample1.dat', '1dof_preprocess_finger1_sample1.dat', '1dof_preprocess_finger1_sample1.dat', '1dof_preprocess_finger1_sample1.dat', '1dof_preprocess_finger1_sample1.dat', '1dof_preprocess_finger1_sample1.dat', '1dof_preprocess_finger1_sample1.dat', '1dof_preprocess_finger1_sample1.dat', '1dof_preprocess_finger1_sample1.dat', '1dof_preprocess_finger1_sample1.dat', '1dof_preprocess_finger1_sample1.dat', '1dof_preprocess_finger1_sample1.dat', '1dof_preprocess_finger1_sample1.dat', '1dof_preprocess_finger1_sample1.dat', '1dof_preprocess_finger1_sample1.dat', '1dof_preprocess_finger1_sample1.dat', '1dof_preprocess_finger1_sample1.dat', '1dof_preprocess_finger1_sample1.dat', '1dof_preprocess_finger1_sample1.dat', '1dof_preprocess_finger1_sample1.dat', '1dof_preprocess_finger1_sample1.dat', '1dof_preprocess_finger1_sample1.dat', '1dof_preprocess_finger1_sample1.dat', '1dof_preprocess_finger1_sample1.dat', '1dof_preprocess_finger1_sample1.dat', '1dof_preprocess_finger1_sample1.dat', '1dof_preprocess_finger1_sample1.dat', '1dof_preprocess_finger1_sample1.dat', '1dof_preprocess_finger1_sample1.dat', '1dof_preprocess_finger1_sample1.dat', '1dof_preprocess_finger1_sample1.dat', '1dof_preprocess_finger1_sample1.dat', '1dof_preprocess_finger1_sample1.dat', '1dof_preprocess_finger1_sample1.dat', '1dof_preprocess_finger1_sample1.dat', '1dof_preprocess_finger1_sample1.dat', '1dof_preprocess_finger1_sample1.dat', '1dof_preprocess_finger1_sample1.dat', '1dof_preprocess_finger1_sample1.dat', '1dof_preprocess_finger1_sample1.dat', '1dof_preprocess_finger1_sample1.dat', '1dof_preprocess_finger1_sample1.dat', '1dof_preprocess_finger1_sample1.dat', '1dof_preprocess_finger1_sample1.dat', '1dof_preprocess_finger1_sample1.dat', '1dof_preprocess_finger1_sample1.dat', '1dof_preprocess_finger1_sample1.dat', '1dof_preprocess_finger1_sample1.dat', '1dof_preprocess_finger1_sample1.dat', '1dof_preprocess_finger1_sample1.dat', '1dof_preprocess_finger1_sample1.dat', '1dof_preprocess_finger1_sample1.dat', '1dof_preprocess_finger1_sample1.dat', '1dof_preprocess_finger1_sample1.dat', '1dof_preprocess_finger1_sample1.dat', '1dof_preprocess_finger1_sample1.dat', '1dof_preprocess_finger1_sample1.dat', '1dof_preprocess_finger1_sample1.dat', '1dof_preprocess_finger1_sample1.dat', '1dof_preprocess_finger1_sample1.dat', '1dof_preprocess_finger1_sample1.dat', '1dof_preprocess_finger1_sample1.dat', '1dof_preprocess_finger1_sample1.dat', '1dof_preprocess_finger1_sample1.dat', '1dof_preprocess_finger1_sample1.dat', '1dof_preprocess_finger1_sample1.dat', '1dof_preprocess_finger1_sample1.dat', '1dof_preprocess_finger1_sample1.dat', '1dof_preprocess_finger1_sample1.dat', '1dof_preprocess_finger1_sample1.dat', '1dof_preprocess_finger1_sample1.dat', '1dof_preprocess_finger1_sample1.dat', '1dof_preprocess_finger1_sample1.dat', '1dof_preprocess_finger1_sample1.dat', '1dof_preprocess_finger1_sample1.dat', '1dof_preprocess_finger1_sample1.dat', '1dof_preprocess_finger1_sample1.dat', '1dof_preprocess_finger1_sample1.dat', '1dof_preprocess_finger1_sample1.dat', '1dof_preprocess_finger1_sample1.dat', '1dof_preprocess_finger1_sample1.dat', '1dof_preprocess_finger1_sample1.dat', '1dof_preprocess_finger1_sample1.dat', '1dof_preprocess_finger1_sample1.dat', '1dof_preprocess_finger1_sample1.dat', '1dof_preprocess_finger1_sample1.dat', '1dof_preprocess_finger1_sample1.dat', '1dof_preprocess_finger1_sample1.dat', '1dof_preprocess_finger1_sample1.dat', '1dof_preprocess_finger1_sample1.dat', '1dof_preprocess_finger1_sample1.dat', '1dof_preprocess_finger1_sample1.dat', '1dof_preprocess_finger1_sample1.dat', '1dof_preprocess_finger1_sample1.dat', '1dof_preprocess_finger1_sample1.dat', '1dof_preprocess_finger1_sample1.dat', '1dof_preprocess_finger1_sample1.dat', '1dof_preprocess_finger1_sample1.dat', '1dof_preprocess_finger1_sample1.dat', '1dof_preprocess_finger1_sample1.dat', '1dof_preprocess_finger1_sample1.dat', '1dof_preprocess_finger1_sample1.dat', '1dof_preprocess_finger1_sample1.dat', '1dof_preprocess_finger1_sample1.dat', '1dof_preprocess_finger1_sample1.dat', '1dof_preprocess_finger1_sample1.dat', '1dof_preprocess_finger1_sample1.dat', '1dof_preprocess_finger1_sample1.dat', '1dof_preprocess_finger1_sample1.dat', '1dof_preprocess_finger1_sample1.dat', '1dof_preprocess_finger1_sample1.dat', '1dof_preprocess_finger1_sample1.dat', '1dof_preprocess_finger1_sample1.dat', '1dof_preprocess_finger1_sample1.dat', '1dof_preprocess_finger1_sample1.dat', '1dof_preprocess_finger1_sample1.dat', '1dof_preprocess_finger1_sample1.dat', '1dof_preprocess_finger1_sample1.dat', '1dof_preprocess_finger1_sample1.dat', '1dof_preprocess_finger1_sample1.dat', '1dof_preprocess_finger1_sample1.dat', '1dof_preprocess_finger1_sample1.dat', '1dof_preprocess_finger1_sample1.dat', '1dof_preprocess_finger1_sample1.dat', '1dof_preprocess_finger1_sample1.dat', '1dof_preprocess_finger1_sample1.dat', '1dof_preprocess_finger1_sample1.dat', '1dof_preprocess_finger1_sample1.dat', '1dof_preprocess_finger1_sample1.dat', '1dof_preprocess_finger1_sample1.dat'], 'fmt': ['16', '16', '16', '16', '16', '16', '16', '16', '16', '16', '16', '16', '16', '16', '16', '16', '16', '16', '16', '16', '16', '16', '16', '16', '16', '16', '16', '16', '16', '16', '16', '16', '16', '16', '16', '16', '16', '16', '16', '16', '16', '16', '16', '16', '16', '16', '16', '16', '16', '16', '16', '16', '16', '16', '16', '16', '16', '16', '16', '16', '16', '16', '16', '16', '16', '16', '16', '16', '16', '16', '16', '16', '16', '16', '16', '16', '16', '16', '16', '16', '16', '16', '16', '16', '16', '16', '16', '16', '16', '16', '16', '16', '16', '16', '16', '16', '16', '16', '16', '16', '16', '16', '16', '16', '16', '16', '16', '16', '16', '16', '16', '16', '16', '16', '16', '16', '16', '16', '16', '16', '16', '16', '16', '16', '16', '16', '16', '16', '16', '16', '16', '16', '16', '16', '16', '16', '16', '16', '16', '16', '16', '16', '16', '16', '16', '16', '16', '16', '16', '16', '16', '16', '16', '16', '16', '16', '16', '16', '16', '16', '16', '16', '16', '16', '16', '16', '16', '16', '16', '16', '16', '16', '16', '16', '16', '16', '16', '16', '16', '16', '16', '16', '16', '16', '16', '16', '16', '16', '16', '16', '16', '16', '16', '16', '16', '16', '16', '16', '16', '16', '16', '16', '16', '16', '16', '16', '16', '16', '16', '16', '16', '16', '16', '16', '16', '16', '16', '16', '16', '16', '16', '16', '16', '16', '16', '16', '16', '16', '16', '16', '16', '16', '16', '16', '16', '16', '16', '16', '16', '16', '16', '16', '16', '16', '16', '16', '16', '16', '16', '16', '16', '16', '16', '16', '16', '16'], 'samps_per_frame': [1, 1, 1, 1, 1, 1, 1, 1, 1, 1, 1, 1, 1, 1, 1, 1, 1, 1, 1, 1, 1, 1, 1, 1, 1, 1, 1, 1, 1, 1, 1, 1, 1, 1, 1, 1, 1, 1, 1, 1, 1, 1, 1, 1, 1, 1, 1, 1, 1, 1, 1, 1, 1, 1, 1, 1, 1, 1, 1, 1, 1, 1, 1, 1, 1, 1, 1, 1, 1, 1, 1, 1, 1, 1, 1, 1, 1, 1, 1, 1, 1, 1, 1, 1, 1, 1, 1, 1, 1, 1, 1, 1, 1, 1, 1, 1, 1, 1, 1, 1, 1, 1, 1, 1, 1, 1, 1, 1, 1, 1, 1, 1, 1, 1, 1, 1, 1, 1, 1, 1, 1, 1, 1, 1, 1, 1, 1, 1, 1, 1, 1, 1, 1, 1, 1, 1, 1, 1, 1, 1, 1, 1, 1, 1, 1, 1, 1, 1, 1, 1, 1, 1, 1, 1, 1, 1, 1, 1, 1, 1, 1, 1, 1, 1, 1, 1, 1, 1, 1, 1, 1, 1, 1, 1, 1, 1, 1, 1, 1, 1, 1, 1, 1, 1, 1, 1, 1, 1, 1, 1, 1, 1, 1, 1, 1, 1, 1, 1, 1, 1, 1, 1, 1, 1, 1, 1, 1, 1, 1, 1, 1, 1, 1, 1, 1, 1, 1, 1, 1, 1, 1, 1, 1, 1, 1, 1, 1, 1, 1, 1, 1, 1, 1, 1, 1, 1, 1, 1, 1, 1, 1, 1, 1, 1, 1, 1, 1, 1, 1, 1, 1, 1, 1, 1, 1, 1], 'skew': [None, None, None, None, None, None, None, None, None, None, None, None, None, None, None, None, None, None, None, None, None, None, None, None, None, None, None, None, None, None, None, None, None, None, None, None, None, None, None, None, None, None, None, None, None, None, None, None, None, None, None, None, None, None, None, None, None, None, None, None, None, None, None, None, None, None, None, None, None, None, None, None, None, None, None, None, None, None, None, None, None, None, None, None, None, None, None, None, None, None, None, None, None, None, None, None, None, None, None, None, None, None, None, None, None, None, None, None, None, None, None, None, None, None, None, None, None, None, None, None, None, None, None, None, None, None, None, None, None, None, None, None, None, None, None, None, None, None, None, None, None, None, None, None, None, None, None, None, None, None, None, None, None, None, None, None, None, None, None, None, None, None, None, None, None, None, None, None, None, None, None, None, None, None, None, None, None, None, None, None, None, None, None, None, None, None, None, None, None, None, None, None, None, None, None, None, None, None, None, None, None, None, None, None, None, None, None, None, None, None, None, None, None, None, None, None, None, None, None, None, None, None, None, None, None, None, None, None, None, None, None, None, None, None, None, None, None, None, None, None, None, None, None, None, None, None, None, None, None, None, None, None, None, None, None, None], 'byte_offset': [None, None, None, None, None, None, None, None, None, None, None, None, None, None, None, None, None, None, None, None, None, None, None, None, None, None, None, None, None, None, None, None, None, None, None, None, None, None, None, None, None, None, None, None, None, None, None, None, None, None, None, None, None, None, None, None, None, None, None, None, None, None, None, None, None, None, None, None, None, None, None, None, None, None, None, None, None, None, None, None, None, None, None, None, None, None, None, None, None, None, None, None, None, None, None, None, None, None, None, None, None, None, None, None, None, None, None, None, None, None, None, None, None, None, None, None, None, None, None, None, None, None, None, None, None, None, None, None, None, None, None, None, None, None, None, None, None, None, None, None, None, None, None, None, None, None, None, None, None, None, None, None, None, None, None, None, None, None, None, None, None, None, None, None, None, None, None, None, None, None, None, None, None, None, None, None, None, None, None, None, None, None, None, None, None, None, None, None, None, None, None, None, None, None, None, None, None, None, None, None, None, None, None, None, None, None, None, None, None, None, None, None, None, None, None, None, None, None, None, None, None, None, None, None, None, None, None, None, None, None, None, None, None, None, None, None, None, None, None, None, None, None, None, None, None, None, None, None, None, None, None, None, None, None, None, None], 'adc_gain': [99597.0777, 94444.8175, 73688.4435, 65961.9062, 72089.0763, 74709.2658, 79433.9325, 88318.2785, 131587.2898, 109042.7095, 83518.2603, 67682.0606, 59317.7357, 62075.8918, 69390.582, 77652.2986, 144007.9376, 121766.7053, 81794.4165, 63132.722, 52218.9545, 54948.5053, 64474.7401, 74726.483, 147746.2939, 115920.4874, 89450.4602, 65529.3293, 51795.8995, 54510.6664, 62790.6621, 73285.6295, 135782.0243, 121379.827, 96618.7169, 74560.2708, 58154.8218, 57988.5624, 63581.6259, 72147.8239, 45676.8753, 127018.491, 107983.827, 86660.7812, 71923.5338, 66205.6906, 68159.1335, 73856.3543, 148449.7733, 132488.0692, 115447.7387, 94447.7776, 85396.1881, 79234.2876, 75900.5395, 76916.4303, 164160.4477, 151617.8678, 138493.8711, 98628.2406, 94421.9594, 96989.2598, 89816.0555, 85197.4965, 35680.1316, 44924.3863, 69144.6194, 95216.2928, 113128.061, 119859.4123, 122919.743, 125154.9821, 61300.7298, 62856.7691, 71478.0833, 79595.1767, 98283.0887, 111645.6719, 120623.6058, 122419.4078, 87803.2758, 65040.1446, 60396.665, 74452.2126, 93064.8054, 106096.8362, 113714.5521, 117507.2188, 105340.1203, 81251.8044, 73134.8492, 81202.5125, 90235.3586, 101582.2298, 109700.8463, 115130.0996, 106525.033, 76481.5878, 62429.7269, 67654.7468, 85631.053, 99321.2621, 107664.4409, 112820.5351, 83040.0465, 59492.8279, 55418.0117, 64620.9339, 79680.8531, 95237.1436, 102840.2037, 111784.7571, 80180.1223, 55819.1921, 52296.3697, 60928.4854, 78006.8305, 94539.9572, 101366.7228, 106291.2589, 94525.3403, 92644.298, 90754.5767, 60284.9411, 78393.6776, 86231.5314, 90181.0081, 95565.6491, 136925.6878, 143127.6013, 110507.7519, 118239.1112, 165068.9621, 167620.8976, 1335256.1731, 168874.0597, 139492.4834, 133859.3282, 100379.2498, 121704.3779, 165933.4681, 169620.8866, 173804.818, 172577.1118, 141725.0058, 131857.447, 85260.588, 119974.9199, 165169.2654, 171596.0374, 175287.0497, 177560.0473, 146681.5828, 137786.3165, 102958.6556, 140669.0595, 171968.7927, 173899.0501, 177839.2639, 175800.5976, 151768.1986, 163923.2811, 157863.3687, 174636.0016, 177329.3166, 177229.9648, 178731.4535, 176355.9849, 165752.0134, 176885.1537, 181193.0093, 182354.0967, 186586.1032, 182914.1144, 182040.3754, 177431.6824, 178918.1558, 195062.0545, 199211.3116, 194844.3869, 192080.739, 192749.7289, 189774.7363, 181032.5576, 206938.9264, 220448.7215, 225947.4383, 219477.6707, 208277.617, 201195.8088, 198227.5222, 191673.9687, 134523.8493, 129269.0995, 123640.2661, 115712.0657, 108496.0045, 106771.7008, 120969.9033, 146108.9023, 134991.7102, 130064.2097, 123762.1507, 110621.5178, 102487.8758, 96320.3657, 118942.3116, 148814.2448, 135084.5115, 123629.2772, 118696.6138, 112453.1395, 101223.3163, 115566.1646, 136619.6218, 143928.8014, 133437.6603, 118562.6966, 128157.8084, 128240.3526, 112935.1384, 114697.4181, 132901.8742, 141390.819, 139399.8013, 133552.6965, 138033.8915, 136782.5549, 141727.3677, 132348.9787, 138686.2739, 143052.716, 142862.0798, 150779.1049, 155750.5773, 147213.0094, 135926.4885, 153550.5385, 152578.52, 154474.5855, 142870.4245, 139732.4139, 153559.3137, 138441.3472, 140567.5558, 158023.5111, 161191.492, 162349.492, 145728.1249, 125486.5122, 140922.0978, 154111.3405, 161494.7723, 164829.5984, 164478.6657, 165049.5136], 'baseline': [-2339, -5010, -1935, -230, -7531, -8088, -7405, -6683, -5280, -7283, -4993, -7220, -8704, -7532, -6695, -6047, -6130, -7386, -4361, -7947, -7416, -6910, -6684, -6129, -6887, -5012, -3525, -5149, -6191, -6398, -6370, -5849, -5864, -4316, -3069, -2657, -4588, -5169, -5131, -4509, -5275, -4509, -5432, -5202, -3938, -4292, -4699, -4290, -4568, -4603, -5304, -4560, -5502, -6151, -5269, -4621, -5316, -5602, -5857, 1355, -2897, -6092, -3911, -2470, 3111, 4288, 3693, 1818, 1889, 1563, -285, -1813, 523, 2756, 3392, 7346, 7447, 3969, 800, -1362, 963, 938, 2551, 7272, 10007, 5669, 1690, -1398, 2962, 2889, 2947, 5418, 9084, 5933, 1331, -1908, 2219, 317, 3055, 5671, 6580, 5129, 564, -3033, 2008, 1722, 4032, 3924, 4435, 3264, -2063, -4610, 1905, 3219, 4918, 1083, 414, -2449, -5675, -6077, -619, -1871, -1625, 775, -1176, -6898, -6909, -6269, -3624, -3859, 1534, 3450, -5148, -5862, 752, -6023, -3613, -1117, 173, 1577, -4964, -6012, -6349, -6093, -3878, -233, 1430, 1661, -4653, -5243, -5831, -6457, -4596, -417, 4019, 812, -5143, -6148, -6172, -6268, -5278, -5119, -2668, -4978, -5084, -5602, -6073, -5937, -5477, -5672, -5093, -5045, -5241, -5347, -5391, -5934, -5352, -6140, -5404, -5451, -5251, -5425, -4975, -5595, -4785, -6037, -6643, -5619, -5270, -5403, -5218, -5408, -2097, -826, 51, -1394, -4304, -2925, -1480, -4174, -2408, -30, 699, -401, -2016, 604, -1439, -4807, -1855, -796, 1363, 631, -2536, 2146, -1422, -3128, -2214, -1288, 310, 946, 2192, 4429, -123, -2287, -2864, -563, -1321, -1504, -2327, 454, -809, -2494, -4054, -4912, -5229, -3330, 0, -4622, -4716, -4579, -4251, -2186, -4359, -700, -1394, -5225, -6055, -5375, -4782, 1153, -745, -4054, -5681, -6098, -6371, -6210], 'units': ['V', 'V', 'V', 'V', 'V', 'V', 'V', 'V', 'V', 'V', 'V', 'V', 'V', 'V', 'V', 'V', 'V', 'V', 'V', 'V', 'V', 'V', 'V', 'V', 'V', 'V', 'V', 'V', 'V', 'V', 'V', 'V', 'V', 'V', 'V', 'V', 'V', 'V', 'V', 'V', 'V', 'V', 'V', 'V', 'V', 'V', 'V', 'V', 'V', 'V', 'V', 'V', 'V', 'V', 'V', 'V', 'V', 'V', 'V', 'V', 'V', 'V', 'V', 'V', 'V', 'V', 'V', 'V', 'V', 'V', 'V', 'V', 'V', 'V', 'V', 'V', 'V', 'V', 'V', 'V', 'V', 'V', 'V', 'V', 'V', 'V', 'V', 'V', 'V', 'V', 'V', 'V', 'V', 'V', 'V', 'V', 'V', 'V', 'V', 'V', 'V', 'V', 'V', 'V', 'V', 'V', 'V', 'V', 'V', 'V', 'V', 'V', 'V', 'V', 'V', 'V', 'V', 'V', 'V', 'V', 'V', 'V', 'V', 'V', 'V', 'V', 'V', 'V', 'V', 'V', 'V', 'V', 'V', 'V', 'V', 'V', 'V', 'V', 'V', 'V', 'V', 'V', 'V', 'V', 'V', 'V', 'V', 'V', 'V', 'V', 'V', 'V', 'V', 'V', 'V', 'V', 'V', 'V', 'V', 'V', 'V', 'V', 'V', 'V', 'V', 'V', 'V', 'V', 'V', 'V', 'V', 'V', 'V', 'V', 'V', 'V', 'V', 'V', 'V', 'V', 'V', 'V', 'V', 'V', 'V', 'V', 'V', 'V', 'V', 'V', 'V', 'V', 'V', 'V', 'V', 'V', 'V', 'V', 'V', 'V', 'V', 'V', 'V', 'V', 'V', 'V', 'V', 'V', 'V', 'V', 'V', 'V', 'V', 'V', 'V', 'V', 'V', 'V', 'V', 'V', 'V', 'V', 'V', 'V', 'V', 'V', 'V', 'V', 'V', 'V', 'V', 'V', 'V', 'V', 'V', 'V', 'V', 'V', 'V', 'V', 'V', 'V', 'V', 'V', 'V', 'V', 'V', 'V', 'V', 'V', 'V', 'V', 'V', 'V', 'V', 'V'], 'adc_res': [0, 0, 0, 0, 0, 0, 0, 0, 0, 0, 0, 0, 0, 0, 0, 0, 0, 0, 0, 0, 0, 0, 0, 0, 0, 0, 0, 0, 0, 0, 0, 0, 0, 0, 0, 0, 0, 0, 0, 0, 0, 0, 0, 0, 0, 0, 0, 0, 0, 0, 0, 0, 0, 0, 0, 0, 0, 0, 0, 0, 0, 0, 0, 0, 0, 0, 0, 0, 0, 0, 0, 0, 0, 0, 0, 0, 0, 0, 0, 0, 0, 0, 0, 0, 0, 0, 0, 0, 0, 0, 0, 0, 0, 0, 0, 0, 0, 0, 0, 0, 0, 0, 0, 0, 0, 0, 0, 0, 0, 0, 0, 0, 0, 0, 0, 0, 0, 0, 0, 0, 0, 0, 0, 0, 0, 0, 0, 0, 0, 0, 0, 0, 0, 0, 0, 0, 0, 0, 0, 0, 0, 0, 0, 0, 0, 0, 0, 0, 0, 0, 0, 0, 0, 0, 0, 0, 0, 0, 0, 0, 0, 0, 0, 0, 0, 0, 0, 0, 0, 0, 0, 0, 0, 0, 0, 0, 0, 0, 0, 0, 0, 0, 0, 0, 0, 0, 0, 0, 0, 0, 0, 0, 0, 0, 0, 0, 0, 0, 0, 0, 0, 0, 0, 0, 0, 0, 0, 0, 0, 0, 0, 0, 0, 0, 0, 0, 0, 0, 0, 0, 0, 0, 0, 0, 0, 0, 0, 0, 0, 0, 0, 0, 0, 0, 0, 0, 0, 0, 0, 0, 0, 0, 0, 0, 0, 0, 0, 0, 0, 0, 0, 0, 0, 0, 0, 0], 'adc_zero': [0, 0, 0, 0, 0, 0, 0, 0, 0, 0, 0, 0, 0, 0, 0, 0, 0, 0, 0, 0, 0, 0, 0, 0, 0, 0, 0, 0, 0, 0, 0, 0, 0, 0, 0, 0, 0, 0, 0, 0, 0, 0, 0, 0, 0, 0, 0, 0, 0, 0, 0, 0, 0, 0, 0, 0, 0, 0, 0, 0, 0, 0, 0, 0, 0, 0, 0, 0, 0, 0, 0, 0, 0, 0, 0, 0, 0, 0, 0, 0, 0, 0, 0, 0, 0, 0, 0, 0, 0, 0, 0, 0, 0, 0, 0, 0, 0, 0, 0, 0, 0, 0, 0, 0, 0, 0, 0, 0, 0, 0, 0, 0, 0, 0, 0, 0, 0, 0, 0, 0, 0, 0, 0, 0, 0, 0, 0, 0, 0, 0, 0, 0, 0, 0, 0, 0, 0, 0, 0, 0, 0, 0, 0, 0, 0, 0, 0, 0, 0, 0, 0, 0, 0, 0, 0, 0, 0, 0, 0, 0, 0, 0, 0, 0, 0, 0, 0, 0, 0, 0, 0, 0, 0, 0, 0, 0, 0, 0, 0, 0, 0, 0, 0, 0, 0, 0, 0, 0, 0, 0, 0, 0, 0, 0, 0, 0, 0, 0, 0, 0, 0, 0, 0, 0, 0, 0, 0, 0, 0, 0, 0, 0, 0, 0, 0, 0, 0, 0, 0, 0, 0, 0, 0, 0, 0, 0, 0, 0, 0, 0, 0, 0, 0, 0, 0, 0, 0, 0, 0, 0, 0, 0, 0, 0, 0, 0, 0, 0, 0, 0, 0, 0, 0, 0, 0, 0], 'init_value': [-837, -3552, -1377, 485, -6969, -7383, -6629, -5758, -2865, -5789, -4423, -6620, -8370, -7178, -6182, -5026, -5229, -4785, -3471, -8579, -7980, -6771, -6059, -5150, -5699, -2816, -1997, -6070, -7023, -6417, -5851, -5047, -5281, -3153, -2992, -2443, -4432, -4760, -4457, -3282, -4883, -3151, -5287, -3569, -3002, -3411, -3545, -2931, -3532, -3602, -3649, -2191, -3518, -4866, -4115, -3820, -4593, -3026, -3319, 4135, -304, -4130, -3075, -1941, 4406, 5521, 5839, 3991, 4137, 3061, 513, -597, 1614, 3885, 6294, 10835, 9976, 5763, 2030, -128, 1229, 1548, 3888, 8918, 11762, 7205, 3236, -65, 3012, 3245, 3221, 6617, 10415, 7415, 2612, -357, 2268, 976, 3789, 6523, 7823, 6600, 2140, -1441, 3372, 2953, 4741, 4569, 5423, 4556, -676, -2828, 3577, 3956, 5000, 1149, 1355, -1036, -4214, -4454, 1472, -1000, -239, 1405, -417, -5750, -5460, -4821, -3238, -2327, 3243, 3778, -5332, -6590, -4749, -7605, -3783, -71, 1020, 1331, -5453, -7436, -7104, -7421, -3775, -40, 1101, 1289, -5216, -5829, -7240, -7594, -5251, -1012, 3270, -149, -5532, -7265, -7082, -7258, -6576, -6213, -3629, -6788, -6221, -6325, -6459, -7137, -7076, -7394, -6717, -6656, -7014, -6739, -5798, -6781, -7746, -7781, -7627, -6627, -5967, -6630, -6197, -6136, -6951, -7777, -8097, -7010, -6200, -6606, -6129, -6209, -2653, -996, 97, -1955, -4650, -2372, -831, -3265, -1336, 346, 1458, -329, -2002, 1078, -1280, -4022, -1882, -709, 1710, 842, -1856, 2464, -862, -2225, -1443, -884, 398, 1376, 2496, 4708, 510, -1482, -3028, -670, -2121, -1623, -1698, 855, -34, -2130, -3613, -5861, -4685, -3022, 639, -4029, -3936, -3661, -2446, -608, -3044, 565, -412, -4435, -5145, -4952, -585, 5993, 2486, -1743, -3887, -5721, -4602, -5191], 'checksum': [-1526, 6084, 22289, 31225, -24674, -32476, -812, 3661, 18048, -17681, 24946, -26617, 9151, -14562, -25703, -4530, 24997, 8234, 25226, -8601, 27871, -26137, 21643, -5244, -26319, 30005, -28987, -26849, 18955, -17301, -11651, -16935, 24549, 20796, -20627, 13156, -14240, -4991, -20574, -23596, 14037, 28204, -8810, -10885, -28037, -1861, 5901, -19140, 21146, -8394, 8630, -28886, -17753, -23069, -5733, 190, -1554, -16224, 2118, -22926, -11337, -11157, -10718, 30200, -32575, 677, 13120, 8284, -6481, 7525, 24094, -19500, -15756, 9364, 3518, 912, -3227, -29689, 1200, -6774, 18765, -12794, 5616, -32558, -2499, -3592, 1593, -7933, -1184, 22290, 27506, -6868, -22896, 9601, 4900, 22782, -15338, -10295, -8136, 24123, -13826, -2, -4824, -29394, -20067, 31721, 4783, -18155, -12438, -1977, 19729, -20917, 22951, -9861, 21880, 23846, -16923, -30639, 32389, 29078, -27029, 29908, -22313, -30772, 13572, -4565, -27035, 31684, -23983, 1424, -6767, 1168, -3752, 291, 2432, -16682, 10785, -7769, -14927, 23187, 25488, -633, 28998, -8802, -1879, -24394, 9489, 30799, -11562, -22793, 17620, 17460, -4648, 12083, 31480, 3145, -18398, -22783, -28874, 10602, -28505, 11051, -11100, -22288, -23515, 12201, 23589, 27846, 1372, -25809, -187, 18393, 20090, -31382, 15860, 5649, -30687, 7375, 4490, 9732, 8948, -29966, -10835, -9106, -29529, 27313, -6344, -2511, -10583, -12306, 22008, -1266, 60, -21424, -8657, -22645, 7375, -13297, -19451, -27785, 28099, -3600, 14143, -17431, 1874, 94, -4452, -11261, -26125, -10434, 16463, 6461, -11651, -16929, 16414, -18350, 21755, -12490, 28922, 19182, 30547, 25022, 6033, -15992, 21020, -26030, 1750, 10180, 11362, -27490, 12348, -14722, 5850, -20243, 31914, 28763, 3123, 13758, -19756, -17758, -15151, 8583, 10551, 2059, 18692, -10722, -16440, -29558, -13760, 25310, -18051, -18015, -3975, -9639, -10397, -22638], 'block_size': [0, 0, 0, 0, 0, 0, 0, 0, 0, 0, 0, 0, 0, 0, 0, 0, 0, 0, 0, 0, 0, 0, 0, 0, 0, 0, 0, 0, 0, 0, 0, 0, 0, 0, 0, 0, 0, 0, 0, 0, 0, 0, 0, 0, 0, 0, 0, 0, 0, 0, 0, 0, 0, 0, 0, 0, 0, 0, 0, 0, 0, 0, 0, 0, 0, 0, 0, 0, 0, 0, 0, 0, 0, 0, 0, 0, 0, 0, 0, 0, 0, 0, 0, 0, 0, 0, 0, 0, 0, 0, 0, 0, 0, 0, 0, 0, 0, 0, 0, 0, 0, 0, 0, 0, 0, 0, 0, 0, 0, 0, 0, 0, 0, 0, 0, 0, 0, 0, 0, 0, 0, 0, 0, 0, 0, 0, 0, 0, 0, 0, 0, 0, 0, 0, 0, 0, 0, 0, 0, 0, 0, 0, 0, 0, 0, 0, 0, 0, 0, 0, 0, 0, 0, 0, 0, 0, 0, 0, 0, 0, 0, 0, 0, 0, 0, 0, 0, 0, 0, 0, 0, 0, 0, 0, 0, 0, 0, 0, 0, 0, 0, 0, 0, 0, 0, 0, 0, 0, 0, 0, 0, 0, 0, 0, 0, 0, 0, 0, 0, 0, 0, 0, 0, 0, 0, 0, 0, 0, 0, 0, 0, 0, 0, 0, 0, 0, 0, 0, 0, 0, 0, 0, 0, 0, 0, 0, 0, 0, 0, 0, 0, 0, 0, 0, 0, 0, 0, 0, 0, 0, 0, 0, 0, 0, 0, 0, 0, 0, 0, 0, 0, 0, 0, 0, 0, 0]}\n"
     ]
    }
   ],
   "source": [
    "# Read a WFDB record\n",
    "record_force = wfdb.rdrecord('../data/1dof_dataset/subject01_session1/1dof_force_finger1_sample1')\n",
    "record_emg = wfdb.rdrecord('../data/1dof_dataset/subject01_session1/1dof_preprocess_finger1_sample1')\n",
    "\n",
    "# Display basic information about the record\n",
    "print(record_force.__dict__)\n",
    "print(record_emg.__dict__)"
   ]
  },
  {
   "cell_type": "code",
   "execution_count": 12,
   "metadata": {},
   "outputs": [
    {
     "name": "stdout",
     "output_type": "stream",
     "text": [
      "emg.shape:(256, 51200)\n",
      "force.shape:(5, 2500)\n",
      "force_sampled.shape:(5, 51200)\n"
     ]
    }
   ],
   "source": [
    "emg_raw = np.array(record_emg.__dict__['p_signal'].T)\n",
    "force_raw = np.array(record_force.__dict__['p_signal'].T)\n",
    "\n",
    "num_frames = emg_raw.shape[-1]\n",
    "force_sampled = np.array(upsample_fractional(force_raw, emg_raw.shape[-1]/force_raw.shape[-1]))\n",
    "\n",
    "print(\"emg.shape:\"+str(emg_raw.shape))\n",
    "print(\"force.shape:\"+str(force_raw.shape))\n",
    "print(\"force_sampled.shape:\"+str(force_sampled.shape))"
   ]
  },
  {
   "cell_type": "code",
   "execution_count": 13,
   "metadata": {},
   "outputs": [
    {
     "data": {
      "text/plain": [
       "(array([[-1.00554562]]), array([[0.83285032]]))"
      ]
     },
     "execution_count": 13,
     "metadata": {},
     "output_type": "execute_result"
    }
   ],
   "source": [
    "(np.min(emg_raw, keepdims=True), np.max(emg_raw, keepdims=True))"
   ]
  },
  {
   "cell_type": "code",
   "execution_count": 14,
   "metadata": {},
   "outputs": [
    {
     "data": {
      "text/plain": [
       "(array([[-0.41168721]]), array([[0.27417105]]))"
      ]
     },
     "execution_count": 14,
     "metadata": {},
     "output_type": "execute_result"
    }
   ],
   "source": [
    "(np.min(force_sampled, keepdims=True), np.max(force_sampled, keepdims=True))"
   ]
  },
  {
   "cell_type": "code",
   "execution_count": 15,
   "metadata": {},
   "outputs": [],
   "source": [
    "\n",
    "#emg_raw = emg_raw - np.mean(emg_raw, axis=1, keepdims=True) # Normalize to first 10 frames\n",
    "\n",
    "emg_hdsmg_min = np.min(emg_raw, axis=1, keepdims=True)\n",
    "emg_hdsmg_max = np.max(emg_raw, axis=1, keepdims=True)\n",
    "emg_hdsmg_range = emg_hdsmg_max - emg_hdsmg_min\n",
    "emg_final = (emg_raw - emg_hdsmg_min) / emg_hdsmg_range\n",
    "\n",
    "force_min = np.min(force_sampled, keepdims=True)\n",
    "force_max = np.max(force_sampled, keepdims=True)\n",
    "force_range = force_max - force_min\n",
    "force_final = (force_sampled - force_min) / force_range\n",
    "\n",
    "#force_final = force_sampled"
   ]
  },
  {
   "cell_type": "code",
   "execution_count": 16,
   "metadata": {},
   "outputs": [
    {
     "name": "stdout",
     "output_type": "stream",
     "text": [
      "emg.final:[[0.]][[1.]]\n",
      "force.final:[[0.]][[1.]]\n"
     ]
    }
   ],
   "source": [
    "print(\"emg.final:\"+str(np.min(emg_final, keepdims=True)) + str(np.max(emg_final, keepdims=True)))\n",
    "print(\"force.final:\"+str(np.min(force_final, keepdims=True)) + str(np.max(force_final, keepdims=True)))"
   ]
  },
  {
   "cell_type": "code",
   "execution_count": 17,
   "metadata": {},
   "outputs": [],
   "source": [
    "fps = 100\n",
    "class EmgKinVisualizer:\n",
    "    def __init__(self, width=800, height=600):\n",
    "        self.speed = 100\n",
    "        self.width = width\n",
    "        self.height = height\n",
    "        self.current_frame = 0\n",
    "        self.running = False\n",
    "\n",
    "        self.screen = pygame.display.set_mode(\n",
    "            (width, height + 50))  # Extra height for timeline\n",
    "        pygame.display.set_caption(\"EMG and Kinematics Visualizer\")\n",
    "\n",
    "        self.timeline_rect = pygame.Rect(50, height + 10, width - 100, 30)\n",
    "        self.slider_rect = pygame.Rect(50, height + 10, 10, 30)\n",
    "        self.exit_button_rect = pygame.Rect(700, 10, 60, 30)\n",
    "\n",
    "    def run(self):\n",
    "        clock = pygame.time.Clock()\n",
    "\n",
    "        while True:\n",
    "            for event in pygame.event.get():\n",
    "                if event.type == pygame.QUIT:\n",
    "                    pygame.quit()\n",
    "                    return\n",
    "                elif event.type == pygame.KEYDOWN:\n",
    "                    self.handle_key_event(event.key)\n",
    "                elif event.type == pygame.MOUSEBUTTONDOWN:\n",
    "                    if event.button == 1:  # Left mouse button\n",
    "                        if self.timeline_rect.collidepoint(event.pos):\n",
    "                            self.update_frame_from_mouse(event.pos[0])\n",
    "                        if self.exit_button_rect.collidepoint(event.pos):\n",
    "                            pygame.quit()\n",
    "                            return\n",
    "                elif event.type == pygame.MOUSEMOTION:\n",
    "                    if event.buttons[0]:  # Left mouse button held down\n",
    "                        if self.timeline_rect.collidepoint(event.pos):\n",
    "                            self.update_frame_from_mouse(event.pos[0])\n",
    "\n",
    "            if self.running:\n",
    "                self.current_frame += self.speed\n",
    "                if self.current_frame >= num_frames:\n",
    "                    self.current_frame = 0\n",
    "                elif self.current_frame < 0:\n",
    "                    self.current_frame = num_frames - 1\n",
    "\n",
    "            self.draw()\n",
    "            pygame.display.flip()\n",
    "            clock.tick(fps)\n",
    "\n",
    "    def draw(self):\n",
    "        self.screen.fill((0, 0, 0))\n",
    "        \n",
    "        # Draw emg data\n",
    "        viz_emg(self.screen, emg_final[:, self.current_frame])\n",
    "\n",
    "        # Draw glove data\n",
    "        viz_force(self.screen, force_final[:, self.current_frame])\n",
    "\n",
    "        # Draw timeline\n",
    "        pygame.draw.rect(self.screen, (100, 100, 100), self.timeline_rect)\n",
    "        slider_x = int(self.timeline_rect.left +\n",
    "                       (self.current_frame / num_frames) * self.timeline_rect.width)\n",
    "        self.slider_rect.left = slider_x\n",
    "        pygame.draw.rect(self.screen, (200, 200, 200), self.slider_rect)\n",
    "\n",
    "        # Draw current frame number\n",
    "        text = font.render(\n",
    "            f\"Frame: {self.current_frame}/{num_frames-1}\", True, (200, 200, 200))\n",
    "        self.screen.blit(text, (10, self.height - 30))\n",
    "\n",
    "        # Draw exit button\n",
    "        pygame.draw.rect(self.screen, (200, 50, 50), self.exit_button_rect)\n",
    "        exit_text = font.render(\"Exit\", True, (255, 255, 255))\n",
    "        self.screen.blit(exit_text, (self.exit_button_rect.x + 10, self.exit_button_rect.y + 5))\n",
    "\n",
    "    def handle_key_event(self, key):\n",
    "        if key == pygame.K_SPACE:\n",
    "            self.running = not self.running\n",
    "        elif key == pygame.K_RIGHT:\n",
    "            self.speed = 1\n",
    "            self.running = True\n",
    "        elif key == pygame.K_LEFT:\n",
    "            self.speed = -1\n",
    "            self.running = True\n",
    "        elif key == pygame.K_UP:\n",
    "            self.speed = min(self.speed * 2, 16)\n",
    "        elif key == pygame.K_DOWN:\n",
    "            self.speed = max(self.speed // 2, 1)\n",
    "\n",
    "    def update_frame_from_mouse(self, mouse_x):\n",
    "        timeline_x = mouse_x - self.timeline_rect.left\n",
    "        frame_ratio = timeline_x / self.timeline_rect.width\n",
    "        self.current_frame = int(frame_ratio * num_frames)\n",
    "        self.current_frame = max(0, min(self.current_frame, num_frames - 1))\n",
    "        self.running = False\n",
    "\n",
    "\n",
    "if __name__ == \"__main__\":\n",
    "    visualizer = EmgKinVisualizer()\n",
    "    visualizer.run()"
   ]
  }
 ],
 "metadata": {
  "kernelspec": {
   "display_name": "emgkin",
   "language": "python",
   "name": "python3"
  },
  "language_info": {
   "codemirror_mode": {
    "name": "ipython",
    "version": 3
   },
   "file_extension": ".py",
   "mimetype": "text/x-python",
   "name": "python",
   "nbconvert_exporter": "python",
   "pygments_lexer": "ipython3",
   "version": "3.12.5"
  }
 },
 "nbformat": 4,
 "nbformat_minor": 2
}
