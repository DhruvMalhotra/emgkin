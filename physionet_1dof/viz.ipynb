{
 "cells": [
  {
   "cell_type": "code",
   "execution_count": 9,
   "metadata": {},
   "outputs": [],
   "source": [
    "import wfdb\n",
    "import numpy as np\n",
    "import pygame\n",
    "\n",
    "pygame.init()\n",
    "font = pygame.font.Font(None, 36)\n",
    "\n",
    "def upsample_fractional(signal, factor):\n",
    "    \"\"\"\n",
    "    Upsample a 2D signal by a given factor using linear interpolation.\n",
    "    Each row is assumed to be a separate channel or variable, and columns represent time.\n",
    "\n",
    "    :param signal: Input 2D signal as a numpy array (channels x time)\n",
    "    :param factor: Upsampling factor (can be integer or float)\n",
    "    :return: Upsampled 2D signal\n",
    "    \"\"\"\n",
    "    # Get the original dimensions\n",
    "    num_channels, original_time = signal.shape\n",
    "\n",
    "    # Calculate the new time dimension\n",
    "    new_time = int(original_time * factor)\n",
    "\n",
    "    # Create old and new time axes\n",
    "    old_time_indices = np.arange(original_time)\n",
    "    new_time_indices = np.linspace(0, original_time - 1, new_time)\n",
    "\n",
    "    # Initialize the output array\n",
    "    upsampled_signal = np.zeros((num_channels, new_time))\n",
    "\n",
    "    # Interpolate each channel\n",
    "    for channel in range(num_channels):\n",
    "        upsampled_signal[channel, :] = np.interp(\n",
    "            new_time_indices, old_time_indices, signal[channel, :])\n",
    "\n",
    "    return upsampled_signal\n",
    "\n",
    "def get_color(value):\n",
    "    value = min(value, 1)\n",
    "    value = max(value, 0)\n",
    "    # Example color mapping function\n",
    "    return int(value * 255), 0, 255 - int(value * 255)\n",
    "\n",
    "def viz_emg(screen, emg_frame):\n",
    "    left = 50\n",
    "    top = 50\n",
    "    scale = 20\n",
    "    size = 1\n",
    "    \n",
    "    for i in range(4):\n",
    "        for j in range(8):\n",
    "            for k in range(8):\n",
    "                pygame.draw.rect(screen, get_color(emg_frame[i*64+j*k]),\n",
    "                                 (left+(i//2)*scale*10+scale*j,\n",
    "                                  top+(i%2)*scale*10+scale*k,\n",
    "                                  scale*size,\n",
    "                                  scale*size))\n",
    "                \n",
    "def viz_force(screen, force_frame):\n",
    "    left = 500\n",
    "    top = 100\n",
    "    scale = 20\n",
    "    size = 1\n",
    "\n",
    "    def viz_force_extensor_helper(screen, x, y, data):\n",
    "        pygame.draw.rect(screen, get_color(data), (left+scale*x, top+scale*y, scale*size, scale*size))\n",
    "\n",
    "    viz_force_extensor_helper(screen, 1, 5, force_frame[0])\n",
    "    viz_force_extensor_helper(screen, 2, 1, force_frame[1])\n",
    "    viz_force_extensor_helper(screen, 3, 1, force_frame[2])\n",
    "    viz_force_extensor_helper(screen, 4, 1, force_frame[3])\n",
    "    viz_force_extensor_helper(screen, 5, 1, force_frame[4])\n",
    "    \n",
    "\n",
    "    "
   ]
  },
  {
   "cell_type": "code",
   "execution_count": 10,
   "metadata": {},
   "outputs": [
    {
     "name": "stdout",
     "output_type": "stream",
     "text": [
      "{'record_name': '1dof_force_finger4_sample1', 'n_sig': 5, 'fs': 100, 'counter_freq': None, 'base_counter': None, 'sig_len': 2500, 'base_time': None, 'base_date': None, 'comments': [], 'sig_name': ['thumb', 'index', 'middle', 'ring', 'little'], 'p_signal': array([[ 0.00215177, -0.00052399,  0.00018122, -0.00160492, -0.00222965],\n",
      "       [ 0.00182126, -0.00117402, -0.00079876, -0.00193535, -0.00123922],\n",
      "       [ 0.00050172,  0.00079589,  0.00018122, -0.00094407, -0.0018995 ],\n",
      "       ...,\n",
      "       [-0.00047852,  0.00605557,  0.0067611 , -0.00028322, -0.01767916],\n",
      "       [-0.00014864,  0.0047357 ,  0.00183086,  0.0033249 , -0.01504863],\n",
      "       [ 0.00346127,  0.00506547,  0.00413071,  0.00299448, -0.01635859]]), 'd_signal': None, 'e_p_signal': None, 'e_d_signal': None, 'file_name': ['1dof_force_finger4_sample1.dat', '1dof_force_finger4_sample1.dat', '1dof_force_finger4_sample1.dat', '1dof_force_finger4_sample1.dat', '1dof_force_finger4_sample1.dat'], 'fmt': ['16', '16', '16', '16', '16'], 'samps_per_frame': [1, 1, 1, 1, 1], 'skew': [None, None, None, None, None], 'byte_offset': [None, None, None, None, None], 'adc_gain': [1594501.2165, 1261482.1944, 1285736.7079, 338957.2773, 848116.9924], 'baseline': [-7879, -13448, -4251, 11133, 16525], 'units': ['V', 'V', 'V', 'V', 'V'], 'adc_res': [0, 0, 0, 0, 0], 'adc_zero': [0, 0, 0, 0, 0], 'init_value': [-4448, -14109, -4018, 10589, 14634], 'checksum': [29153, 1074, 30307, -7241, 30981], 'block_size': [0, 0, 0, 0, 0]}\n",
      "{'record_name': '1dof_preprocess_finger4_sample1', 'n_sig': 256, 'fs': 2048, 'counter_freq': None, 'base_counter': None, 'sig_len': 51200, 'base_time': None, 'base_date': None, 'comments': [], 'sig_name': ['ED-8-8', 'ED-8-7', 'ED-8-6', 'ED-8-5', 'ED-8-4', 'ED-8-3', 'ED-8-2', 'ED-8-1', 'ED-7-8', 'ED-7-7', 'ED-7-6', 'ED-7-5', 'ED-7-4', 'ED-7-3', 'ED-7-2', 'ED-7-1', 'ED-6-8', 'ED-6-7', 'ED-6-6', 'ED-6-5', 'ED-6-4', 'ED-6-3', 'ED-6-2', 'ED-6-1', 'ED-5-8', 'ED-5-7', 'ED-5-6', 'ED-5-5', 'ED-5-4', 'ED-5-3', 'ED-5-2', 'ED-5-1', 'ED-4-8', 'ED-4-7', 'ED-4-6', 'ED-4-5', 'ED-4-4', 'ED-4-3', 'ED-4-2', 'ED-4-1', 'ED-3-8', 'ED-3-7', 'ED-3-6', 'ED-3-5', 'ED-3-4', 'ED-3-3', 'ED-3-2', 'ED-3-1', 'ED-2-8', 'ED-2-7', 'ED-2-6', 'ED-2-5', 'ED-2-4', 'ED-2-3', 'ED-2-2', 'ED-2-1', 'ED-1-8', 'ED-1-7', 'ED-1-6', 'ED-1-5', 'ED-1-4', 'ED-1-3', 'ED-1-2', 'ED-1-1', 'EP-8-8', 'EP-8-7', 'EP-8-6', 'EP-8-5', 'EP-8-4', 'EP-8-3', 'EP-8-2', 'EP-8-1', 'EP-7-8', 'EP-7-7', 'EP-7-6', 'EP-7-5', 'EP-7-4', 'EP-7-3', 'EP-7-2', 'EP-7-1', 'EP-6-8', 'EP-6-7', 'EP-6-6', 'EP-6-5', 'EP-6-4', 'EP-6-3', 'EP-6-2', 'EP-6-1', 'EP-5-8', 'EP-5-7', 'EP-5-6', 'EP-5-5', 'EP-5-4', 'EP-5-3', 'EP-5-2', 'EP-5-1', 'EP-4-8', 'EP-4-7', 'EP-4-6', 'EP-4-5', 'EP-4-4', 'EP-4-3', 'EP-4-2', 'EP-4-1', 'EP-3-8', 'EP-3-7', 'EP-3-6', 'EP-3-5', 'EP-3-4', 'EP-3-3', 'EP-3-2', 'EP-3-1', 'EP-2-8', 'EP-2-7', 'EP-2-6', 'EP-2-5', 'EP-2-4', 'EP-2-3', 'EP-2-2', 'EP-2-1', 'EP-1-8', 'EP-1-7', 'EP-1-6', 'EP-1-5', 'EP-1-4', 'EP-1-3', 'EP-1-2', 'EP-1-1', 'FD-8-8', 'FD-8-7', 'FD-8-6', 'FD-8-5', 'FD-8-4', 'FD-8-3', 'FD-8-2', 'FD-8-1', 'FD-7-8', 'FD-7-7', 'FD-7-6', 'FD-7-5', 'FD-7-4', 'FD-7-3', 'FD-7-2', 'FD-7-1', 'FD-6-8', 'FD-6-7', 'FD-6-6', 'FD-6-5', 'FD-6-4', 'FD-6-3', 'FD-6-2', 'FD-6-1', 'FD-5-8', 'FD-5-7', 'FD-5-6', 'FD-5-5', 'FD-5-4', 'FD-5-3', 'FD-5-2', 'FD-5-1', 'FD-4-8', 'FD-4-7', 'FD-4-6', 'FD-4-5', 'FD-4-4', 'FD-4-3', 'FD-4-2', 'FD-4-1', 'FD-3-8', 'FD-3-7', 'FD-3-6', 'FD-3-5', 'FD-3-4', 'FD-3-3', 'FD-3-2', 'FD-3-1', 'FD-2-8', 'FD-2-7', 'FD-2-6', 'FD-2-5', 'FD-2-4', 'FD-2-3', 'FD-2-2', 'FD-2-1', 'FD-1-8', 'FD-1-7', 'FD-1-6', 'FD-1-5', 'FD-1-4', 'FD-1-3', 'FD-1-2', 'FD-1-1', 'FP-8-8', 'FP-8-7', 'FP-8-6', 'FP-8-5', 'FP-8-4', 'FP-8-3', 'FP-8-2', 'FP-8-1', 'FP-7-8', 'FP-7-7', 'FP-7-6', 'FP-7-5', 'FP-7-4', 'FP-7-3', 'FP-7-2', 'FP-7-1', 'FP-6-8', 'FP-6-7', 'FP-6-6', 'FP-6-5', 'FP-6-4', 'FP-6-3', 'FP-6-2', 'FP-6-1', 'FP-5-8', 'FP-5-7', 'FP-5-6', 'FP-5-5', 'FP-5-4', 'FP-5-3', 'FP-5-2', 'FP-5-1', 'FP-4-8', 'FP-4-7', 'FP-4-6', 'FP-4-5', 'FP-4-4', 'FP-4-3', 'FP-4-2', 'FP-4-1', 'FP-3-8', 'FP-3-7', 'FP-3-6', 'FP-3-5', 'FP-3-4', 'FP-3-3', 'FP-3-2', 'FP-3-1', 'FP-2-8', 'FP-2-7', 'FP-2-6', 'FP-2-5', 'FP-2-4', 'FP-2-3', 'FP-2-2', 'FP-2-1', 'FP-1-8', 'FP-1-7', 'FP-1-6', 'FP-1-5', 'FP-1-4', 'FP-1-3', 'FP-1-2', 'FP-1-1'], 'p_signal': array([[ 0.01429496,  0.00592436, -0.00170873, ...,  0.00172969,\n",
      "         0.00520267,  0.00882327],\n",
      "       [ 0.01335822,  0.00471354, -0.00184275, ..., -0.00323298,\n",
      "         0.00093567,  0.00400783],\n",
      "       [ 0.00823821,  0.00373747, -0.00067009, ..., -0.00927332,\n",
      "        -0.0046703 , -0.00263415],\n",
      "       ...,\n",
      "       [ 0.00516492,  0.00442937, -0.00380277, ...,  0.01173655,\n",
      "         0.01122001,  0.00916292],\n",
      "       [-0.00088541, -0.00669039, -0.01521944, ...,  0.00617618,\n",
      "         0.00488002,  0.00101139],\n",
      "       [-0.00705765, -0.0155306 , -0.02399763, ..., -0.00577771,\n",
      "        -0.00638839, -0.00990259]]), 'd_signal': None, 'e_p_signal': None, 'e_d_signal': None, 'file_name': ['1dof_preprocess_finger4_sample1.dat', '1dof_preprocess_finger4_sample1.dat', '1dof_preprocess_finger4_sample1.dat', '1dof_preprocess_finger4_sample1.dat', '1dof_preprocess_finger4_sample1.dat', '1dof_preprocess_finger4_sample1.dat', '1dof_preprocess_finger4_sample1.dat', '1dof_preprocess_finger4_sample1.dat', '1dof_preprocess_finger4_sample1.dat', '1dof_preprocess_finger4_sample1.dat', '1dof_preprocess_finger4_sample1.dat', '1dof_preprocess_finger4_sample1.dat', '1dof_preprocess_finger4_sample1.dat', '1dof_preprocess_finger4_sample1.dat', '1dof_preprocess_finger4_sample1.dat', '1dof_preprocess_finger4_sample1.dat', '1dof_preprocess_finger4_sample1.dat', '1dof_preprocess_finger4_sample1.dat', '1dof_preprocess_finger4_sample1.dat', '1dof_preprocess_finger4_sample1.dat', '1dof_preprocess_finger4_sample1.dat', '1dof_preprocess_finger4_sample1.dat', '1dof_preprocess_finger4_sample1.dat', '1dof_preprocess_finger4_sample1.dat', '1dof_preprocess_finger4_sample1.dat', '1dof_preprocess_finger4_sample1.dat', '1dof_preprocess_finger4_sample1.dat', '1dof_preprocess_finger4_sample1.dat', '1dof_preprocess_finger4_sample1.dat', '1dof_preprocess_finger4_sample1.dat', '1dof_preprocess_finger4_sample1.dat', '1dof_preprocess_finger4_sample1.dat', '1dof_preprocess_finger4_sample1.dat', '1dof_preprocess_finger4_sample1.dat', '1dof_preprocess_finger4_sample1.dat', '1dof_preprocess_finger4_sample1.dat', '1dof_preprocess_finger4_sample1.dat', '1dof_preprocess_finger4_sample1.dat', '1dof_preprocess_finger4_sample1.dat', '1dof_preprocess_finger4_sample1.dat', '1dof_preprocess_finger4_sample1.dat', '1dof_preprocess_finger4_sample1.dat', '1dof_preprocess_finger4_sample1.dat', '1dof_preprocess_finger4_sample1.dat', '1dof_preprocess_finger4_sample1.dat', '1dof_preprocess_finger4_sample1.dat', '1dof_preprocess_finger4_sample1.dat', '1dof_preprocess_finger4_sample1.dat', '1dof_preprocess_finger4_sample1.dat', '1dof_preprocess_finger4_sample1.dat', '1dof_preprocess_finger4_sample1.dat', '1dof_preprocess_finger4_sample1.dat', '1dof_preprocess_finger4_sample1.dat', '1dof_preprocess_finger4_sample1.dat', '1dof_preprocess_finger4_sample1.dat', '1dof_preprocess_finger4_sample1.dat', '1dof_preprocess_finger4_sample1.dat', '1dof_preprocess_finger4_sample1.dat', '1dof_preprocess_finger4_sample1.dat', '1dof_preprocess_finger4_sample1.dat', '1dof_preprocess_finger4_sample1.dat', '1dof_preprocess_finger4_sample1.dat', '1dof_preprocess_finger4_sample1.dat', '1dof_preprocess_finger4_sample1.dat', '1dof_preprocess_finger4_sample1.dat', '1dof_preprocess_finger4_sample1.dat', '1dof_preprocess_finger4_sample1.dat', '1dof_preprocess_finger4_sample1.dat', '1dof_preprocess_finger4_sample1.dat', '1dof_preprocess_finger4_sample1.dat', '1dof_preprocess_finger4_sample1.dat', '1dof_preprocess_finger4_sample1.dat', '1dof_preprocess_finger4_sample1.dat', '1dof_preprocess_finger4_sample1.dat', '1dof_preprocess_finger4_sample1.dat', '1dof_preprocess_finger4_sample1.dat', '1dof_preprocess_finger4_sample1.dat', '1dof_preprocess_finger4_sample1.dat', '1dof_preprocess_finger4_sample1.dat', '1dof_preprocess_finger4_sample1.dat', '1dof_preprocess_finger4_sample1.dat', '1dof_preprocess_finger4_sample1.dat', '1dof_preprocess_finger4_sample1.dat', '1dof_preprocess_finger4_sample1.dat', '1dof_preprocess_finger4_sample1.dat', '1dof_preprocess_finger4_sample1.dat', '1dof_preprocess_finger4_sample1.dat', '1dof_preprocess_finger4_sample1.dat', '1dof_preprocess_finger4_sample1.dat', '1dof_preprocess_finger4_sample1.dat', '1dof_preprocess_finger4_sample1.dat', '1dof_preprocess_finger4_sample1.dat', '1dof_preprocess_finger4_sample1.dat', '1dof_preprocess_finger4_sample1.dat', '1dof_preprocess_finger4_sample1.dat', '1dof_preprocess_finger4_sample1.dat', '1dof_preprocess_finger4_sample1.dat', '1dof_preprocess_finger4_sample1.dat', '1dof_preprocess_finger4_sample1.dat', '1dof_preprocess_finger4_sample1.dat', '1dof_preprocess_finger4_sample1.dat', '1dof_preprocess_finger4_sample1.dat', '1dof_preprocess_finger4_sample1.dat', '1dof_preprocess_finger4_sample1.dat', '1dof_preprocess_finger4_sample1.dat', '1dof_preprocess_finger4_sample1.dat', '1dof_preprocess_finger4_sample1.dat', '1dof_preprocess_finger4_sample1.dat', '1dof_preprocess_finger4_sample1.dat', '1dof_preprocess_finger4_sample1.dat', '1dof_preprocess_finger4_sample1.dat', '1dof_preprocess_finger4_sample1.dat', '1dof_preprocess_finger4_sample1.dat', '1dof_preprocess_finger4_sample1.dat', '1dof_preprocess_finger4_sample1.dat', '1dof_preprocess_finger4_sample1.dat', '1dof_preprocess_finger4_sample1.dat', '1dof_preprocess_finger4_sample1.dat', '1dof_preprocess_finger4_sample1.dat', '1dof_preprocess_finger4_sample1.dat', '1dof_preprocess_finger4_sample1.dat', '1dof_preprocess_finger4_sample1.dat', '1dof_preprocess_finger4_sample1.dat', '1dof_preprocess_finger4_sample1.dat', '1dof_preprocess_finger4_sample1.dat', '1dof_preprocess_finger4_sample1.dat', '1dof_preprocess_finger4_sample1.dat', '1dof_preprocess_finger4_sample1.dat', '1dof_preprocess_finger4_sample1.dat', '1dof_preprocess_finger4_sample1.dat', '1dof_preprocess_finger4_sample1.dat', '1dof_preprocess_finger4_sample1.dat', '1dof_preprocess_finger4_sample1.dat', '1dof_preprocess_finger4_sample1.dat', '1dof_preprocess_finger4_sample1.dat', '1dof_preprocess_finger4_sample1.dat', '1dof_preprocess_finger4_sample1.dat', '1dof_preprocess_finger4_sample1.dat', '1dof_preprocess_finger4_sample1.dat', '1dof_preprocess_finger4_sample1.dat', '1dof_preprocess_finger4_sample1.dat', '1dof_preprocess_finger4_sample1.dat', '1dof_preprocess_finger4_sample1.dat', '1dof_preprocess_finger4_sample1.dat', '1dof_preprocess_finger4_sample1.dat', '1dof_preprocess_finger4_sample1.dat', '1dof_preprocess_finger4_sample1.dat', '1dof_preprocess_finger4_sample1.dat', '1dof_preprocess_finger4_sample1.dat', '1dof_preprocess_finger4_sample1.dat', '1dof_preprocess_finger4_sample1.dat', '1dof_preprocess_finger4_sample1.dat', '1dof_preprocess_finger4_sample1.dat', '1dof_preprocess_finger4_sample1.dat', '1dof_preprocess_finger4_sample1.dat', '1dof_preprocess_finger4_sample1.dat', '1dof_preprocess_finger4_sample1.dat', '1dof_preprocess_finger4_sample1.dat', '1dof_preprocess_finger4_sample1.dat', '1dof_preprocess_finger4_sample1.dat', '1dof_preprocess_finger4_sample1.dat', '1dof_preprocess_finger4_sample1.dat', '1dof_preprocess_finger4_sample1.dat', '1dof_preprocess_finger4_sample1.dat', '1dof_preprocess_finger4_sample1.dat', '1dof_preprocess_finger4_sample1.dat', '1dof_preprocess_finger4_sample1.dat', '1dof_preprocess_finger4_sample1.dat', '1dof_preprocess_finger4_sample1.dat', '1dof_preprocess_finger4_sample1.dat', '1dof_preprocess_finger4_sample1.dat', '1dof_preprocess_finger4_sample1.dat', '1dof_preprocess_finger4_sample1.dat', '1dof_preprocess_finger4_sample1.dat', '1dof_preprocess_finger4_sample1.dat', '1dof_preprocess_finger4_sample1.dat', '1dof_preprocess_finger4_sample1.dat', '1dof_preprocess_finger4_sample1.dat', '1dof_preprocess_finger4_sample1.dat', '1dof_preprocess_finger4_sample1.dat', '1dof_preprocess_finger4_sample1.dat', '1dof_preprocess_finger4_sample1.dat', '1dof_preprocess_finger4_sample1.dat', '1dof_preprocess_finger4_sample1.dat', '1dof_preprocess_finger4_sample1.dat', '1dof_preprocess_finger4_sample1.dat', '1dof_preprocess_finger4_sample1.dat', '1dof_preprocess_finger4_sample1.dat', '1dof_preprocess_finger4_sample1.dat', '1dof_preprocess_finger4_sample1.dat', '1dof_preprocess_finger4_sample1.dat', '1dof_preprocess_finger4_sample1.dat', '1dof_preprocess_finger4_sample1.dat', '1dof_preprocess_finger4_sample1.dat', '1dof_preprocess_finger4_sample1.dat', '1dof_preprocess_finger4_sample1.dat', '1dof_preprocess_finger4_sample1.dat', '1dof_preprocess_finger4_sample1.dat', '1dof_preprocess_finger4_sample1.dat', '1dof_preprocess_finger4_sample1.dat', '1dof_preprocess_finger4_sample1.dat', '1dof_preprocess_finger4_sample1.dat', '1dof_preprocess_finger4_sample1.dat', '1dof_preprocess_finger4_sample1.dat', '1dof_preprocess_finger4_sample1.dat', '1dof_preprocess_finger4_sample1.dat', '1dof_preprocess_finger4_sample1.dat', '1dof_preprocess_finger4_sample1.dat', '1dof_preprocess_finger4_sample1.dat', '1dof_preprocess_finger4_sample1.dat', '1dof_preprocess_finger4_sample1.dat', '1dof_preprocess_finger4_sample1.dat', '1dof_preprocess_finger4_sample1.dat', '1dof_preprocess_finger4_sample1.dat', '1dof_preprocess_finger4_sample1.dat', '1dof_preprocess_finger4_sample1.dat', '1dof_preprocess_finger4_sample1.dat', '1dof_preprocess_finger4_sample1.dat', '1dof_preprocess_finger4_sample1.dat', '1dof_preprocess_finger4_sample1.dat', '1dof_preprocess_finger4_sample1.dat', '1dof_preprocess_finger4_sample1.dat', '1dof_preprocess_finger4_sample1.dat', '1dof_preprocess_finger4_sample1.dat', '1dof_preprocess_finger4_sample1.dat', '1dof_preprocess_finger4_sample1.dat', '1dof_preprocess_finger4_sample1.dat', '1dof_preprocess_finger4_sample1.dat', '1dof_preprocess_finger4_sample1.dat', '1dof_preprocess_finger4_sample1.dat', '1dof_preprocess_finger4_sample1.dat', '1dof_preprocess_finger4_sample1.dat', '1dof_preprocess_finger4_sample1.dat', '1dof_preprocess_finger4_sample1.dat', '1dof_preprocess_finger4_sample1.dat', '1dof_preprocess_finger4_sample1.dat', '1dof_preprocess_finger4_sample1.dat', '1dof_preprocess_finger4_sample1.dat', '1dof_preprocess_finger4_sample1.dat', '1dof_preprocess_finger4_sample1.dat', '1dof_preprocess_finger4_sample1.dat', '1dof_preprocess_finger4_sample1.dat', '1dof_preprocess_finger4_sample1.dat', '1dof_preprocess_finger4_sample1.dat', '1dof_preprocess_finger4_sample1.dat', '1dof_preprocess_finger4_sample1.dat', '1dof_preprocess_finger4_sample1.dat', '1dof_preprocess_finger4_sample1.dat', '1dof_preprocess_finger4_sample1.dat', '1dof_preprocess_finger4_sample1.dat', '1dof_preprocess_finger4_sample1.dat', '1dof_preprocess_finger4_sample1.dat', '1dof_preprocess_finger4_sample1.dat', '1dof_preprocess_finger4_sample1.dat', '1dof_preprocess_finger4_sample1.dat', '1dof_preprocess_finger4_sample1.dat'], 'fmt': ['16', '16', '16', '16', '16', '16', '16', '16', '16', '16', '16', '16', '16', '16', '16', '16', '16', '16', '16', '16', '16', '16', '16', '16', '16', '16', '16', '16', '16', '16', '16', '16', '16', '16', '16', '16', '16', '16', '16', '16', '16', '16', '16', '16', '16', '16', '16', '16', '16', '16', '16', '16', '16', '16', '16', '16', '16', '16', '16', '16', '16', '16', '16', '16', '16', '16', '16', '16', '16', '16', '16', '16', '16', '16', '16', '16', '16', '16', '16', '16', '16', '16', '16', '16', '16', '16', '16', '16', '16', '16', '16', '16', '16', '16', '16', '16', '16', '16', '16', '16', '16', '16', '16', '16', '16', '16', '16', '16', '16', '16', '16', '16', '16', '16', '16', '16', '16', '16', '16', '16', '16', '16', '16', '16', '16', '16', '16', '16', '16', '16', '16', '16', '16', '16', '16', '16', '16', '16', '16', '16', '16', '16', '16', '16', '16', '16', '16', '16', '16', '16', '16', '16', '16', '16', '16', '16', '16', '16', '16', '16', '16', '16', '16', '16', '16', '16', '16', '16', '16', '16', '16', '16', '16', '16', '16', '16', '16', '16', '16', '16', '16', '16', '16', '16', '16', '16', '16', '16', '16', '16', '16', '16', '16', '16', '16', '16', '16', '16', '16', '16', '16', '16', '16', '16', '16', '16', '16', '16', '16', '16', '16', '16', '16', '16', '16', '16', '16', '16', '16', '16', '16', '16', '16', '16', '16', '16', '16', '16', '16', '16', '16', '16', '16', '16', '16', '16', '16', '16', '16', '16', '16', '16', '16', '16', '16', '16', '16', '16', '16', '16', '16', '16', '16', '16', '16', '16'], 'samps_per_frame': [1, 1, 1, 1, 1, 1, 1, 1, 1, 1, 1, 1, 1, 1, 1, 1, 1, 1, 1, 1, 1, 1, 1, 1, 1, 1, 1, 1, 1, 1, 1, 1, 1, 1, 1, 1, 1, 1, 1, 1, 1, 1, 1, 1, 1, 1, 1, 1, 1, 1, 1, 1, 1, 1, 1, 1, 1, 1, 1, 1, 1, 1, 1, 1, 1, 1, 1, 1, 1, 1, 1, 1, 1, 1, 1, 1, 1, 1, 1, 1, 1, 1, 1, 1, 1, 1, 1, 1, 1, 1, 1, 1, 1, 1, 1, 1, 1, 1, 1, 1, 1, 1, 1, 1, 1, 1, 1, 1, 1, 1, 1, 1, 1, 1, 1, 1, 1, 1, 1, 1, 1, 1, 1, 1, 1, 1, 1, 1, 1, 1, 1, 1, 1, 1, 1, 1, 1, 1, 1, 1, 1, 1, 1, 1, 1, 1, 1, 1, 1, 1, 1, 1, 1, 1, 1, 1, 1, 1, 1, 1, 1, 1, 1, 1, 1, 1, 1, 1, 1, 1, 1, 1, 1, 1, 1, 1, 1, 1, 1, 1, 1, 1, 1, 1, 1, 1, 1, 1, 1, 1, 1, 1, 1, 1, 1, 1, 1, 1, 1, 1, 1, 1, 1, 1, 1, 1, 1, 1, 1, 1, 1, 1, 1, 1, 1, 1, 1, 1, 1, 1, 1, 1, 1, 1, 1, 1, 1, 1, 1, 1, 1, 1, 1, 1, 1, 1, 1, 1, 1, 1, 1, 1, 1, 1, 1, 1, 1, 1, 1, 1, 1, 1, 1, 1, 1, 1], 'skew': [None, None, None, None, None, None, None, None, None, None, None, None, None, None, None, None, None, None, None, None, None, None, None, None, None, None, None, None, None, None, None, None, None, None, None, None, None, None, None, None, None, None, None, None, None, None, None, None, None, None, None, None, None, None, None, None, None, None, None, None, None, None, None, None, None, None, None, None, None, None, None, None, None, None, None, None, None, None, None, None, None, None, None, None, None, None, None, None, None, None, None, None, None, None, None, None, None, None, None, None, None, None, None, None, None, None, None, None, None, None, None, None, None, None, None, None, None, None, None, None, None, None, None, None, None, None, None, None, None, None, None, None, None, None, None, None, None, None, None, None, None, None, None, None, None, None, None, None, None, None, None, None, None, None, None, None, None, None, None, None, None, None, None, None, None, None, None, None, None, None, None, None, None, None, None, None, None, None, None, None, None, None, None, None, None, None, None, None, None, None, None, None, None, None, None, None, None, None, None, None, None, None, None, None, None, None, None, None, None, None, None, None, None, None, None, None, None, None, None, None, None, None, None, None, None, None, None, None, None, None, None, None, None, None, None, None, None, None, None, None, None, None, None, None, None, None, None, None, None, None, None, None, None, None, None, None], 'byte_offset': [None, None, None, None, None, None, None, None, None, None, None, None, None, None, None, None, None, None, None, None, None, None, None, None, None, None, None, None, None, None, None, None, None, None, None, None, None, None, None, None, None, None, None, None, None, None, None, None, None, None, None, None, None, None, None, None, None, None, None, None, None, None, None, None, None, None, None, None, None, None, None, None, None, None, None, None, None, None, None, None, None, None, None, None, None, None, None, None, None, None, None, None, None, None, None, None, None, None, None, None, None, None, None, None, None, None, None, None, None, None, None, None, None, None, None, None, None, None, None, None, None, None, None, None, None, None, None, None, None, None, None, None, None, None, None, None, None, None, None, None, None, None, None, None, None, None, None, None, None, None, None, None, None, None, None, None, None, None, None, None, None, None, None, None, None, None, None, None, None, None, None, None, None, None, None, None, None, None, None, None, None, None, None, None, None, None, None, None, None, None, None, None, None, None, None, None, None, None, None, None, None, None, None, None, None, None, None, None, None, None, None, None, None, None, None, None, None, None, None, None, None, None, None, None, None, None, None, None, None, None, None, None, None, None, None, None, None, None, None, None, None, None, None, None, None, None, None, None, None, None, None, None, None, None, None, None], 'adc_gain': [155859.1395, 161874.0223, 119386.7984, 89033.5177, 95884.7538, 121490.6746, 142171.6258, 162143.0985, 163934.1256, 169787.1735, 126896.9138, 75721.1743, 671109.7714, 136036.1621, 170784.166, 184035.665, 168378.0855, 173966.4241, 169607.1602, 133257.1817, 126680.9176, 148236.0243, 193129.4588, 205423.8795, 177193.883, 185634.8333, 158411.7613, 139495.3704, 138565.1684, 173075.5367, 223641.461, 226275.6278, 191857.5982, 200171.614, 190375.1478, 161442.7485, 178185.1914, 205891.9747, 220466.1168, 201063.4832, 213162.2606, 227287.9176, 228918.2303, 229460.3657, 233240.4294, 219203.002, 175048.8682, 147375.3195, 254041.3864, 262935.8454, 271963.5468, 270923.7787, 259169.6845, 220129.4897, 140137.2098, 139056.4339, 251712.5478, 336419.5518, 343787.0185, 348718.6932, 342269.103, 300538.8687, 209739.1557, 202962.9171, 101207.6246, 86671.9943, 94161.674, 100274.2197, 125132.0742, 136481.2349, 141044.8403, 138430.5524, 121640.8455, 99574.7271, 84170.4459, 90830.7955, 120337.5376, 140634.0221, 141237.3652, 140193.3814, 128070.8581, 92593.9341, 69735.3371, 74571.7566, 106214.0467, 135056.1219, 140572.5835, 140750.6767, 131351.8501, 96682.4367, 73134.7479, 73938.2123, 97390.0564, 132620.5188, 138169.8825, 141586.6937, 134804.2599, 103057.8231, 72310.0336, 66578.9971, 79179.7315, 134117.045, 142689.4497, 142834.973, 137261.855, 99521.9949, 56763.5296, 41885.6793, 67170.4419, 67167.8237, 145670.2648, 145487.344, 142868.4234, 111629.9162, 63996.715, 49049.9976, 62092.1933, 108569.7728, 147174.8431, 148411.2202, 148721.2607, 138905.9796, 87199.1446, 65858.7455, 77804.6572, 113160.8822, 137800.5279, 153752.0102, 100650.7815, 93194.1628, 102573.0272, 102929.547, 84464.9607, 80658.1475, 104055.8644, 119060.3449, 120543.0992, 105086.2115, 98661.3161, 94666.284, 91704.3705, 96445.0372, 104987.7288, 102548.8217, 142761.0109, 116510.6848, 102663.7466, 96525.6597, 89241.1736, 93123.0146, 109009.8431, 124872.8894, 158176.6736, 134398.4141, 110402.8896, 97597.3896, 89996.4387, 94082.7659, 105675.1622, 126283.4502, 194405.3073, 159351.0335, 124222.6919, 103693.7018, 94627.6015, 94432.671, 98052.8416, 117271.8217, 233780.9804, 202367.3355, 141451.4516, 121260.7795, 124602.922, 111542.7744, 105448.2543, 122029.422, 300750.9885, 261568.8453, 196321.7231, 166078.4159, 185913.731, 181430.8927, 135166.1243, 128515.9479, 343068.9929, 287791.2734, 255290.8399, 157889.9618, 211739.0524, 263090.5829, 157526.6432, 125270.8443, 107044.663, 102181.3872, 93828.9935, 91940.128, 102771.2994, 108006.4512, 106267.631, 96398.0019, 105497.1843, 104334.5429, 83145.8674, 82604.3376, 98777.6338, 106771.806, 111465.5454, 113128.5274, 94305.592, 93986.8751, 91018.4751, 85529.2295, 95988.6841, 107862.7144, 113130.6286, 117601.2146, 68269.3248, 68172.6758, 75482.1149, 76502.8564, 93954.684, 107334.0698, 115848.2728, 119942.3374, 58738.5362, 60283.5553, 71750.2943, 79574.8396, 97050.8136, 108648.1933, 115991.9504, 122722.9065, 60943.014, 56889.4479, 70951.88, 89578.2728, 100631.1343, 111120.841, 118037.7029, 126178.9445, 72565.4651, 71014.5148, 82034.443, 99695.7821, 114287.6456, 113645.9744, 120035.2047, 128584.587, 74305.7498, 73685.0065, 86768.4502, 88048.1511, 95925.2485, 110424.2859, 123974.9158, 132490.5281], 'baseline': [-3250, -3286, -4397, -1410, 2169, 2689, 74, -3628, -3438, -3024, 3828, 7073, 4474, 889, -2909, -4664, -1926, -931, 801, 2314, 1691, -1541, -1670, -3739, -1414, -17, -543, 993, 2263, 651, -1855, -3744, -1004, -939, -1038, 1329, 2185, -1722, -3657, 507, -895, -826, -936, -1841, -3264, -923, 3738, -653, 148, -267, -1496, -2587, -1198, 4613, 5434, 1810, 925, -389, -953, -2354, -2446, 2834, 3881, 3037, 2946, 2918, 3912, 27, -5406, -6259, -4607, -3350, -2078, 3135, 6868, 5341, 1060, -4692, -4783, -4108, -2590, 7443, 9369, 7966, 2153, -4924, -4726, -4221, -2422, 41, 2326, 2485, -87, -4644, -4203, -4205, -1835, -5102, -2033, 306, 1236, -295, -3198, -3698, -1904, -1605, 403, 1598, 1229, 1260, -1512, -2709, -1626, -2484, -3824, 400, -131, -1228, 612, -2092, -1559, -71, -2174, -3581, -1897, 1514, 144, -1930, 1594, 299, -619, -656, 82, -312, -1261, 581, -1645, -746, 706, 201, 785, 815, 689, 2667, -2964, 2659, 4623, 207, 8, -32, -371, -408, -2060, 3876, 3164, 1410, 782, -480, -2393, -2809, 3100, 6499, 2640, 4311, 1400, -502, -4228, -4141, 3875, 5431, 5855, 6596, 1485, -1081, 418, -561, 3379, 6095, 8697, 8430, 427, 1477, 5191, 4658, 5262, 11166, 5216, 4558, -1322, 857, 6701, 4294, 2528, 1981, 3262, 3065, 994, 433, -1187, -100, 8278, 5394, 698, 885, 720, 362, -493, -1535, 4794, 4237, 509, -1312, 190, 978, -134, -906, 6727, 3510, 6000, 3897, 2172, 914, 47, -1266, 5837, 3583, 2379, 4753, 2908, 1485, -522, -1118, 4048, 2772, 1064, -1444, 497, 48, -655, -1216, 1988, 1956, 1646, -65, -1846, -1809, -1823, -1972, 344, 323, -1346, -1046, -1615, -2148, -3818, -3328], 'units': ['V', 'V', 'V', 'V', 'V', 'V', 'V', 'V', 'V', 'V', 'V', 'V', 'V', 'V', 'V', 'V', 'V', 'V', 'V', 'V', 'V', 'V', 'V', 'V', 'V', 'V', 'V', 'V', 'V', 'V', 'V', 'V', 'V', 'V', 'V', 'V', 'V', 'V', 'V', 'V', 'V', 'V', 'V', 'V', 'V', 'V', 'V', 'V', 'V', 'V', 'V', 'V', 'V', 'V', 'V', 'V', 'V', 'V', 'V', 'V', 'V', 'V', 'V', 'V', 'V', 'V', 'V', 'V', 'V', 'V', 'V', 'V', 'V', 'V', 'V', 'V', 'V', 'V', 'V', 'V', 'V', 'V', 'V', 'V', 'V', 'V', 'V', 'V', 'V', 'V', 'V', 'V', 'V', 'V', 'V', 'V', 'V', 'V', 'V', 'V', 'V', 'V', 'V', 'V', 'V', 'V', 'V', 'V', 'V', 'V', 'V', 'V', 'V', 'V', 'V', 'V', 'V', 'V', 'V', 'V', 'V', 'V', 'V', 'V', 'V', 'V', 'V', 'V', 'V', 'V', 'V', 'V', 'V', 'V', 'V', 'V', 'V', 'V', 'V', 'V', 'V', 'V', 'V', 'V', 'V', 'V', 'V', 'V', 'V', 'V', 'V', 'V', 'V', 'V', 'V', 'V', 'V', 'V', 'V', 'V', 'V', 'V', 'V', 'V', 'V', 'V', 'V', 'V', 'V', 'V', 'V', 'V', 'V', 'V', 'V', 'V', 'V', 'V', 'V', 'V', 'V', 'V', 'V', 'V', 'V', 'V', 'V', 'V', 'V', 'V', 'V', 'V', 'V', 'V', 'V', 'V', 'V', 'V', 'V', 'V', 'V', 'V', 'V', 'V', 'V', 'V', 'V', 'V', 'V', 'V', 'V', 'V', 'V', 'V', 'V', 'V', 'V', 'V', 'V', 'V', 'V', 'V', 'V', 'V', 'V', 'V', 'V', 'V', 'V', 'V', 'V', 'V', 'V', 'V', 'V', 'V', 'V', 'V', 'V', 'V', 'V', 'V', 'V', 'V', 'V', 'V', 'V', 'V', 'V', 'V', 'V', 'V', 'V', 'V', 'V', 'V'], 'adc_res': [0, 0, 0, 0, 0, 0, 0, 0, 0, 0, 0, 0, 0, 0, 0, 0, 0, 0, 0, 0, 0, 0, 0, 0, 0, 0, 0, 0, 0, 0, 0, 0, 0, 0, 0, 0, 0, 0, 0, 0, 0, 0, 0, 0, 0, 0, 0, 0, 0, 0, 0, 0, 0, 0, 0, 0, 0, 0, 0, 0, 0, 0, 0, 0, 0, 0, 0, 0, 0, 0, 0, 0, 0, 0, 0, 0, 0, 0, 0, 0, 0, 0, 0, 0, 0, 0, 0, 0, 0, 0, 0, 0, 0, 0, 0, 0, 0, 0, 0, 0, 0, 0, 0, 0, 0, 0, 0, 0, 0, 0, 0, 0, 0, 0, 0, 0, 0, 0, 0, 0, 0, 0, 0, 0, 0, 0, 0, 0, 0, 0, 0, 0, 0, 0, 0, 0, 0, 0, 0, 0, 0, 0, 0, 0, 0, 0, 0, 0, 0, 0, 0, 0, 0, 0, 0, 0, 0, 0, 0, 0, 0, 0, 0, 0, 0, 0, 0, 0, 0, 0, 0, 0, 0, 0, 0, 0, 0, 0, 0, 0, 0, 0, 0, 0, 0, 0, 0, 0, 0, 0, 0, 0, 0, 0, 0, 0, 0, 0, 0, 0, 0, 0, 0, 0, 0, 0, 0, 0, 0, 0, 0, 0, 0, 0, 0, 0, 0, 0, 0, 0, 0, 0, 0, 0, 0, 0, 0, 0, 0, 0, 0, 0, 0, 0, 0, 0, 0, 0, 0, 0, 0, 0, 0, 0, 0, 0, 0, 0, 0, 0, 0, 0, 0, 0, 0, 0], 'adc_zero': [0, 0, 0, 0, 0, 0, 0, 0, 0, 0, 0, 0, 0, 0, 0, 0, 0, 0, 0, 0, 0, 0, 0, 0, 0, 0, 0, 0, 0, 0, 0, 0, 0, 0, 0, 0, 0, 0, 0, 0, 0, 0, 0, 0, 0, 0, 0, 0, 0, 0, 0, 0, 0, 0, 0, 0, 0, 0, 0, 0, 0, 0, 0, 0, 0, 0, 0, 0, 0, 0, 0, 0, 0, 0, 0, 0, 0, 0, 0, 0, 0, 0, 0, 0, 0, 0, 0, 0, 0, 0, 0, 0, 0, 0, 0, 0, 0, 0, 0, 0, 0, 0, 0, 0, 0, 0, 0, 0, 0, 0, 0, 0, 0, 0, 0, 0, 0, 0, 0, 0, 0, 0, 0, 0, 0, 0, 0, 0, 0, 0, 0, 0, 0, 0, 0, 0, 0, 0, 0, 0, 0, 0, 0, 0, 0, 0, 0, 0, 0, 0, 0, 0, 0, 0, 0, 0, 0, 0, 0, 0, 0, 0, 0, 0, 0, 0, 0, 0, 0, 0, 0, 0, 0, 0, 0, 0, 0, 0, 0, 0, 0, 0, 0, 0, 0, 0, 0, 0, 0, 0, 0, 0, 0, 0, 0, 0, 0, 0, 0, 0, 0, 0, 0, 0, 0, 0, 0, 0, 0, 0, 0, 0, 0, 0, 0, 0, 0, 0, 0, 0, 0, 0, 0, 0, 0, 0, 0, 0, 0, 0, 0, 0, 0, 0, 0, 0, 0, 0, 0, 0, 0, 0, 0, 0, 0, 0, 0, 0, 0, 0, 0, 0, 0, 0, 0, 0], 'init_value': [-1022, -2327, -4601, -2005, 1080, 1323, -1324, -4256, -1136, -1809, 4013, 6848, 11622, -48, -3229, -5294, 945, 638, 1429, 2780, 1319, -1388, -1687, -3995, 1269, 2256, 419, 1880, 3239, 888, -1334, -3307, 1390, 1535, 939, 3206, 3662, -624, -3554, -213, 507, 578, 1028, 1165, 365, 1578, 5038, -722, 45, -298, 834, 765, 3112, 6985, 6075, 2340, -2243, -885, -433, 79, 1776, 4978, 5020, 3096, 2723, 2447, 3271, -697, -6606, -8154, -5928, -5425, -2215, 2977, 6237, 4484, -495, -6286, -6845, -6133, -2479, 7063, 8972, 7195, 1075, -6969, -6795, -6138, -1957, -219, 1909, 1828, -1209, -6219, -5712, -5821, -1986, -5430, -2442, -426, 62, -2162, -4909, -5449, -939, -1695, 71, 1250, 298, 368, -3417, -4245, -724, -2745, -4298, -161, -1092, -3137, -2130, -3883, -460, 49, -2626, -4115, -3172, -227, -1793, -3854, 1202, -954, -3620, -3472, 213, 2015, 2233, 4535, -2394, -2969, -1769, -974, 1797, 4141, 4181, 5859, -3363, 1851, 5016, 1529, 1727, 3176, 2598, 2997, -1991, 4606, 4361, 3165, 2430, 1257, -87, 748, 2842, 6949, 3852, 6056, 3219, 1127, -1881, -1599, 4369, 6370, 6978, 7885, 2673, -160, 1387, 909, 3745, 6494, 10011, 10257, 896, 930, 2943, 1569, 6301, 12178, 5700, 5453, -882, 890, 3713, -402, 609, 578, 2210, 2305, 451, 411, -1335, -1325, 4349, 3869, -429, -162, 159, -25, -765, -2213, -917, 834, -1103, -3126, -657, 630, 192, -783, 4481, 1692, 5425, 3699, 1486, 460, -411, -1446, 5221, 2597, 2957, 5951, 3417, 1959, -474, -898, 3787, 2520, 2065, 1264, 1637, -236, -604, -558, 1986, 1824, 2716, 1940, -608, -2123, -1750, -1402, 179, 88, 166, -139, -586, -1957, -3173, -2159], 'checksum': [-3402, -9976, 18227, -22444, -19393, -19914, -5135, 27173, -7495, -30094, -3988, -15900, 23849, 17536, 13588, 13898, -31003, -11912, -4303, -12673, -2924, -14317, 28449, -12477, 15910, -23963, -17214, -6797, 7066, 32280, -14042, -26231, -12256, 24168, 19897, 28095, -4731, -30604, 31006, 27814, 26630, 642, -6031, -29101, -23503, -5052, 26262, -3356, 9848, 32716, 8612, -3725, 13212, -17170, -25035, 17761, 32472, -25698, -26094, -16325, -4584, -10577, 14999, -2573, -6620, 12065, 5774, 12831, 27316, 4312, -19013, -18251, 25054, -9423, -30299, 26648, 7341, 23495, -26525, -25410, 19600, -31986, 6547, 8291, -5823, -16810, -23782, -25437, -18680, -25666, -15039, 7976, -26852, -11725, 5550, -6338, 11771, -11225, 22230, -14219, 13348, 2686, 9275, -15388, -23797, -97, -27632, 17023, -23134, 12171, -29667, -31574, 22311, 30454, -24604, 20396, 29611, 14842, 8867, -27995, -15932, -14363, -22589, 27550, -1986, -9431, -29517, 19804, -21757, -6458, -80, -12199, 7073, 19564, -13448, 6208, 16085, -29734, -16460, 5189, 7045, -7781, -28433, -13376, 19750, 24944, -12391, -18976, 6945, 15142, 14763, 29886, -889, 25178, -20166, 32519, 801, 15331, -32444, -27969, 21744, 18663, 27183, -12394, -8101, -2129, -502, -17182, 24820, 1734, 13783, 13945, 27399, -30021, -21271, -2186, -32766, -7451, 22281, -3403, -23819, -1449, 31220, 6531, -22103, -23367, 16322, -10140, 9812, -799, 22, 6536, 26834, 10629, 18440, 4266, 18881, 5837, 17603, -17013, -25174, -14775, 3796, 10820, 29341, 24028, -28191, 15512, 3637, 17393, -27123, -1418, 2732, -12820, -1434, -8167, -24816, 27045, -25992, 30654, -14467, -7257, 14946, 262, 31429, -26065, -9216, -27608, -28117, -19912, -3868, 16826, -6918, -6395, -29732, 18177, -432, 14420, -6833, -18303, -20448, -24542, -29561, -23897, 4807, 17674, 24218, -3201, 26799, -13315, -1354, 23857, 19304, -17952, -2643, -13295], 'block_size': [0, 0, 0, 0, 0, 0, 0, 0, 0, 0, 0, 0, 0, 0, 0, 0, 0, 0, 0, 0, 0, 0, 0, 0, 0, 0, 0, 0, 0, 0, 0, 0, 0, 0, 0, 0, 0, 0, 0, 0, 0, 0, 0, 0, 0, 0, 0, 0, 0, 0, 0, 0, 0, 0, 0, 0, 0, 0, 0, 0, 0, 0, 0, 0, 0, 0, 0, 0, 0, 0, 0, 0, 0, 0, 0, 0, 0, 0, 0, 0, 0, 0, 0, 0, 0, 0, 0, 0, 0, 0, 0, 0, 0, 0, 0, 0, 0, 0, 0, 0, 0, 0, 0, 0, 0, 0, 0, 0, 0, 0, 0, 0, 0, 0, 0, 0, 0, 0, 0, 0, 0, 0, 0, 0, 0, 0, 0, 0, 0, 0, 0, 0, 0, 0, 0, 0, 0, 0, 0, 0, 0, 0, 0, 0, 0, 0, 0, 0, 0, 0, 0, 0, 0, 0, 0, 0, 0, 0, 0, 0, 0, 0, 0, 0, 0, 0, 0, 0, 0, 0, 0, 0, 0, 0, 0, 0, 0, 0, 0, 0, 0, 0, 0, 0, 0, 0, 0, 0, 0, 0, 0, 0, 0, 0, 0, 0, 0, 0, 0, 0, 0, 0, 0, 0, 0, 0, 0, 0, 0, 0, 0, 0, 0, 0, 0, 0, 0, 0, 0, 0, 0, 0, 0, 0, 0, 0, 0, 0, 0, 0, 0, 0, 0, 0, 0, 0, 0, 0, 0, 0, 0, 0, 0, 0, 0, 0, 0, 0, 0, 0, 0, 0, 0, 0, 0, 0]}\n"
     ]
    }
   ],
   "source": [
    "# Read a WFDB record\n",
    "record_force = wfdb.rdrecord('../data/1dof_dataset/subject02_session1/1dof_force_finger4_sample1')\n",
    "record_emg = wfdb.rdrecord('../data/1dof_dataset/subject02_session1/1dof_preprocess_finger4_sample1')\n",
    "\n",
    "# Display basic information about the record\n",
    "print(record_force.__dict__)\n",
    "print(record_emg.__dict__)"
   ]
  },
  {
   "cell_type": "code",
   "execution_count": 11,
   "metadata": {},
   "outputs": [
    {
     "name": "stdout",
     "output_type": "stream",
     "text": [
      "emg.shape:(256, 51200)\n",
      "force.shape:(5, 2500)\n",
      "force_sampled.shape:(5, 51200)\n"
     ]
    }
   ],
   "source": [
    "emg_raw = np.array(record_emg.__dict__['p_signal'].T)\n",
    "force_raw = np.array(record_force.__dict__['p_signal'].T)\n",
    "\n",
    "num_frames = emg_raw.shape[-1]\n",
    "force_sampled = np.array(upsample_fractional(force_raw, emg_raw.shape[-1]/force_raw.shape[-1]))\n",
    "\n",
    "print(\"emg.shape:\"+str(emg_raw.shape))\n",
    "print(\"force.shape:\"+str(force_raw.shape))\n",
    "print(\"force_sampled.shape:\"+str(force_sampled.shape))"
   ]
  },
  {
   "cell_type": "code",
   "execution_count": 12,
   "metadata": {},
   "outputs": [
    {
     "data": {
      "text/plain": [
       "(array([[-0.82044748]]), array([[0.74414455]]))"
      ]
     },
     "execution_count": 12,
     "metadata": {},
     "output_type": "execute_result"
    }
   ],
   "source": [
    "(np.min(emg_raw, keepdims=True), np.max(emg_raw, keepdims=True))"
   ]
  },
  {
   "cell_type": "code",
   "execution_count": 13,
   "metadata": {},
   "outputs": [
    {
     "data": {
      "text/plain": [
       "(array([[-0.12950612]]), array([[0.06368635]]))"
      ]
     },
     "execution_count": 13,
     "metadata": {},
     "output_type": "execute_result"
    }
   ],
   "source": [
    "(np.min(force_sampled, keepdims=True), np.max(force_sampled, keepdims=True))"
   ]
  },
  {
   "cell_type": "code",
   "execution_count": 14,
   "metadata": {},
   "outputs": [],
   "source": [
    "\n",
    "#emg_raw = emg_raw - np.mean(emg_raw, axis=1, keepdims=True) # Normalize to first 10 frames\n",
    "\n",
    "emg_hdsmg_min = np.min(emg_raw, axis=1, keepdims=True)\n",
    "emg_hdsmg_max = np.max(emg_raw, axis=1, keepdims=True)\n",
    "emg_hdsmg_range = emg_hdsmg_max - emg_hdsmg_min\n",
    "emg_final = (emg_raw - emg_hdsmg_min) / emg_hdsmg_range\n",
    "\n",
    "force_min = np.min(force_sampled, keepdims=True)\n",
    "force_max = np.max(force_sampled, keepdims=True)\n",
    "force_range = force_max - force_min\n",
    "force_final = (force_sampled - force_min) / force_range\n",
    "\n",
    "#force_final = force_sampled"
   ]
  },
  {
   "cell_type": "code",
   "execution_count": 15,
   "metadata": {},
   "outputs": [
    {
     "name": "stdout",
     "output_type": "stream",
     "text": [
      "emg.final:[[0.]][[1.]]\n",
      "force.final:[[0.]][[1.]]\n"
     ]
    }
   ],
   "source": [
    "print(\"emg.final:\"+str(np.min(emg_final, keepdims=True)) + str(np.max(emg_final, keepdims=True)))\n",
    "print(\"force.final:\"+str(np.min(force_final, keepdims=True)) + str(np.max(force_final, keepdims=True)))"
   ]
  },
  {
   "cell_type": "code",
   "execution_count": 16,
   "metadata": {},
   "outputs": [],
   "source": [
    "fps = 100\n",
    "class EmgKinVisualizer:\n",
    "    def __init__(self, width=800, height=600):\n",
    "        self.speed = 100\n",
    "        self.width = width\n",
    "        self.height = height\n",
    "        self.current_frame = 0\n",
    "        self.running = False\n",
    "\n",
    "        self.screen = pygame.display.set_mode(\n",
    "            (width, height + 50))  # Extra height for timeline\n",
    "        pygame.display.set_caption(\"EMG and Kinematics Visualizer\")\n",
    "\n",
    "        self.timeline_rect = pygame.Rect(50, height + 10, width - 100, 30)\n",
    "        self.slider_rect = pygame.Rect(50, height + 10, 10, 30)\n",
    "        self.exit_button_rect = pygame.Rect(700, 10, 60, 30)\n",
    "\n",
    "    def run(self):\n",
    "        clock = pygame.time.Clock()\n",
    "\n",
    "        while True:\n",
    "            for event in pygame.event.get():\n",
    "                if event.type == pygame.QUIT:\n",
    "                    pygame.quit()\n",
    "                    return\n",
    "                elif event.type == pygame.KEYDOWN:\n",
    "                    self.handle_key_event(event.key)\n",
    "                elif event.type == pygame.MOUSEBUTTONDOWN:\n",
    "                    if event.button == 1:  # Left mouse button\n",
    "                        if self.timeline_rect.collidepoint(event.pos):\n",
    "                            self.update_frame_from_mouse(event.pos[0])\n",
    "                        if self.exit_button_rect.collidepoint(event.pos):\n",
    "                            pygame.quit()\n",
    "                            return\n",
    "                elif event.type == pygame.MOUSEMOTION:\n",
    "                    if event.buttons[0]:  # Left mouse button held down\n",
    "                        if self.timeline_rect.collidepoint(event.pos):\n",
    "                            self.update_frame_from_mouse(event.pos[0])\n",
    "\n",
    "            if self.running:\n",
    "                self.current_frame += self.speed\n",
    "                if self.current_frame >= num_frames:\n",
    "                    self.current_frame = 0\n",
    "                elif self.current_frame < 0:\n",
    "                    self.current_frame = num_frames - 1\n",
    "\n",
    "            self.draw()\n",
    "            pygame.display.flip()\n",
    "            clock.tick(fps)\n",
    "\n",
    "    def draw(self):\n",
    "        self.screen.fill((0, 0, 0))\n",
    "        \n",
    "        # Draw emg data\n",
    "        viz_emg(self.screen, emg_final[:, self.current_frame])\n",
    "\n",
    "        # Draw glove data\n",
    "        viz_force(self.screen, force_final[:, self.current_frame])\n",
    "\n",
    "        # Draw timeline\n",
    "        pygame.draw.rect(self.screen, (100, 100, 100), self.timeline_rect)\n",
    "        slider_x = int(self.timeline_rect.left +\n",
    "                       (self.current_frame / num_frames) * self.timeline_rect.width)\n",
    "        self.slider_rect.left = slider_x\n",
    "        pygame.draw.rect(self.screen, (200, 200, 200), self.slider_rect)\n",
    "\n",
    "        # Draw current frame number\n",
    "        text = font.render(\n",
    "            f\"Frame: {self.current_frame}/{num_frames-1}\", True, (200, 200, 200))\n",
    "        self.screen.blit(text, (10, self.height - 30))\n",
    "\n",
    "        # Draw exit button\n",
    "        pygame.draw.rect(self.screen, (200, 50, 50), self.exit_button_rect)\n",
    "        exit_text = font.render(\"Exit\", True, (255, 255, 255))\n",
    "        self.screen.blit(exit_text, (self.exit_button_rect.x + 10, self.exit_button_rect.y + 5))\n",
    "\n",
    "    def handle_key_event(self, key):\n",
    "        if key == pygame.K_SPACE:\n",
    "            self.running = not self.running\n",
    "        elif key == pygame.K_RIGHT:\n",
    "            self.speed = 1\n",
    "            self.running = True\n",
    "        elif key == pygame.K_LEFT:\n",
    "            self.speed = -1\n",
    "            self.running = True\n",
    "        elif key == pygame.K_UP:\n",
    "            self.speed = min(self.speed * 2, 16)\n",
    "        elif key == pygame.K_DOWN:\n",
    "            self.speed = max(self.speed // 2, 1)\n",
    "\n",
    "    def update_frame_from_mouse(self, mouse_x):\n",
    "        timeline_x = mouse_x - self.timeline_rect.left\n",
    "        frame_ratio = timeline_x / self.timeline_rect.width\n",
    "        self.current_frame = int(frame_ratio * num_frames)\n",
    "        self.current_frame = max(0, min(self.current_frame, num_frames - 1))\n",
    "        self.running = False\n",
    "\n",
    "\n",
    "if __name__ == \"__main__\":\n",
    "    visualizer = EmgKinVisualizer()\n",
    "    visualizer.run()"
   ]
  }
 ],
 "metadata": {
  "kernelspec": {
   "display_name": "emgkin",
   "language": "python",
   "name": "python3"
  },
  "language_info": {
   "codemirror_mode": {
    "name": "ipython",
    "version": 3
   },
   "file_extension": ".py",
   "mimetype": "text/x-python",
   "name": "python",
   "nbconvert_exporter": "python",
   "pygments_lexer": "ipython3",
   "version": "3.12.5"
  }
 },
 "nbformat": 4,
 "nbformat_minor": 2
}
