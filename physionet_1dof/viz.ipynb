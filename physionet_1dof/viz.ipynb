{
 "cells": [
  {
   "cell_type": "code",
   "execution_count": 86,
   "metadata": {},
   "outputs": [],
   "source": [
    "import wfdb\n",
    "import numpy as np\n",
    "import pygame\n",
    "\n",
    "pygame.init()\n",
    "font = pygame.font.Font(None, 36)\n",
    "\n",
    "def upsample_fractional(signal, factor):\n",
    "    \"\"\"\n",
    "    Upsample a 2D signal by a given factor using linear interpolation.\n",
    "    Each row is assumed to be a separate channel or variable, and columns represent time.\n",
    "\n",
    "    :param signal: Input 2D signal as a numpy array (channels x time)\n",
    "    :param factor: Upsampling factor (can be integer or float)\n",
    "    :return: Upsampled 2D signal\n",
    "    \"\"\"\n",
    "    # Get the original dimensions\n",
    "    num_channels, original_time = signal.shape\n",
    "\n",
    "    # Calculate the new time dimension\n",
    "    new_time = int(original_time * factor)\n",
    "\n",
    "    # Create old and new time axes\n",
    "    old_time_indices = np.arange(original_time)\n",
    "    new_time_indices = np.linspace(0, original_time - 1, new_time)\n",
    "\n",
    "    # Initialize the output array\n",
    "    upsampled_signal = np.zeros((num_channels, new_time))\n",
    "\n",
    "    # Interpolate each channel\n",
    "    for channel in range(num_channels):\n",
    "        upsampled_signal[channel, :] = np.interp(\n",
    "            new_time_indices, old_time_indices, signal[channel, :])\n",
    "\n",
    "    return upsampled_signal\n",
    "\n",
    "def get_color(value):\n",
    "    value = min(value, 1)\n",
    "    value = max(value, 0)\n",
    "    # Example color mapping function\n",
    "    return int(value * 255), 0, 255 - int(value * 255)\n",
    "\n",
    "def viz_emg(screen, emg_frame):\n",
    "    left = 50\n",
    "    top = 50\n",
    "    scale = 20\n",
    "    size = 1\n",
    "    \n",
    "    for i in range(4):\n",
    "        for j in range(8):\n",
    "            for k in range(8):\n",
    "                pygame.draw.rect(screen, get_color(emg_frame[i*64+j*k]),\n",
    "                                 (left+(i//2)*scale*10+scale*j,\n",
    "                                  top+(i%2)*scale*10+scale*k,\n",
    "                                  scale*size,\n",
    "                                  scale*size))\n",
    "                \n",
    "def viz_force(screen, force_frame):\n",
    "    left = 500\n",
    "    top = 100\n",
    "    scale = 20\n",
    "    size = 1\n",
    "\n",
    "    def viz_force_extensor_helper(screen, x, y, data):\n",
    "        pygame.draw.rect(screen, get_color(data), (left+scale*x, top+scale*y, scale*size, scale*size))\n",
    "\n",
    "    viz_force_extensor_helper(screen, 1, 5, force_frame[0])\n",
    "    viz_force_extensor_helper(screen, 2, 1, force_frame[1])\n",
    "    viz_force_extensor_helper(screen, 3, 1, force_frame[2])\n",
    "    viz_force_extensor_helper(screen, 4, 1, force_frame[3])\n",
    "    viz_force_extensor_helper(screen, 5, 1, force_frame[4])\n",
    "    \n",
    "\n",
    "    "
   ]
  },
  {
   "cell_type": "code",
   "execution_count": 87,
   "metadata": {},
   "outputs": [
    {
     "name": "stdout",
     "output_type": "stream",
     "text": [
      "{'record_name': '1dof_force_finger4_sample1', 'n_sig': 5, 'fs': 100, 'counter_freq': None, 'base_counter': None, 'sig_len': 2500, 'base_time': None, 'base_date': None, 'comments': [], 'sig_name': ['thumb', 'index', 'middle', 'ring', 'little'], 'p_signal': array([[-0.00259138, -0.0060374 , -0.00338606,  0.00074284,  0.00176935],\n",
      "       [-0.00193139, -0.00702769,  0.00417309,  0.00205025,  0.00242968],\n",
      "       [-0.00127141, -0.01129794, -0.0070062 , -0.00155785,  0.00012921],\n",
      "       ...,\n",
      "       [ 0.00957865, -0.0060374 , -0.01292675,  0.00666012, -0.0008601 ],\n",
      "       [ 0.00957865, -0.00406746, -0.01489673,  0.00732231, -0.00251054],\n",
      "       [ 0.0112186 , -0.00570785, -0.01390644,  0.00666012, -0.00119066]]), 'd_signal': None, 'e_p_signal': None, 'e_d_signal': None, 'file_name': ['1dof_force_finger4_sample1.dat', '1dof_force_finger4_sample1.dat', '1dof_force_finger4_sample1.dat', '1dof_force_finger4_sample1.dat', '1dof_force_finger4_sample1.dat'], 'fmt': ['16', '16', '16', '16', '16'], 'samps_per_frame': [1, 1, 1, 1, 1], 'skew': [None, None, None, None, None], 'byte_offset': [None, None, None, None, None], 'adc_gain': [1646996.7328, 1222877.4025, 1038080.1521, 235581.2783, 1261482.1944], 'baseline': [-16047, -4876, -7068, 10283, -11775], 'units': ['V', 'V', 'V', 'V', 'V'], 'adc_res': [0, 0, 0, 0, 0], 'adc_zero': [0, 0, 0, 0, 0], 'init_value': [-20315, -12259, -10583, 10458, -9543], 'checksum': [29214, 21937, 4561, 7015, -25054], 'block_size': [0, 0, 0, 0, 0]}\n",
      "{'record_name': '1dof_preprocess_finger4_sample1', 'n_sig': 256, 'fs': 2048, 'counter_freq': None, 'base_counter': None, 'sig_len': 51200, 'base_time': None, 'base_date': None, 'comments': [], 'sig_name': ['ED-8-8', 'ED-8-7', 'ED-8-6', 'ED-8-5', 'ED-8-4', 'ED-8-3', 'ED-8-2', 'ED-8-1', 'ED-7-8', 'ED-7-7', 'ED-7-6', 'ED-7-5', 'ED-7-4', 'ED-7-3', 'ED-7-2', 'ED-7-1', 'ED-6-8', 'ED-6-7', 'ED-6-6', 'ED-6-5', 'ED-6-4', 'ED-6-3', 'ED-6-2', 'ED-6-1', 'ED-5-8', 'ED-5-7', 'ED-5-6', 'ED-5-5', 'ED-5-4', 'ED-5-3', 'ED-5-2', 'ED-5-1', 'ED-4-8', 'ED-4-7', 'ED-4-6', 'ED-4-5', 'ED-4-4', 'ED-4-3', 'ED-4-2', 'ED-4-1', 'ED-3-8', 'ED-3-7', 'ED-3-6', 'ED-3-5', 'ED-3-4', 'ED-3-3', 'ED-3-2', 'ED-3-1', 'ED-2-8', 'ED-2-7', 'ED-2-6', 'ED-2-5', 'ED-2-4', 'ED-2-3', 'ED-2-2', 'ED-2-1', 'ED-1-8', 'ED-1-7', 'ED-1-6', 'ED-1-5', 'ED-1-4', 'ED-1-3', 'ED-1-2', 'ED-1-1', 'EP-8-8', 'EP-8-7', 'EP-8-6', 'EP-8-5', 'EP-8-4', 'EP-8-3', 'EP-8-2', 'EP-8-1', 'EP-7-8', 'EP-7-7', 'EP-7-6', 'EP-7-5', 'EP-7-4', 'EP-7-3', 'EP-7-2', 'EP-7-1', 'EP-6-8', 'EP-6-7', 'EP-6-6', 'EP-6-5', 'EP-6-4', 'EP-6-3', 'EP-6-2', 'EP-6-1', 'EP-5-8', 'EP-5-7', 'EP-5-6', 'EP-5-5', 'EP-5-4', 'EP-5-3', 'EP-5-2', 'EP-5-1', 'EP-4-8', 'EP-4-7', 'EP-4-6', 'EP-4-5', 'EP-4-4', 'EP-4-3', 'EP-4-2', 'EP-4-1', 'EP-3-8', 'EP-3-7', 'EP-3-6', 'EP-3-5', 'EP-3-4', 'EP-3-3', 'EP-3-2', 'EP-3-1', 'EP-2-8', 'EP-2-7', 'EP-2-6', 'EP-2-5', 'EP-2-4', 'EP-2-3', 'EP-2-2', 'EP-2-1', 'EP-1-8', 'EP-1-7', 'EP-1-6', 'EP-1-5', 'EP-1-4', 'EP-1-3', 'EP-1-2', 'EP-1-1', 'FD-8-8', 'FD-8-7', 'FD-8-6', 'FD-8-5', 'FD-8-4', 'FD-8-3', 'FD-8-2', 'FD-8-1', 'FD-7-8', 'FD-7-7', 'FD-7-6', 'FD-7-5', 'FD-7-4', 'FD-7-3', 'FD-7-2', 'FD-7-1', 'FD-6-8', 'FD-6-7', 'FD-6-6', 'FD-6-5', 'FD-6-4', 'FD-6-3', 'FD-6-2', 'FD-6-1', 'FD-5-8', 'FD-5-7', 'FD-5-6', 'FD-5-5', 'FD-5-4', 'FD-5-3', 'FD-5-2', 'FD-5-1', 'FD-4-8', 'FD-4-7', 'FD-4-6', 'FD-4-5', 'FD-4-4', 'FD-4-3', 'FD-4-2', 'FD-4-1', 'FD-3-8', 'FD-3-7', 'FD-3-6', 'FD-3-5', 'FD-3-4', 'FD-3-3', 'FD-3-2', 'FD-3-1', 'FD-2-8', 'FD-2-7', 'FD-2-6', 'FD-2-5', 'FD-2-4', 'FD-2-3', 'FD-2-2', 'FD-2-1', 'FD-1-8', 'FD-1-7', 'FD-1-6', 'FD-1-5', 'FD-1-4', 'FD-1-3', 'FD-1-2', 'FD-1-1', 'FP-8-8', 'FP-8-7', 'FP-8-6', 'FP-8-5', 'FP-8-4', 'FP-8-3', 'FP-8-2', 'FP-8-1', 'FP-7-8', 'FP-7-7', 'FP-7-6', 'FP-7-5', 'FP-7-4', 'FP-7-3', 'FP-7-2', 'FP-7-1', 'FP-6-8', 'FP-6-7', 'FP-6-6', 'FP-6-5', 'FP-6-4', 'FP-6-3', 'FP-6-2', 'FP-6-1', 'FP-5-8', 'FP-5-7', 'FP-5-6', 'FP-5-5', 'FP-5-4', 'FP-5-3', 'FP-5-2', 'FP-5-1', 'FP-4-8', 'FP-4-7', 'FP-4-6', 'FP-4-5', 'FP-4-4', 'FP-4-3', 'FP-4-2', 'FP-4-1', 'FP-3-8', 'FP-3-7', 'FP-3-6', 'FP-3-5', 'FP-3-4', 'FP-3-3', 'FP-3-2', 'FP-3-1', 'FP-2-8', 'FP-2-7', 'FP-2-6', 'FP-2-5', 'FP-2-4', 'FP-2-3', 'FP-2-2', 'FP-2-1', 'FP-1-8', 'FP-1-7', 'FP-1-6', 'FP-1-5', 'FP-1-4', 'FP-1-3', 'FP-1-2', 'FP-1-1'], 'p_signal': array([[ 1.21803645e-02,  1.24123077e-02,  6.83318643e-03, ...,\n",
      "        -9.85153929e-03, -8.59650987e-03, -8.91154577e-03],\n",
      "       [ 9.67676448e-03,  1.09949493e-02,  7.82137031e-03, ...,\n",
      "        -8.21690056e-04, -2.27956004e-03,  2.16124796e-05],\n",
      "       [ 4.35104025e-03,  5.34635925e-03,  3.40608062e-03, ...,\n",
      "         3.65389833e-03,  8.26741846e-04,  5.02129943e-03],\n",
      "       ...,\n",
      "       [ 5.79714001e-04, -2.79302978e-03, -2.08149371e-03, ...,\n",
      "        -1.85929229e-02, -1.92799409e-02, -1.95592941e-02],\n",
      "       [ 5.92454968e-04, -1.54241943e-03, -1.32458691e-03, ...,\n",
      "        -1.09179881e-02, -1.10927886e-02, -8.32080466e-03],\n",
      "       [ 3.45280207e-03,  4.04364013e-03,  4.05786148e-03, ...,\n",
      "        -5.24483014e-05,  1.59729735e-03,  3.53724250e-03]]), 'd_signal': None, 'e_p_signal': None, 'e_d_signal': None, 'file_name': ['1dof_preprocess_finger4_sample1.dat', '1dof_preprocess_finger4_sample1.dat', '1dof_preprocess_finger4_sample1.dat', '1dof_preprocess_finger4_sample1.dat', '1dof_preprocess_finger4_sample1.dat', '1dof_preprocess_finger4_sample1.dat', '1dof_preprocess_finger4_sample1.dat', '1dof_preprocess_finger4_sample1.dat', '1dof_preprocess_finger4_sample1.dat', '1dof_preprocess_finger4_sample1.dat', '1dof_preprocess_finger4_sample1.dat', '1dof_preprocess_finger4_sample1.dat', '1dof_preprocess_finger4_sample1.dat', '1dof_preprocess_finger4_sample1.dat', '1dof_preprocess_finger4_sample1.dat', '1dof_preprocess_finger4_sample1.dat', '1dof_preprocess_finger4_sample1.dat', '1dof_preprocess_finger4_sample1.dat', '1dof_preprocess_finger4_sample1.dat', '1dof_preprocess_finger4_sample1.dat', '1dof_preprocess_finger4_sample1.dat', '1dof_preprocess_finger4_sample1.dat', '1dof_preprocess_finger4_sample1.dat', '1dof_preprocess_finger4_sample1.dat', '1dof_preprocess_finger4_sample1.dat', '1dof_preprocess_finger4_sample1.dat', '1dof_preprocess_finger4_sample1.dat', '1dof_preprocess_finger4_sample1.dat', '1dof_preprocess_finger4_sample1.dat', '1dof_preprocess_finger4_sample1.dat', '1dof_preprocess_finger4_sample1.dat', '1dof_preprocess_finger4_sample1.dat', '1dof_preprocess_finger4_sample1.dat', '1dof_preprocess_finger4_sample1.dat', '1dof_preprocess_finger4_sample1.dat', '1dof_preprocess_finger4_sample1.dat', '1dof_preprocess_finger4_sample1.dat', '1dof_preprocess_finger4_sample1.dat', '1dof_preprocess_finger4_sample1.dat', '1dof_preprocess_finger4_sample1.dat', '1dof_preprocess_finger4_sample1.dat', '1dof_preprocess_finger4_sample1.dat', '1dof_preprocess_finger4_sample1.dat', '1dof_preprocess_finger4_sample1.dat', '1dof_preprocess_finger4_sample1.dat', '1dof_preprocess_finger4_sample1.dat', '1dof_preprocess_finger4_sample1.dat', '1dof_preprocess_finger4_sample1.dat', '1dof_preprocess_finger4_sample1.dat', '1dof_preprocess_finger4_sample1.dat', '1dof_preprocess_finger4_sample1.dat', '1dof_preprocess_finger4_sample1.dat', '1dof_preprocess_finger4_sample1.dat', '1dof_preprocess_finger4_sample1.dat', '1dof_preprocess_finger4_sample1.dat', '1dof_preprocess_finger4_sample1.dat', '1dof_preprocess_finger4_sample1.dat', '1dof_preprocess_finger4_sample1.dat', '1dof_preprocess_finger4_sample1.dat', '1dof_preprocess_finger4_sample1.dat', '1dof_preprocess_finger4_sample1.dat', '1dof_preprocess_finger4_sample1.dat', '1dof_preprocess_finger4_sample1.dat', '1dof_preprocess_finger4_sample1.dat', '1dof_preprocess_finger4_sample1.dat', '1dof_preprocess_finger4_sample1.dat', '1dof_preprocess_finger4_sample1.dat', '1dof_preprocess_finger4_sample1.dat', '1dof_preprocess_finger4_sample1.dat', '1dof_preprocess_finger4_sample1.dat', '1dof_preprocess_finger4_sample1.dat', '1dof_preprocess_finger4_sample1.dat', '1dof_preprocess_finger4_sample1.dat', '1dof_preprocess_finger4_sample1.dat', '1dof_preprocess_finger4_sample1.dat', '1dof_preprocess_finger4_sample1.dat', '1dof_preprocess_finger4_sample1.dat', '1dof_preprocess_finger4_sample1.dat', '1dof_preprocess_finger4_sample1.dat', '1dof_preprocess_finger4_sample1.dat', '1dof_preprocess_finger4_sample1.dat', '1dof_preprocess_finger4_sample1.dat', '1dof_preprocess_finger4_sample1.dat', '1dof_preprocess_finger4_sample1.dat', '1dof_preprocess_finger4_sample1.dat', '1dof_preprocess_finger4_sample1.dat', '1dof_preprocess_finger4_sample1.dat', '1dof_preprocess_finger4_sample1.dat', '1dof_preprocess_finger4_sample1.dat', '1dof_preprocess_finger4_sample1.dat', '1dof_preprocess_finger4_sample1.dat', '1dof_preprocess_finger4_sample1.dat', '1dof_preprocess_finger4_sample1.dat', '1dof_preprocess_finger4_sample1.dat', '1dof_preprocess_finger4_sample1.dat', '1dof_preprocess_finger4_sample1.dat', '1dof_preprocess_finger4_sample1.dat', '1dof_preprocess_finger4_sample1.dat', '1dof_preprocess_finger4_sample1.dat', '1dof_preprocess_finger4_sample1.dat', '1dof_preprocess_finger4_sample1.dat', '1dof_preprocess_finger4_sample1.dat', '1dof_preprocess_finger4_sample1.dat', '1dof_preprocess_finger4_sample1.dat', '1dof_preprocess_finger4_sample1.dat', '1dof_preprocess_finger4_sample1.dat', '1dof_preprocess_finger4_sample1.dat', '1dof_preprocess_finger4_sample1.dat', '1dof_preprocess_finger4_sample1.dat', '1dof_preprocess_finger4_sample1.dat', '1dof_preprocess_finger4_sample1.dat', '1dof_preprocess_finger4_sample1.dat', '1dof_preprocess_finger4_sample1.dat', '1dof_preprocess_finger4_sample1.dat', '1dof_preprocess_finger4_sample1.dat', '1dof_preprocess_finger4_sample1.dat', '1dof_preprocess_finger4_sample1.dat', '1dof_preprocess_finger4_sample1.dat', '1dof_preprocess_finger4_sample1.dat', '1dof_preprocess_finger4_sample1.dat', '1dof_preprocess_finger4_sample1.dat', '1dof_preprocess_finger4_sample1.dat', '1dof_preprocess_finger4_sample1.dat', '1dof_preprocess_finger4_sample1.dat', '1dof_preprocess_finger4_sample1.dat', '1dof_preprocess_finger4_sample1.dat', '1dof_preprocess_finger4_sample1.dat', '1dof_preprocess_finger4_sample1.dat', '1dof_preprocess_finger4_sample1.dat', '1dof_preprocess_finger4_sample1.dat', '1dof_preprocess_finger4_sample1.dat', '1dof_preprocess_finger4_sample1.dat', '1dof_preprocess_finger4_sample1.dat', '1dof_preprocess_finger4_sample1.dat', '1dof_preprocess_finger4_sample1.dat', '1dof_preprocess_finger4_sample1.dat', '1dof_preprocess_finger4_sample1.dat', '1dof_preprocess_finger4_sample1.dat', '1dof_preprocess_finger4_sample1.dat', '1dof_preprocess_finger4_sample1.dat', '1dof_preprocess_finger4_sample1.dat', '1dof_preprocess_finger4_sample1.dat', '1dof_preprocess_finger4_sample1.dat', '1dof_preprocess_finger4_sample1.dat', '1dof_preprocess_finger4_sample1.dat', '1dof_preprocess_finger4_sample1.dat', '1dof_preprocess_finger4_sample1.dat', '1dof_preprocess_finger4_sample1.dat', '1dof_preprocess_finger4_sample1.dat', '1dof_preprocess_finger4_sample1.dat', '1dof_preprocess_finger4_sample1.dat', '1dof_preprocess_finger4_sample1.dat', '1dof_preprocess_finger4_sample1.dat', '1dof_preprocess_finger4_sample1.dat', '1dof_preprocess_finger4_sample1.dat', '1dof_preprocess_finger4_sample1.dat', '1dof_preprocess_finger4_sample1.dat', '1dof_preprocess_finger4_sample1.dat', '1dof_preprocess_finger4_sample1.dat', '1dof_preprocess_finger4_sample1.dat', '1dof_preprocess_finger4_sample1.dat', '1dof_preprocess_finger4_sample1.dat', '1dof_preprocess_finger4_sample1.dat', '1dof_preprocess_finger4_sample1.dat', '1dof_preprocess_finger4_sample1.dat', '1dof_preprocess_finger4_sample1.dat', '1dof_preprocess_finger4_sample1.dat', '1dof_preprocess_finger4_sample1.dat', '1dof_preprocess_finger4_sample1.dat', '1dof_preprocess_finger4_sample1.dat', '1dof_preprocess_finger4_sample1.dat', '1dof_preprocess_finger4_sample1.dat', '1dof_preprocess_finger4_sample1.dat', '1dof_preprocess_finger4_sample1.dat', '1dof_preprocess_finger4_sample1.dat', '1dof_preprocess_finger4_sample1.dat', '1dof_preprocess_finger4_sample1.dat', '1dof_preprocess_finger4_sample1.dat', '1dof_preprocess_finger4_sample1.dat', '1dof_preprocess_finger4_sample1.dat', '1dof_preprocess_finger4_sample1.dat', '1dof_preprocess_finger4_sample1.dat', '1dof_preprocess_finger4_sample1.dat', '1dof_preprocess_finger4_sample1.dat', '1dof_preprocess_finger4_sample1.dat', '1dof_preprocess_finger4_sample1.dat', '1dof_preprocess_finger4_sample1.dat', '1dof_preprocess_finger4_sample1.dat', '1dof_preprocess_finger4_sample1.dat', '1dof_preprocess_finger4_sample1.dat', '1dof_preprocess_finger4_sample1.dat', '1dof_preprocess_finger4_sample1.dat', '1dof_preprocess_finger4_sample1.dat', '1dof_preprocess_finger4_sample1.dat', '1dof_preprocess_finger4_sample1.dat', '1dof_preprocess_finger4_sample1.dat', '1dof_preprocess_finger4_sample1.dat', '1dof_preprocess_finger4_sample1.dat', '1dof_preprocess_finger4_sample1.dat', '1dof_preprocess_finger4_sample1.dat', '1dof_preprocess_finger4_sample1.dat', '1dof_preprocess_finger4_sample1.dat', '1dof_preprocess_finger4_sample1.dat', '1dof_preprocess_finger4_sample1.dat', '1dof_preprocess_finger4_sample1.dat', '1dof_preprocess_finger4_sample1.dat', '1dof_preprocess_finger4_sample1.dat', '1dof_preprocess_finger4_sample1.dat', '1dof_preprocess_finger4_sample1.dat', '1dof_preprocess_finger4_sample1.dat', '1dof_preprocess_finger4_sample1.dat', '1dof_preprocess_finger4_sample1.dat', '1dof_preprocess_finger4_sample1.dat', '1dof_preprocess_finger4_sample1.dat', '1dof_preprocess_finger4_sample1.dat', '1dof_preprocess_finger4_sample1.dat', '1dof_preprocess_finger4_sample1.dat', '1dof_preprocess_finger4_sample1.dat', '1dof_preprocess_finger4_sample1.dat', '1dof_preprocess_finger4_sample1.dat', '1dof_preprocess_finger4_sample1.dat', '1dof_preprocess_finger4_sample1.dat', '1dof_preprocess_finger4_sample1.dat', '1dof_preprocess_finger4_sample1.dat', '1dof_preprocess_finger4_sample1.dat', '1dof_preprocess_finger4_sample1.dat', '1dof_preprocess_finger4_sample1.dat', '1dof_preprocess_finger4_sample1.dat', '1dof_preprocess_finger4_sample1.dat', '1dof_preprocess_finger4_sample1.dat', '1dof_preprocess_finger4_sample1.dat', '1dof_preprocess_finger4_sample1.dat', '1dof_preprocess_finger4_sample1.dat', '1dof_preprocess_finger4_sample1.dat', '1dof_preprocess_finger4_sample1.dat', '1dof_preprocess_finger4_sample1.dat', '1dof_preprocess_finger4_sample1.dat', '1dof_preprocess_finger4_sample1.dat', '1dof_preprocess_finger4_sample1.dat', '1dof_preprocess_finger4_sample1.dat', '1dof_preprocess_finger4_sample1.dat', '1dof_preprocess_finger4_sample1.dat', '1dof_preprocess_finger4_sample1.dat', '1dof_preprocess_finger4_sample1.dat', '1dof_preprocess_finger4_sample1.dat', '1dof_preprocess_finger4_sample1.dat', '1dof_preprocess_finger4_sample1.dat', '1dof_preprocess_finger4_sample1.dat', '1dof_preprocess_finger4_sample1.dat', '1dof_preprocess_finger4_sample1.dat', '1dof_preprocess_finger4_sample1.dat', '1dof_preprocess_finger4_sample1.dat', '1dof_preprocess_finger4_sample1.dat', '1dof_preprocess_finger4_sample1.dat', '1dof_preprocess_finger4_sample1.dat', '1dof_preprocess_finger4_sample1.dat'], 'fmt': ['16', '16', '16', '16', '16', '16', '16', '16', '16', '16', '16', '16', '16', '16', '16', '16', '16', '16', '16', '16', '16', '16', '16', '16', '16', '16', '16', '16', '16', '16', '16', '16', '16', '16', '16', '16', '16', '16', '16', '16', '16', '16', '16', '16', '16', '16', '16', '16', '16', '16', '16', '16', '16', '16', '16', '16', '16', '16', '16', '16', '16', '16', '16', '16', '16', '16', '16', '16', '16', '16', '16', '16', '16', '16', '16', '16', '16', '16', '16', '16', '16', '16', '16', '16', '16', '16', '16', '16', '16', '16', '16', '16', '16', '16', '16', '16', '16', '16', '16', '16', '16', '16', '16', '16', '16', '16', '16', '16', '16', '16', '16', '16', '16', '16', '16', '16', '16', '16', '16', '16', '16', '16', '16', '16', '16', '16', '16', '16', '16', '16', '16', '16', '16', '16', '16', '16', '16', '16', '16', '16', '16', '16', '16', '16', '16', '16', '16', '16', '16', '16', '16', '16', '16', '16', '16', '16', '16', '16', '16', '16', '16', '16', '16', '16', '16', '16', '16', '16', '16', '16', '16', '16', '16', '16', '16', '16', '16', '16', '16', '16', '16', '16', '16', '16', '16', '16', '16', '16', '16', '16', '16', '16', '16', '16', '16', '16', '16', '16', '16', '16', '16', '16', '16', '16', '16', '16', '16', '16', '16', '16', '16', '16', '16', '16', '16', '16', '16', '16', '16', '16', '16', '16', '16', '16', '16', '16', '16', '16', '16', '16', '16', '16', '16', '16', '16', '16', '16', '16', '16', '16', '16', '16', '16', '16', '16', '16', '16', '16', '16', '16', '16', '16', '16', '16', '16', '16'], 'samps_per_frame': [1, 1, 1, 1, 1, 1, 1, 1, 1, 1, 1, 1, 1, 1, 1, 1, 1, 1, 1, 1, 1, 1, 1, 1, 1, 1, 1, 1, 1, 1, 1, 1, 1, 1, 1, 1, 1, 1, 1, 1, 1, 1, 1, 1, 1, 1, 1, 1, 1, 1, 1, 1, 1, 1, 1, 1, 1, 1, 1, 1, 1, 1, 1, 1, 1, 1, 1, 1, 1, 1, 1, 1, 1, 1, 1, 1, 1, 1, 1, 1, 1, 1, 1, 1, 1, 1, 1, 1, 1, 1, 1, 1, 1, 1, 1, 1, 1, 1, 1, 1, 1, 1, 1, 1, 1, 1, 1, 1, 1, 1, 1, 1, 1, 1, 1, 1, 1, 1, 1, 1, 1, 1, 1, 1, 1, 1, 1, 1, 1, 1, 1, 1, 1, 1, 1, 1, 1, 1, 1, 1, 1, 1, 1, 1, 1, 1, 1, 1, 1, 1, 1, 1, 1, 1, 1, 1, 1, 1, 1, 1, 1, 1, 1, 1, 1, 1, 1, 1, 1, 1, 1, 1, 1, 1, 1, 1, 1, 1, 1, 1, 1, 1, 1, 1, 1, 1, 1, 1, 1, 1, 1, 1, 1, 1, 1, 1, 1, 1, 1, 1, 1, 1, 1, 1, 1, 1, 1, 1, 1, 1, 1, 1, 1, 1, 1, 1, 1, 1, 1, 1, 1, 1, 1, 1, 1, 1, 1, 1, 1, 1, 1, 1, 1, 1, 1, 1, 1, 1, 1, 1, 1, 1, 1, 1, 1, 1, 1, 1, 1, 1, 1, 1, 1, 1, 1, 1], 'skew': [None, None, None, None, None, None, None, None, None, None, None, None, None, None, None, None, None, None, None, None, None, None, None, None, None, None, None, None, None, None, None, None, None, None, None, None, None, None, None, None, None, None, None, None, None, None, None, None, None, None, None, None, None, None, None, None, None, None, None, None, None, None, None, None, None, None, None, None, None, None, None, None, None, None, None, None, None, None, None, None, None, None, None, None, None, None, None, None, None, None, None, None, None, None, None, None, None, None, None, None, None, None, None, None, None, None, None, None, None, None, None, None, None, None, None, None, None, None, None, None, None, None, None, None, None, None, None, None, None, None, None, None, None, None, None, None, None, None, None, None, None, None, None, None, None, None, None, None, None, None, None, None, None, None, None, None, None, None, None, None, None, None, None, None, None, None, None, None, None, None, None, None, None, None, None, None, None, None, None, None, None, None, None, None, None, None, None, None, None, None, None, None, None, None, None, None, None, None, None, None, None, None, None, None, None, None, None, None, None, None, None, None, None, None, None, None, None, None, None, None, None, None, None, None, None, None, None, None, None, None, None, None, None, None, None, None, None, None, None, None, None, None, None, None, None, None, None, None, None, None, None, None, None, None, None, None], 'byte_offset': [None, None, None, None, None, None, None, None, None, None, None, None, None, None, None, None, None, None, None, None, None, None, None, None, None, None, None, None, None, None, None, None, None, None, None, None, None, None, None, None, None, None, None, None, None, None, None, None, None, None, None, None, None, None, None, None, None, None, None, None, None, None, None, None, None, None, None, None, None, None, None, None, None, None, None, None, None, None, None, None, None, None, None, None, None, None, None, None, None, None, None, None, None, None, None, None, None, None, None, None, None, None, None, None, None, None, None, None, None, None, None, None, None, None, None, None, None, None, None, None, None, None, None, None, None, None, None, None, None, None, None, None, None, None, None, None, None, None, None, None, None, None, None, None, None, None, None, None, None, None, None, None, None, None, None, None, None, None, None, None, None, None, None, None, None, None, None, None, None, None, None, None, None, None, None, None, None, None, None, None, None, None, None, None, None, None, None, None, None, None, None, None, None, None, None, None, None, None, None, None, None, None, None, None, None, None, None, None, None, None, None, None, None, None, None, None, None, None, None, None, None, None, None, None, None, None, None, None, None, None, None, None, None, None, None, None, None, None, None, None, None, None, None, None, None, None, None, None, None, None, None, None, None, None, None, None], 'adc_gain': [156973.9559, 95953.148, 47561.9981, 49522.753, 107172.4892, 167104.7466, 221369.4507, 249235.0223, 176942.9505, 118442.1876, 66669.6421, 69912.1608, 134174.5255, 244537.7053, 268417.5644, 283437.7569, 220087.9579, 166307.9873, 141129.2694, 125173.3644, 158420.8879, 256350.2654, 297094.9815, 315284.8281, 277699.3182, 237420.4564, 173978.7591, 142892.2995, 139291.4804, 234705.0306, 284753.3841, 337977.3856, 322549.6053, 281906.4661, 263539.442, 181221.7585, 153171.3139, 223232.4791, 277519.6672, 341015.9895, 350271.2402, 359909.2543, 338279.555, 239601.9337, 184079.8598, 247984.5862, 300119.386, 339875.3643, 373950.2568, 352411.381, 343977.4005, 285011.1264, 258173.6119, 323302.6134, 347612.4532, 356856.9596, 363685.9587, 294406.5517, 292557.3946, 286632.0388, 303486.1407, 364074.5563, 393436.0016, 393164.0779, 81390.8231, 87948.5076, 109130.7219, 186422.9795, 233110.4587, 217688.5931, 1124361.7677, 1127912.0261, 84429.2467, 82642.05, 119063.953, 197087.8083, 231252.2152, 225353.5301, 218913.4055, 210931.5486, 84621.3778, 73146.2233, 96619.3689, 150002.7199, 209494.686, 218365.3323, 221730.1133, 216302.9895, 100311.882, 81756.561, 90104.2284, 124255.1251, 173932.5783, 208375.8812, 215664.5924, 218719.9687, 115737.2208, 73776.8275, 69649.3504, 116019.24, 153737.8666, 192512.3112, 213232.7554, 220867.3356, 120420.6451, 73625.5718, 75858.8278, 97327.9419, 133423.6548, 175767.4677, 207603.9036, 223851.8338, 108379.7365, 84450.3196, 71623.4647, 73060.0862, 109427.4262, 151081.8827, 205703.2511, 225665.7907, 470673.6303, 87160.8682, 69099.8772, 71760.5823, 104153.039, 152696.1866, 214660.6234, 234978.0659, 203170.7472, 179802.6857, 151565.7148, 129884.9718, 110021.9741, 106875.6792, 124307.3063, 138695.1159, 207179.8303, 168040.4576, 145787.3631, 113094.8488, 100744.0557, 108544.2563, 138283.0077, 162556.3888, 212840.0196, 172826.3796, 147877.9855, 112656.5114, 109043.6363, 126865.2002, 142339.0269, 173574.3448, 247394.3438, 194477.9754, 173357.1064, 116727.3995, 131062.5227, 143876.4124, 164284.2133, 204461.8957, 231799.9177, 209444.6609, 195462.7643, 151948.0329, 143450.9325, 167797.8848, 191153.5554, 288645.95, 262289.0645, 255093.0045, 203605.8848, 183619.3224, 178342.1557, 191245.4714, 268991.808, 348127.5662, 288869.6155, 283748.6851, 238507.8233, 212408.764, 249279.1602, 286020.9542, 329211.7922, 377538.8287, 341385.5676, 324162.1127, 254702.7782, 230619.6767, 302198.7723, 372725.9332, 459381.1677, 405178.4215, 195064.7194, 197772.5498, 181360.0936, 172833.6469, 168276.2929, 164148.284, 927068.0072, 142411.4945, 196071.2164, 184526.4936, 174544.5049, 171538.277, 167601.9308, 153322.3713, 137696.5645, 149510.013, 193244.2181, 175770.0431, 155605.2147, 165719.6363, 160898.9711, 140834.3517, 129854.9341, 132277.4502, 190079.4587, 178392.755, 169819.6936, 163515.1574, 158945.6547, 141959.5396, 124863.9054, 133779.1403, 189250.3886, 177299.8656, 163223.9226, 162957.4111, 159591.0096, 135281.1401, 120915.867, 127409.7211, 195205.2361, 183309.559, 170305.3402, 163255.8153, 142663.5152, 118758.2718, 110562.8914, 129799.3662, 194106.6, 184611.5174, 167383.8211, 156324.4689, 132563.5473, 116682.2718, 114343.6408, 131916.3212, 202071.6932, 180988.6838, 162104.0305, 144309.5059, 123841.6745, 114398.3663, 124585.4441, 138808.6907], 'baseline': [-3113, -4683, -3893, -1831, -2329, -1880, -1451, -2468, -3768, -4899, -4780, -1589, -1306, -1105, -1647, -4187, -2742, -4207, -3573, 3458, 6015, -530, -2310, -4630, -1541, -5666, -9047, -3245, 5502, -136, -1993, -3574, -5292, -4086, -11401, -4753, 3296, -93, -1993, -2390, -6172, -2761, -4393, -4423, -4115, -1299, -1556, -339, -4393, -2920, -1967, -4179, -3332, -2194, -805, 3215, -1985, -3846, -2218, -6580, -6164, -2684, 434, 3947, 8834, 6930, 1929, -1720, -2633, -3098, 1432, 1361, 8496, 5993, -627, -3181, -2298, -3182, -3453, -3900, 3507, 147, -5657, -3174, 246, -1679, -4030, -4334, -3608, -3165, -2623, -2350, -491, -492, -2688, -4841, -365, -1494, -1247, -509, -355, 861, -2141, -4666, -2312, -8638, -3885, 321, -637, -387, -584, -4301, -2403, -1913, -288, -2170, -1808, -786, -165, -4187, 7255, -3866, -2803, -3148, -2041, -733, -999, -3755, -5195, -4973, -5176, -4864, -2625, -2672, -1449, -1076, -3387, -1173, -4339, -2645, -292, -1215, -3613, -2497, -1816, -436, -1453, -176, 757, 534, -204, -1426, -1266, -1741, -170, 1121, -2962, -4565, -5955, -4797, -2203, -2258, -2057, 104, -2781, -5705, -7389, -7877, -1106, -2995, 884, 1004, -252, -2368, -7546, -8412, -663, -2702, 3133, 4955, 3156, -217, -4109, -7340, 1220, 873, 5264, 7151, 3682, 3619, -2938, -4696, -1905, -1987, -1607, -990, -1238, -1621, 3279, 2397, -2119, -2198, -2167, -2361, -2726, -1311, 1553, 359, -2028, -1281, 1918, -1374, -2319, 401, 2216, 2797, -2041, -1866, -1777, -1977, -2350, 453, 1024, 708, -2187, -2338, -1681, -2037, -2536, -2555, -836, -466, -2669, -2284, -1992, -3124, -95, 2070, 1302, -994, -2614, -2431, -2407, -3128, 315, 2497, 2211, 649, -2810, -2958, -1906, -2039, 614, 1465, 1177, 1192], 'units': ['V', 'V', 'V', 'V', 'V', 'V', 'V', 'V', 'V', 'V', 'V', 'V', 'V', 'V', 'V', 'V', 'V', 'V', 'V', 'V', 'V', 'V', 'V', 'V', 'V', 'V', 'V', 'V', 'V', 'V', 'V', 'V', 'V', 'V', 'V', 'V', 'V', 'V', 'V', 'V', 'V', 'V', 'V', 'V', 'V', 'V', 'V', 'V', 'V', 'V', 'V', 'V', 'V', 'V', 'V', 'V', 'V', 'V', 'V', 'V', 'V', 'V', 'V', 'V', 'V', 'V', 'V', 'V', 'V', 'V', 'V', 'V', 'V', 'V', 'V', 'V', 'V', 'V', 'V', 'V', 'V', 'V', 'V', 'V', 'V', 'V', 'V', 'V', 'V', 'V', 'V', 'V', 'V', 'V', 'V', 'V', 'V', 'V', 'V', 'V', 'V', 'V', 'V', 'V', 'V', 'V', 'V', 'V', 'V', 'V', 'V', 'V', 'V', 'V', 'V', 'V', 'V', 'V', 'V', 'V', 'V', 'V', 'V', 'V', 'V', 'V', 'V', 'V', 'V', 'V', 'V', 'V', 'V', 'V', 'V', 'V', 'V', 'V', 'V', 'V', 'V', 'V', 'V', 'V', 'V', 'V', 'V', 'V', 'V', 'V', 'V', 'V', 'V', 'V', 'V', 'V', 'V', 'V', 'V', 'V', 'V', 'V', 'V', 'V', 'V', 'V', 'V', 'V', 'V', 'V', 'V', 'V', 'V', 'V', 'V', 'V', 'V', 'V', 'V', 'V', 'V', 'V', 'V', 'V', 'V', 'V', 'V', 'V', 'V', 'V', 'V', 'V', 'V', 'V', 'V', 'V', 'V', 'V', 'V', 'V', 'V', 'V', 'V', 'V', 'V', 'V', 'V', 'V', 'V', 'V', 'V', 'V', 'V', 'V', 'V', 'V', 'V', 'V', 'V', 'V', 'V', 'V', 'V', 'V', 'V', 'V', 'V', 'V', 'V', 'V', 'V', 'V', 'V', 'V', 'V', 'V', 'V', 'V', 'V', 'V', 'V', 'V', 'V', 'V', 'V', 'V', 'V', 'V', 'V', 'V', 'V', 'V', 'V', 'V', 'V', 'V'], 'adc_res': [0, 0, 0, 0, 0, 0, 0, 0, 0, 0, 0, 0, 0, 0, 0, 0, 0, 0, 0, 0, 0, 0, 0, 0, 0, 0, 0, 0, 0, 0, 0, 0, 0, 0, 0, 0, 0, 0, 0, 0, 0, 0, 0, 0, 0, 0, 0, 0, 0, 0, 0, 0, 0, 0, 0, 0, 0, 0, 0, 0, 0, 0, 0, 0, 0, 0, 0, 0, 0, 0, 0, 0, 0, 0, 0, 0, 0, 0, 0, 0, 0, 0, 0, 0, 0, 0, 0, 0, 0, 0, 0, 0, 0, 0, 0, 0, 0, 0, 0, 0, 0, 0, 0, 0, 0, 0, 0, 0, 0, 0, 0, 0, 0, 0, 0, 0, 0, 0, 0, 0, 0, 0, 0, 0, 0, 0, 0, 0, 0, 0, 0, 0, 0, 0, 0, 0, 0, 0, 0, 0, 0, 0, 0, 0, 0, 0, 0, 0, 0, 0, 0, 0, 0, 0, 0, 0, 0, 0, 0, 0, 0, 0, 0, 0, 0, 0, 0, 0, 0, 0, 0, 0, 0, 0, 0, 0, 0, 0, 0, 0, 0, 0, 0, 0, 0, 0, 0, 0, 0, 0, 0, 0, 0, 0, 0, 0, 0, 0, 0, 0, 0, 0, 0, 0, 0, 0, 0, 0, 0, 0, 0, 0, 0, 0, 0, 0, 0, 0, 0, 0, 0, 0, 0, 0, 0, 0, 0, 0, 0, 0, 0, 0, 0, 0, 0, 0, 0, 0, 0, 0, 0, 0, 0, 0, 0, 0, 0, 0, 0, 0, 0, 0, 0, 0, 0, 0], 'adc_zero': [0, 0, 0, 0, 0, 0, 0, 0, 0, 0, 0, 0, 0, 0, 0, 0, 0, 0, 0, 0, 0, 0, 0, 0, 0, 0, 0, 0, 0, 0, 0, 0, 0, 0, 0, 0, 0, 0, 0, 0, 0, 0, 0, 0, 0, 0, 0, 0, 0, 0, 0, 0, 0, 0, 0, 0, 0, 0, 0, 0, 0, 0, 0, 0, 0, 0, 0, 0, 0, 0, 0, 0, 0, 0, 0, 0, 0, 0, 0, 0, 0, 0, 0, 0, 0, 0, 0, 0, 0, 0, 0, 0, 0, 0, 0, 0, 0, 0, 0, 0, 0, 0, 0, 0, 0, 0, 0, 0, 0, 0, 0, 0, 0, 0, 0, 0, 0, 0, 0, 0, 0, 0, 0, 0, 0, 0, 0, 0, 0, 0, 0, 0, 0, 0, 0, 0, 0, 0, 0, 0, 0, 0, 0, 0, 0, 0, 0, 0, 0, 0, 0, 0, 0, 0, 0, 0, 0, 0, 0, 0, 0, 0, 0, 0, 0, 0, 0, 0, 0, 0, 0, 0, 0, 0, 0, 0, 0, 0, 0, 0, 0, 0, 0, 0, 0, 0, 0, 0, 0, 0, 0, 0, 0, 0, 0, 0, 0, 0, 0, 0, 0, 0, 0, 0, 0, 0, 0, 0, 0, 0, 0, 0, 0, 0, 0, 0, 0, 0, 0, 0, 0, 0, 0, 0, 0, 0, 0, 0, 0, 0, 0, 0, 0, 0, 0, 0, 0, 0, 0, 0, 0, 0, 0, 0, 0, 0, 0, 0, 0, 0, 0, 0, 0, 0, 0, 0], 'init_value': [-1201, -3492, -3568, -1816, -3507, -2838, -1444, -3168, -1640, -3543, -4131, -1026, -154, -821, -610, -4313, -734, -2317, -1617, 5344, 7869, 632, -1593, -3801, 704, -3397, -6489, -1058, 6915, 936, -462, -2116, -4500, -954, -9326, -3736, 4346, 1414, -1061, -808, -6102, -2309, -2350, -3562, -2179, 470, -7, 600, -4141, -2591, 228, -3415, -1621, -4, 2712, 6858, -2110, -3725, -2180, -6386, -4573, -305, 3922, 7128, 9314, 7316, 1487, -3872, -5969, -6022, -8141, -8839, 9341, 6552, -535, -3641, -5311, -5919, -6736, -6614, 4057, 476, -5670, -4137, -1274, -3684, -6364, -6663, -2848, -2768, -2241, -2654, -1690, -2337, -4558, -6782, 598, -761, -638, -292, -982, -50, -3869, -6932, -993, -7838, -3064, 1008, -800, -598, -1871, -6127, -659, -1151, 454, -1765, -1791, -1483, -1845, -5755, -202, -2947, -2440, -3132, -2247, -1558, -2171, -5463, -6183, -5481, -5591, -4911, -2663, -2841, -1321, -1093, -3748, -1307, -4504, -2900, -305, -1343, -3186, -1845, -3336, -1086, -1722, -157, 805, 617, -476, -770, -2372, -2414, -717, 919, -2779, -4558, -6012, -3644, -2717, -2008, -1710, -59, -2538, -5710, -6631, -6775, -1262, -2872, 995, 863, 418, -1937, -6316, -8234, -533, -2593, 3964, 6347, 3513, 159, -3506, -6199, 1320, 1606, 5960, 7405, 3845, 4987, -1952, -3794, -5189, -5989, -4725, -4366, -4624, -3806, -4809, 454, -5710, -5768, -5308, -5814, -5620, -3120, -206, -842, -5359, -3879, -894, -4237, -5363, -1971, 437, 1504, -4756, -4895, -4415, -4358, -4389, -2064, -607, -499, -4684, -4837, -3876, -4320, -4796, -4497, -2476, -1494, -5328, -4793, -3958, -5338, -1724, 605, 52, -2298, -4992, -4867, -4403, -4858, -1240, 988, 1086, -776, -5463, -5222, -3559, -3752, -816, 338, 106, -45], 'checksum': [-14464, -7287, -27974, 19715, -29695, 12869, 19000, -937, 17827, -24655, 30599, -18185, 27684, -13770, 1127, -503, -11388, 15691, -21124, -7659, 2639, -7413, 30170, -5192, 25932, 27297, 11168, -16724, 22460, -25280, -191, -27411, -19573, -26394, -14082, -23685, -6435, -2383, -8239, 1887, 24256, -2081, -15087, -32695, 15424, 9846, -4224, 18569, -10678, 29195, 17241, -11054, 5948, 24239, 26394, -26102, 32198, -28456, 6661, 30315, 31675, 27989, -20913, 14916, -26246, -209, -6819, 9994, 32676, -28207, 10817, -8945, 25001, 1308, 12648, -14495, 32036, -911, 1538, -27069, -5833, -3551, 19354, 20396, 11939, 7028, 25932, 8545, 20859, 16370, -18399, 1986, 2896, -23595, -8216, -8615, -2244, -13497, -14306, 15264, 10349, -23971, 9440, -31342, -31706, -32062, -12780, -25956, 17754, -31221, 28553, 23608, -15606, 26270, -15249, -29741, 18129, -13971, -6440, 31577, 6484, 23888, -3285, 22426, 24570, 11304, 17421, -6073, -27149, -18311, 20136, 17043, 22917, 27192, 2102, 29818, -2595, 26005, 27673, -20688, 8159, -6223, -6827, -32182, 22665, 23592, -5331, -25131, 30853, 18588, -26395, -10735, 29887, 1750, 13686, -17428, 15097, -10467, -9121, -23939, -7118, 15002, 10314, 26600, -25999, 18563, -18894, 19325, -30342, 28493, -27219, -20571, 7797, -6009, -11171, 13388, 17982, 11433, -17625, 5047, -32391, 6001, -10364, -24336, 22111, 12583, -799, -23614, -20461, -11062, 14010, -9400, -8624, -13114, -26427, -19522, -26888, -24305, 8488, 5682, -12130, 2564, 13991, -20689, 17968, -1432, -27098, -18637, -11351, -28382, -8690, -28706, 4059, 18691, 11559, 17063, 31259, 14811, -30290, -27401, 6076, -11340, 2179, 19127, -25457, 14312, -25856, -23027, -14463, -9762, -22016, -5796, -20478, -17979, -30267, 9185, -18347, 19495, 27092, -32274, -16616, -12790, 23083, 12762, -3243, -25402, 28847, 3615, -6980, 93, -15543, 24932, -14723, -28992, -26310, 27653], 'block_size': [0, 0, 0, 0, 0, 0, 0, 0, 0, 0, 0, 0, 0, 0, 0, 0, 0, 0, 0, 0, 0, 0, 0, 0, 0, 0, 0, 0, 0, 0, 0, 0, 0, 0, 0, 0, 0, 0, 0, 0, 0, 0, 0, 0, 0, 0, 0, 0, 0, 0, 0, 0, 0, 0, 0, 0, 0, 0, 0, 0, 0, 0, 0, 0, 0, 0, 0, 0, 0, 0, 0, 0, 0, 0, 0, 0, 0, 0, 0, 0, 0, 0, 0, 0, 0, 0, 0, 0, 0, 0, 0, 0, 0, 0, 0, 0, 0, 0, 0, 0, 0, 0, 0, 0, 0, 0, 0, 0, 0, 0, 0, 0, 0, 0, 0, 0, 0, 0, 0, 0, 0, 0, 0, 0, 0, 0, 0, 0, 0, 0, 0, 0, 0, 0, 0, 0, 0, 0, 0, 0, 0, 0, 0, 0, 0, 0, 0, 0, 0, 0, 0, 0, 0, 0, 0, 0, 0, 0, 0, 0, 0, 0, 0, 0, 0, 0, 0, 0, 0, 0, 0, 0, 0, 0, 0, 0, 0, 0, 0, 0, 0, 0, 0, 0, 0, 0, 0, 0, 0, 0, 0, 0, 0, 0, 0, 0, 0, 0, 0, 0, 0, 0, 0, 0, 0, 0, 0, 0, 0, 0, 0, 0, 0, 0, 0, 0, 0, 0, 0, 0, 0, 0, 0, 0, 0, 0, 0, 0, 0, 0, 0, 0, 0, 0, 0, 0, 0, 0, 0, 0, 0, 0, 0, 0, 0, 0, 0, 0, 0, 0, 0, 0, 0, 0, 0, 0]}\n"
     ]
    }
   ],
   "source": [
    "# Read a WFDB record\n",
    "record_force = wfdb.rdrecord('../data/1dof_dataset/subject10_session1/1dof_force_finger4_sample1')\n",
    "record_emg = wfdb.rdrecord('../data/1dof_dataset/subject10_session1/1dof_preprocess_finger4_sample1')\n",
    "\n",
    "# Display basic information about the record\n",
    "print(record_force.__dict__)\n",
    "print(record_emg.__dict__)"
   ]
  },
  {
   "cell_type": "code",
   "execution_count": 88,
   "metadata": {},
   "outputs": [
    {
     "name": "stdout",
     "output_type": "stream",
     "text": [
      "emg.shape:(256, 51200)\n",
      "force.shape:(5, 2500)\n",
      "force_sampled.shape:(5, 51200)\n"
     ]
    }
   ],
   "source": [
    "emg_raw = np.array(record_emg.__dict__['p_signal'].T)\n",
    "force_raw = np.array(record_force.__dict__['p_signal'].T)\n",
    "\n",
    "num_frames = emg_raw.shape[-1]\n",
    "force_sampled = np.array(upsample_fractional(force_raw, emg_raw.shape[-1]/force_raw.shape[-1]))\n",
    "\n",
    "print(\"emg.shape:\"+str(emg_raw.shape))\n",
    "print(\"force.shape:\"+str(force_raw.shape))\n",
    "print(\"force_sampled.shape:\"+str(force_sampled.shape))"
   ]
  },
  {
   "cell_type": "code",
   "execution_count": 89,
   "metadata": {},
   "outputs": [
    {
     "data": {
      "text/plain": [
       "(array([[-0.62468256]]), array([[0.77078343]]))"
      ]
     },
     "execution_count": 89,
     "metadata": {},
     "output_type": "execute_result"
    }
   ],
   "source": [
    "(np.min(emg_raw, keepdims=True), np.max(emg_raw, keepdims=True))"
   ]
  },
  {
   "cell_type": "code",
   "execution_count": 90,
   "metadata": {},
   "outputs": [
    {
     "data": {
      "text/plain": [
       "(array([[-0.18262633]]), array([[0.09543389]]))"
      ]
     },
     "execution_count": 90,
     "metadata": {},
     "output_type": "execute_result"
    }
   ],
   "source": [
    "(np.min(force_sampled, keepdims=True), np.max(force_sampled, keepdims=True))"
   ]
  },
  {
   "cell_type": "code",
   "execution_count": 91,
   "metadata": {},
   "outputs": [],
   "source": [
    "\n",
    "#emg_raw = emg_raw - np.mean(emg_raw, axis=1, keepdims=True) # Normalize to first 10 frames\n",
    "\n",
    "emg_hdsmg_min = np.min(emg_raw, axis=1, keepdims=True)\n",
    "emg_hdsmg_max = np.max(emg_raw, axis=1, keepdims=True)\n",
    "emg_hdsmg_range = emg_hdsmg_max - emg_hdsmg_min\n",
    "emg_final = (emg_raw - emg_hdsmg_min) / emg_hdsmg_range\n",
    "\n",
    "force_min = np.min(force_sampled, keepdims=True)\n",
    "force_max = np.max(force_sampled, keepdims=True)\n",
    "force_range = force_max - force_min\n",
    "force_final = (force_sampled - force_min) / force_range\n",
    "\n",
    "#force_final = force_sampled"
   ]
  },
  {
   "cell_type": "code",
   "execution_count": 92,
   "metadata": {},
   "outputs": [
    {
     "name": "stdout",
     "output_type": "stream",
     "text": [
      "emg.final:[[0.]][[1.]]\n",
      "force.final:[[0.]][[1.]]\n"
     ]
    }
   ],
   "source": [
    "print(\"emg.final:\"+str(np.min(emg_final, keepdims=True)) + str(np.max(emg_final, keepdims=True)))\n",
    "print(\"force.final:\"+str(np.min(force_final, keepdims=True)) + str(np.max(force_final, keepdims=True)))"
   ]
  },
  {
   "cell_type": "code",
   "execution_count": 93,
   "metadata": {},
   "outputs": [],
   "source": [
    "fps = 100\n",
    "class EmgKinVisualizer:\n",
    "    def __init__(self, width=800, height=600):\n",
    "        self.speed = 30\n",
    "        self.width = width\n",
    "        self.height = height\n",
    "        self.current_frame = 0\n",
    "        self.running = False\n",
    "\n",
    "        self.screen = pygame.display.set_mode(\n",
    "            (width, height + 50))  # Extra height for timeline\n",
    "        pygame.display.set_caption(\"EMG and Kinematics Visualizer\")\n",
    "\n",
    "        self.timeline_rect = pygame.Rect(50, height + 10, width - 100, 30)\n",
    "        self.slider_rect = pygame.Rect(50, height + 10, 10, 30)\n",
    "        self.exit_button_rect = pygame.Rect(700, 10, 60, 30)\n",
    "\n",
    "    def run(self):\n",
    "        clock = pygame.time.Clock()\n",
    "\n",
    "        while True:\n",
    "            for event in pygame.event.get():\n",
    "                if event.type == pygame.QUIT:\n",
    "                    pygame.quit()\n",
    "                    return\n",
    "                elif event.type == pygame.KEYDOWN:\n",
    "                    self.handle_key_event(event.key)\n",
    "                elif event.type == pygame.MOUSEBUTTONDOWN:\n",
    "                    if event.button == 1:  # Left mouse button\n",
    "                        if self.timeline_rect.collidepoint(event.pos):\n",
    "                            self.update_frame_from_mouse(event.pos[0])\n",
    "                        if self.exit_button_rect.collidepoint(event.pos):\n",
    "                            pygame.quit()\n",
    "                            return\n",
    "                elif event.type == pygame.MOUSEMOTION:\n",
    "                    if event.buttons[0]:  # Left mouse button held down\n",
    "                        if self.timeline_rect.collidepoint(event.pos):\n",
    "                            self.update_frame_from_mouse(event.pos[0])\n",
    "\n",
    "            if self.running:\n",
    "                self.current_frame += self.speed\n",
    "                if self.current_frame >= num_frames:\n",
    "                    self.current_frame = 0\n",
    "                elif self.current_frame < 0:\n",
    "                    self.current_frame = num_frames - 1\n",
    "\n",
    "            self.draw()\n",
    "            pygame.display.flip()\n",
    "            clock.tick(fps)\n",
    "\n",
    "    def draw(self):\n",
    "        self.screen.fill((0, 0, 0))\n",
    "        \n",
    "        # Draw emg data\n",
    "        viz_emg(self.screen, emg_final[:, self.current_frame])\n",
    "\n",
    "        # Draw glove data\n",
    "        viz_force(self.screen, force_final[:, self.current_frame])\n",
    "\n",
    "        # Draw timeline\n",
    "        pygame.draw.rect(self.screen, (100, 100, 100), self.timeline_rect)\n",
    "        slider_x = int(self.timeline_rect.left +\n",
    "                       (self.current_frame / num_frames) * self.timeline_rect.width)\n",
    "        self.slider_rect.left = slider_x\n",
    "        pygame.draw.rect(self.screen, (200, 200, 200), self.slider_rect)\n",
    "\n",
    "        # Draw current frame number\n",
    "        text = font.render(\n",
    "            f\"Frame: {self.current_frame}/{num_frames-1}\", True, (200, 200, 200))\n",
    "        self.screen.blit(text, (10, self.height - 30))\n",
    "\n",
    "        # Draw exit button\n",
    "        pygame.draw.rect(self.screen, (200, 50, 50), self.exit_button_rect)\n",
    "        exit_text = font.render(\"Exit\", True, (255, 255, 255))\n",
    "        self.screen.blit(exit_text, (self.exit_button_rect.x + 10, self.exit_button_rect.y + 5))\n",
    "\n",
    "    def handle_key_event(self, key):\n",
    "        if key == pygame.K_SPACE:\n",
    "            self.running = not self.running\n",
    "        elif key == pygame.K_RIGHT:\n",
    "            self.speed = 1\n",
    "            self.running = True\n",
    "        elif key == pygame.K_LEFT:\n",
    "            self.speed = -1\n",
    "            self.running = True\n",
    "        elif key == pygame.K_UP:\n",
    "            self.speed = min(self.speed * 2, 16)\n",
    "        elif key == pygame.K_DOWN:\n",
    "            self.speed = max(self.speed // 2, 1)\n",
    "\n",
    "    def update_frame_from_mouse(self, mouse_x):\n",
    "        timeline_x = mouse_x - self.timeline_rect.left\n",
    "        frame_ratio = timeline_x / self.timeline_rect.width\n",
    "        self.current_frame = int(frame_ratio * num_frames)\n",
    "        self.current_frame = max(0, min(self.current_frame, num_frames - 1))\n",
    "        self.running = False\n",
    "\n",
    "\n",
    "if __name__ == \"__main__\":\n",
    "    visualizer = EmgKinVisualizer()\n",
    "    visualizer.run()"
   ]
  }
 ],
 "metadata": {
  "kernelspec": {
   "display_name": "emgkin",
   "language": "python",
   "name": "python3"
  },
  "language_info": {
   "codemirror_mode": {
    "name": "ipython",
    "version": 3
   },
   "file_extension": ".py",
   "mimetype": "text/x-python",
   "name": "python",
   "nbconvert_exporter": "python",
   "pygments_lexer": "ipython3",
   "version": "3.12.5"
  }
 },
 "nbformat": 4,
 "nbformat_minor": 2
}
